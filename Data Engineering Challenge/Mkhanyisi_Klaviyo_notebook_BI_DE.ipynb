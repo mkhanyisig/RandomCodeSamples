{
 "cells": [
  {
   "cell_type": "code",
   "execution_count": 82,
   "metadata": {},
   "outputs": [],
   "source": [
    "# Mkhanyisi Gamedze\n",
    "# email: mkhanyisi.g@gmail.com\n",
    "# mobile: 2076169348 / 7865491972\n",
    "# Klaviyo BI Data Engineer Challenge\n",
    "# 21 December 2019\n",
    "\n",
    "import pandas as pd\n",
    "import numpy as np\n",
    "import matplotlib.pyplot as plt\n",
    "import seaborn as sns\n",
    "import os\n",
    "\n",
    "sns.set_context('notebook')\n",
    "plt.style.use('fivethirtyeight')\n",
    "plt.rcParams['lines.linewidth'] = 1.0\n",
    "\n",
    "%matplotlib inline"
   ]
  },
  {
   "cell_type": "markdown",
   "metadata": {},
   "source": [
    "## Load data"
   ]
  },
  {
   "cell_type": "code",
   "execution_count": 83,
   "metadata": {},
   "outputs": [],
   "source": [
    "curr_dir = os.getcwd()\n",
    "dt_path = os.path.join(curr_dir, 'exercise-data.csv/')"
   ]
  },
  {
   "cell_type": "code",
   "execution_count": 84,
   "metadata": {},
   "outputs": [],
   "source": [
    "#dt = pd.read_csv(os.path.join(dt_path), 'exercise-data.csv')\n",
    "dt = pd.read_csv('exercise-data.csv')"
   ]
  },
  {
   "cell_type": "markdown",
   "metadata": {},
   "source": [
    "# Question 1\n",
    "\n",
    "Trying to identify possible data errors through quality assurance techniques or data cleaning "
   ]
  },
  {
   "cell_type": "code",
   "execution_count": 85,
   "metadata": {},
   "outputs": [
    {
     "name": "stdout",
     "output_type": "stream",
     "text": [
      "<class 'pandas.core.frame.DataFrame'>\n",
      "RangeIndex: 1048575 entries, 0 to 1048574\n",
      "Data columns (total 7 columns):\n",
      "Unnamed: 0    1048575 non-null int64\n",
      "delivered     1048575 non-null int64\n",
      "opened        1048575 non-null int64\n",
      "clicked       1048575 non-null int64\n",
      "orders        1048575 non-null int64\n",
      "aov           1048575 non-null float64\n",
      "type          1048575 non-null int64\n",
      "dtypes: float64(1), int64(6)\n",
      "memory usage: 56.0 MB\n"
     ]
    }
   ],
   "source": [
    "dt.info()"
   ]
  },
  {
   "cell_type": "code",
   "execution_count": 86,
   "metadata": {},
   "outputs": [
    {
     "name": "stdout",
     "output_type": "stream",
     "text": [
      "Shape of Dataframe\n"
     ]
    },
    {
     "data": {
      "text/plain": [
       "(1048575, 7)"
      ]
     },
     "execution_count": 86,
     "metadata": {},
     "output_type": "execute_result"
    }
   ],
   "source": [
    "print (\"Shape of Dataframe\")\n",
    "dt.shape"
   ]
  },
  {
   "cell_type": "code",
   "execution_count": 87,
   "metadata": {
    "scrolled": true
   },
   "outputs": [
    {
     "data": {
      "text/html": [
       "<div>\n",
       "<style scoped>\n",
       "    .dataframe tbody tr th:only-of-type {\n",
       "        vertical-align: middle;\n",
       "    }\n",
       "\n",
       "    .dataframe tbody tr th {\n",
       "        vertical-align: top;\n",
       "    }\n",
       "\n",
       "    .dataframe thead th {\n",
       "        text-align: right;\n",
       "    }\n",
       "</style>\n",
       "<table border=\"1\" class=\"dataframe\">\n",
       "  <thead>\n",
       "    <tr style=\"text-align: right;\">\n",
       "      <th></th>\n",
       "      <th>Unnamed: 0</th>\n",
       "      <th>delivered</th>\n",
       "      <th>opened</th>\n",
       "      <th>clicked</th>\n",
       "      <th>orders</th>\n",
       "      <th>aov</th>\n",
       "      <th>type</th>\n",
       "    </tr>\n",
       "  </thead>\n",
       "  <tbody>\n",
       "    <tr>\n",
       "      <th>0</th>\n",
       "      <td>1</td>\n",
       "      <td>70</td>\n",
       "      <td>28</td>\n",
       "      <td>0</td>\n",
       "      <td>0</td>\n",
       "      <td>87.12</td>\n",
       "      <td>0</td>\n",
       "    </tr>\n",
       "    <tr>\n",
       "      <th>1</th>\n",
       "      <td>2</td>\n",
       "      <td>593202</td>\n",
       "      <td>103976</td>\n",
       "      <td>2071</td>\n",
       "      <td>117</td>\n",
       "      <td>98.01</td>\n",
       "      <td>1</td>\n",
       "    </tr>\n",
       "    <tr>\n",
       "      <th>2</th>\n",
       "      <td>3</td>\n",
       "      <td>24693</td>\n",
       "      <td>2532</td>\n",
       "      <td>43</td>\n",
       "      <td>5</td>\n",
       "      <td>58.73</td>\n",
       "      <td>2</td>\n",
       "    </tr>\n",
       "    <tr>\n",
       "      <th>3</th>\n",
       "      <td>4</td>\n",
       "      <td>3377</td>\n",
       "      <td>971</td>\n",
       "      <td>22</td>\n",
       "      <td>2</td>\n",
       "      <td>56.03</td>\n",
       "      <td>0</td>\n",
       "    </tr>\n",
       "    <tr>\n",
       "      <th>4</th>\n",
       "      <td>5</td>\n",
       "      <td>329913</td>\n",
       "      <td>101421</td>\n",
       "      <td>1680</td>\n",
       "      <td>166</td>\n",
       "      <td>58.83</td>\n",
       "      <td>2</td>\n",
       "    </tr>\n",
       "  </tbody>\n",
       "</table>\n",
       "</div>"
      ],
      "text/plain": [
       "   Unnamed: 0  delivered  opened  clicked  orders    aov  type\n",
       "0           1         70      28        0       0  87.12     0\n",
       "1           2     593202  103976     2071     117  98.01     1\n",
       "2           3      24693    2532       43       5  58.73     2\n",
       "3           4       3377     971       22       2  56.03     0\n",
       "4           5     329913  101421     1680     166  58.83     2"
      ]
     },
     "execution_count": 87,
     "metadata": {},
     "output_type": "execute_result"
    }
   ],
   "source": [
    "dt.head()"
   ]
  },
  {
   "cell_type": "markdown",
   "metadata": {},
   "source": [
    "replace \"Unamed: 0\" column title with \"campaign\", as that column represents each campaign number/ID used and it's corresponding row metrics"
   ]
  },
  {
   "cell_type": "code",
   "execution_count": 88,
   "metadata": {},
   "outputs": [
    {
     "data": {
      "text/html": [
       "<div>\n",
       "<style scoped>\n",
       "    .dataframe tbody tr th:only-of-type {\n",
       "        vertical-align: middle;\n",
       "    }\n",
       "\n",
       "    .dataframe tbody tr th {\n",
       "        vertical-align: top;\n",
       "    }\n",
       "\n",
       "    .dataframe thead th {\n",
       "        text-align: right;\n",
       "    }\n",
       "</style>\n",
       "<table border=\"1\" class=\"dataframe\">\n",
       "  <thead>\n",
       "    <tr style=\"text-align: right;\">\n",
       "      <th></th>\n",
       "      <th>campaign</th>\n",
       "      <th>delivered</th>\n",
       "      <th>opened</th>\n",
       "      <th>clicked</th>\n",
       "      <th>orders</th>\n",
       "      <th>aov</th>\n",
       "      <th>type</th>\n",
       "    </tr>\n",
       "  </thead>\n",
       "  <tbody>\n",
       "    <tr>\n",
       "      <th>0</th>\n",
       "      <td>1</td>\n",
       "      <td>70</td>\n",
       "      <td>28</td>\n",
       "      <td>0</td>\n",
       "      <td>0</td>\n",
       "      <td>87.12</td>\n",
       "      <td>0</td>\n",
       "    </tr>\n",
       "    <tr>\n",
       "      <th>1</th>\n",
       "      <td>2</td>\n",
       "      <td>593202</td>\n",
       "      <td>103976</td>\n",
       "      <td>2071</td>\n",
       "      <td>117</td>\n",
       "      <td>98.01</td>\n",
       "      <td>1</td>\n",
       "    </tr>\n",
       "    <tr>\n",
       "      <th>2</th>\n",
       "      <td>3</td>\n",
       "      <td>24693</td>\n",
       "      <td>2532</td>\n",
       "      <td>43</td>\n",
       "      <td>5</td>\n",
       "      <td>58.73</td>\n",
       "      <td>2</td>\n",
       "    </tr>\n",
       "    <tr>\n",
       "      <th>3</th>\n",
       "      <td>4</td>\n",
       "      <td>3377</td>\n",
       "      <td>971</td>\n",
       "      <td>22</td>\n",
       "      <td>2</td>\n",
       "      <td>56.03</td>\n",
       "      <td>0</td>\n",
       "    </tr>\n",
       "    <tr>\n",
       "      <th>4</th>\n",
       "      <td>5</td>\n",
       "      <td>329913</td>\n",
       "      <td>101421</td>\n",
       "      <td>1680</td>\n",
       "      <td>166</td>\n",
       "      <td>58.83</td>\n",
       "      <td>2</td>\n",
       "    </tr>\n",
       "  </tbody>\n",
       "</table>\n",
       "</div>"
      ],
      "text/plain": [
       "   campaign  delivered  opened  clicked  orders    aov  type\n",
       "0         1         70      28        0       0  87.12     0\n",
       "1         2     593202  103976     2071     117  98.01     1\n",
       "2         3      24693    2532       43       5  58.73     2\n",
       "3         4       3377     971       22       2  56.03     0\n",
       "4         5     329913  101421     1680     166  58.83     2"
      ]
     },
     "execution_count": 88,
     "metadata": {},
     "output_type": "execute_result"
    }
   ],
   "source": [
    "dt.rename(columns={\"Unnamed: 0\":\"campaign\"},inplace=True)\n",
    "dt.head()"
   ]
  },
  {
   "cell_type": "code",
   "execution_count": 89,
   "metadata": {},
   "outputs": [
    {
     "data": {
      "text/plain": [
       "campaign     0\n",
       "delivered    0\n",
       "opened       0\n",
       "clicked      0\n",
       "orders       0\n",
       "aov          0\n",
       "type         0\n",
       "dtype: int64"
      ]
     },
     "execution_count": 89,
     "metadata": {},
     "output_type": "execute_result"
    }
   ],
   "source": [
    "# data quality control for analysis\n",
    "\n",
    "\"\"\" Account for these in further analysis \"\"\"\n",
    "# missing data, wrong entries (negative(-ve) prices/aov), extreme outliers, duplicates, mixed data types, \n",
    "# 1. negative average order value\n",
    "# 2. outliers: unrepresentative of the typical clients\n",
    "# 3. \n",
    "\n",
    "# check for null values in millions of lines\n",
    "dt.isnull().sum()"
   ]
  },
  {
   "cell_type": "code",
   "execution_count": 90,
   "metadata": {},
   "outputs": [
    {
     "name": "stdout",
     "output_type": "stream",
     "text": [
      "output should be 3. \n",
      "Output:\n"
     ]
    },
    {
     "data": {
      "text/plain": [
       "3"
      ]
     },
     "execution_count": 90,
     "metadata": {},
     "output_type": "execute_result"
    }
   ],
   "source": [
    "# Quality check: We should only have three catergories\n",
    "\"\"\"\n",
    "type - degree of targeting\n",
    "○ 0 = emails were sent to a highly targeted audience\n",
    "○ 1 = neutral targeting\n",
    "○ 2 = generic email was sent to a wide audience\n",
    "\"\"\"\n",
    "print (\"output should be 3. \\nOutput:\")\n",
    "dt['type'].nunique()"
   ]
  },
  {
   "cell_type": "markdown",
   "metadata": {},
   "source": [
    "Eyeball other possible anomalies within data to do more quality check/Cleaning from descriptive statistics"
   ]
  },
  {
   "cell_type": "code",
   "execution_count": 91,
   "metadata": {},
   "outputs": [
    {
     "data": {
      "text/plain": [
       "0"
      ]
     },
     "execution_count": 91,
     "metadata": {},
     "output_type": "execute_result"
    }
   ],
   "source": [
    "# check for duplicate rows\n",
    "dt.duplicated().sum()"
   ]
  },
  {
   "cell_type": "code",
   "execution_count": 92,
   "metadata": {},
   "outputs": [
    {
     "data": {
      "text/html": [
       "<div>\n",
       "<style scoped>\n",
       "    .dataframe tbody tr th:only-of-type {\n",
       "        vertical-align: middle;\n",
       "    }\n",
       "\n",
       "    .dataframe tbody tr th {\n",
       "        vertical-align: top;\n",
       "    }\n",
       "\n",
       "    .dataframe thead th {\n",
       "        text-align: right;\n",
       "    }\n",
       "</style>\n",
       "<table border=\"1\" class=\"dataframe\">\n",
       "  <thead>\n",
       "    <tr style=\"text-align: right;\">\n",
       "      <th></th>\n",
       "      <th>campaign</th>\n",
       "      <th>delivered</th>\n",
       "      <th>opened</th>\n",
       "      <th>clicked</th>\n",
       "      <th>orders</th>\n",
       "      <th>aov</th>\n",
       "      <th>type</th>\n",
       "    </tr>\n",
       "  </thead>\n",
       "  <tbody>\n",
       "    <tr>\n",
       "      <th>count</th>\n",
       "      <td>1.048575e+06</td>\n",
       "      <td>1.048575e+06</td>\n",
       "      <td>1.048575e+06</td>\n",
       "      <td>1.048575e+06</td>\n",
       "      <td>1.048575e+06</td>\n",
       "      <td>1.048575e+06</td>\n",
       "      <td>1.048575e+06</td>\n",
       "    </tr>\n",
       "    <tr>\n",
       "      <th>mean</th>\n",
       "      <td>5.242880e+05</td>\n",
       "      <td>7.576635e+04</td>\n",
       "      <td>9.651388e+03</td>\n",
       "      <td>2.302434e+02</td>\n",
       "      <td>2.051529e+01</td>\n",
       "      <td>6.722376e+01</td>\n",
       "      <td>9.986114e-01</td>\n",
       "    </tr>\n",
       "    <tr>\n",
       "      <th>std</th>\n",
       "      <td>3.026977e+05</td>\n",
       "      <td>3.262941e+05</td>\n",
       "      <td>3.170030e+04</td>\n",
       "      <td>9.621397e+02</td>\n",
       "      <td>9.590078e+01</td>\n",
       "      <td>2.500907e+01</td>\n",
       "      <td>8.122977e-01</td>\n",
       "    </tr>\n",
       "    <tr>\n",
       "      <th>min</th>\n",
       "      <td>1.000000e+00</td>\n",
       "      <td>2.000000e+00</td>\n",
       "      <td>0.000000e+00</td>\n",
       "      <td>0.000000e+00</td>\n",
       "      <td>0.000000e+00</td>\n",
       "      <td>-4.906000e+01</td>\n",
       "      <td>0.000000e+00</td>\n",
       "    </tr>\n",
       "    <tr>\n",
       "      <th>25%</th>\n",
       "      <td>2.621445e+05</td>\n",
       "      <td>4.832000e+03</td>\n",
       "      <td>7.890000e+02</td>\n",
       "      <td>1.000000e+01</td>\n",
       "      <td>1.000000e+00</td>\n",
       "      <td>5.034000e+01</td>\n",
       "      <td>0.000000e+00</td>\n",
       "    </tr>\n",
       "    <tr>\n",
       "      <th>50%</th>\n",
       "      <td>5.242880e+05</td>\n",
       "      <td>1.997100e+04</td>\n",
       "      <td>2.928000e+03</td>\n",
       "      <td>4.700000e+01</td>\n",
       "      <td>4.000000e+00</td>\n",
       "      <td>6.721000e+01</td>\n",
       "      <td>1.000000e+00</td>\n",
       "    </tr>\n",
       "    <tr>\n",
       "      <th>75%</th>\n",
       "      <td>7.864315e+05</td>\n",
       "      <td>6.542400e+04</td>\n",
       "      <td>8.874000e+03</td>\n",
       "      <td>1.770000e+02</td>\n",
       "      <td>1.400000e+01</td>\n",
       "      <td>8.408000e+01</td>\n",
       "      <td>2.000000e+00</td>\n",
       "    </tr>\n",
       "    <tr>\n",
       "      <th>max</th>\n",
       "      <td>1.048575e+06</td>\n",
       "      <td>1.559867e+07</td>\n",
       "      <td>1.397644e+06</td>\n",
       "      <td>1.286160e+05</td>\n",
       "      <td>1.229200e+04</td>\n",
       "      <td>1.849900e+02</td>\n",
       "      <td>2.000000e+00</td>\n",
       "    </tr>\n",
       "  </tbody>\n",
       "</table>\n",
       "</div>"
      ],
      "text/plain": [
       "           campaign     delivered        opened       clicked        orders  \\\n",
       "count  1.048575e+06  1.048575e+06  1.048575e+06  1.048575e+06  1.048575e+06   \n",
       "mean   5.242880e+05  7.576635e+04  9.651388e+03  2.302434e+02  2.051529e+01   \n",
       "std    3.026977e+05  3.262941e+05  3.170030e+04  9.621397e+02  9.590078e+01   \n",
       "min    1.000000e+00  2.000000e+00  0.000000e+00  0.000000e+00  0.000000e+00   \n",
       "25%    2.621445e+05  4.832000e+03  7.890000e+02  1.000000e+01  1.000000e+00   \n",
       "50%    5.242880e+05  1.997100e+04  2.928000e+03  4.700000e+01  4.000000e+00   \n",
       "75%    7.864315e+05  6.542400e+04  8.874000e+03  1.770000e+02  1.400000e+01   \n",
       "max    1.048575e+06  1.559867e+07  1.397644e+06  1.286160e+05  1.229200e+04   \n",
       "\n",
       "                aov          type  \n",
       "count  1.048575e+06  1.048575e+06  \n",
       "mean   6.722376e+01  9.986114e-01  \n",
       "std    2.500907e+01  8.122977e-01  \n",
       "min   -4.906000e+01  0.000000e+00  \n",
       "25%    5.034000e+01  0.000000e+00  \n",
       "50%    6.721000e+01  1.000000e+00  \n",
       "75%    8.408000e+01  2.000000e+00  \n",
       "max    1.849900e+02  2.000000e+00  "
      ]
     },
     "execution_count": 92,
     "metadata": {},
     "output_type": "execute_result"
    }
   ],
   "source": [
    "dt.describe()"
   ]
  },
  {
   "cell_type": "markdown",
   "metadata": {},
   "source": [
    "Most of the daa looks reasonable with mostly real and positive numbers. Howver, AOV- Average Order Value column above has some a minimum order values below 0 or negetive(-ve) implying multiple others below 0. Ignore these for analysis (Assuming these are not what company wants or are returned items)"
   ]
  },
  {
   "cell_type": "code",
   "execution_count": 93,
   "metadata": {},
   "outputs": [
    {
     "data": {
      "text/plain": [
       "campaign     3745\n",
       "delivered    3745\n",
       "opened       3745\n",
       "clicked      3745\n",
       "orders       3745\n",
       "aov          3745\n",
       "type         3745\n",
       "dtype: int64"
      ]
     },
     "execution_count": 93,
     "metadata": {},
     "output_type": "execute_result"
    }
   ],
   "source": [
    "dt[dt['aov'] < 0].count()\n",
    "# the assumption: negative values are data errors. delete them for now"
   ]
  },
  {
   "cell_type": "code",
   "execution_count": 94,
   "metadata": {},
   "outputs": [
    {
     "data": {
      "text/plain": [
       "<matplotlib.axes._subplots.AxesSubplot at 0x1a393b1c18>"
      ]
     },
     "execution_count": 94,
     "metadata": {},
     "output_type": "execute_result"
    },
    {
     "data": {
      "image/png": "[encoded data removed]",
      "text/plain": [
       "<Figure size 432x288 with 1 Axes>"
      ]
     },
     "metadata": {
      "needs_background": "light"
     },
     "output_type": "display_data"
    }
   ],
   "source": [
    "dt['orders'].plot(kind = 'hist')\n",
    "# extreme outliers:"
   ]
  },
  {
   "cell_type": "code",
   "execution_count": 95,
   "metadata": {},
   "outputs": [
    {
     "data": {
      "text/plain": [
       "campaign     0.000331\n",
       "delivered    0.000331\n",
       "opened       0.000331\n",
       "clicked      0.000331\n",
       "orders       0.000331\n",
       "aov          0.000331\n",
       "type         0.000331\n",
       "dtype: float64"
      ]
     },
     "execution_count": 95,
     "metadata": {},
     "output_type": "execute_result"
    }
   ],
   "source": [
    "dt[dt['orders'] > 2000].count()/dt.shape[0] # get rid of these"
   ]
  },
  {
   "cell_type": "code",
   "execution_count": 96,
   "metadata": {},
   "outputs": [
    {
     "data": {
      "image/png": "[encoded data removed]",
      "text/plain": [
       "<Figure size 432x288 with 1 Axes>"
      ]
     },
     "metadata": {
      "needs_background": "light"
     },
     "output_type": "display_data"
    }
   ],
   "source": [
    "dt[dt.columns[1:5]].plot(kind='box');"
   ]
  },
  {
   "cell_type": "code",
   "execution_count": 97,
   "metadata": {},
   "outputs": [
    {
     "data": {
      "image/png": "[encoded data removed]",
      "text/plain": [
       "<Figure size 432x288 with 1 Axes>"
      ]
     },
     "metadata": {
      "needs_background": "light"
     },
     "output_type": "display_data"
    }
   ],
   "source": [
    "dt['delivered'].plot('box');"
   ]
  },
  {
   "cell_type": "code",
   "execution_count": 98,
   "metadata": {},
   "outputs": [
    {
     "data": {
      "image/png": "[encoded data removed]",
      "text/plain": [
       "<Figure size 432x288 with 1 Axes>"
      ]
     },
     "metadata": {
      "needs_background": "light"
     },
     "output_type": "display_data"
    }
   ],
   "source": [
    "dt['opened'].plot('box');"
   ]
  },
  {
   "cell_type": "code",
   "execution_count": 99,
   "metadata": {},
   "outputs": [],
   "source": [
    "# further processing, copy dataframe\n",
    "df = dt.copy()"
   ]
  },
  {
   "cell_type": "code",
   "execution_count": 100,
   "metadata": {},
   "outputs": [
    {
     "name": "stdout",
     "output_type": "stream",
     "text": [
      "<class 'pandas.core.frame.DataFrame'>\n",
      "Int64Index: 1045075 entries, 0 to 1048574\n",
      "Data columns (total 7 columns):\n",
      "campaign     1045075 non-null int64\n",
      "delivered    1045075 non-null int64\n",
      "opened       1045075 non-null int64\n",
      "clicked      1045075 non-null int64\n",
      "orders       1045075 non-null int64\n",
      "aov          1045075 non-null float64\n",
      "type         1045075 non-null int64\n",
      "dtypes: float64(1), int64(6)\n",
      "memory usage: 63.8 MB\n"
     ]
    }
   ],
   "source": [
    "mask = df['orders'] < 500\n",
    "df = df[mask]\n",
    "df.info()"
   ]
  },
  {
   "cell_type": "code",
   "execution_count": 101,
   "metadata": {},
   "outputs": [
    {
     "data": {
      "image/png": "[encoded data removed]",
      "text/plain": [
       "<Figure size 432x288 with 1 Axes>"
      ]
     },
     "metadata": {
      "needs_background": "light"
     },
     "output_type": "display_data"
    }
   ],
   "source": [
    "df['orders'].plot(kind = 'hist');\n",
    "\n",
    "# keep 99%"
   ]
  },
  {
   "cell_type": "code",
   "execution_count": 102,
   "metadata": {},
   "outputs": [
    {
     "data": {
      "text/html": [
       "<div>\n",
       "<style scoped>\n",
       "    .dataframe tbody tr th:only-of-type {\n",
       "        vertical-align: middle;\n",
       "    }\n",
       "\n",
       "    .dataframe tbody tr th {\n",
       "        vertical-align: top;\n",
       "    }\n",
       "\n",
       "    .dataframe thead tr th {\n",
       "        text-align: left;\n",
       "    }\n",
       "\n",
       "    .dataframe thead tr:last-of-type th {\n",
       "        text-align: right;\n",
       "    }\n",
       "</style>\n",
       "<table border=\"1\" class=\"dataframe\">\n",
       "  <thead>\n",
       "    <tr>\n",
       "      <th></th>\n",
       "      <th colspan=\"8\" halign=\"left\">aov</th>\n",
       "      <th colspan=\"2\" halign=\"left\">campaign</th>\n",
       "      <th>...</th>\n",
       "      <th colspan=\"2\" halign=\"left\">opened</th>\n",
       "      <th colspan=\"8\" halign=\"left\">orders</th>\n",
       "    </tr>\n",
       "    <tr>\n",
       "      <th></th>\n",
       "      <th>count</th>\n",
       "      <th>mean</th>\n",
       "      <th>std</th>\n",
       "      <th>min</th>\n",
       "      <th>25%</th>\n",
       "      <th>50%</th>\n",
       "      <th>75%</th>\n",
       "      <th>max</th>\n",
       "      <th>count</th>\n",
       "      <th>mean</th>\n",
       "      <th>...</th>\n",
       "      <th>75%</th>\n",
       "      <th>max</th>\n",
       "      <th>count</th>\n",
       "      <th>mean</th>\n",
       "      <th>std</th>\n",
       "      <th>min</th>\n",
       "      <th>25%</th>\n",
       "      <th>50%</th>\n",
       "      <th>75%</th>\n",
       "      <th>max</th>\n",
       "    </tr>\n",
       "    <tr>\n",
       "      <th>type</th>\n",
       "      <th></th>\n",
       "      <th></th>\n",
       "      <th></th>\n",
       "      <th></th>\n",
       "      <th></th>\n",
       "      <th></th>\n",
       "      <th></th>\n",
       "      <th></th>\n",
       "      <th></th>\n",
       "      <th></th>\n",
       "      <th></th>\n",
       "      <th></th>\n",
       "      <th></th>\n",
       "      <th></th>\n",
       "      <th></th>\n",
       "      <th></th>\n",
       "      <th></th>\n",
       "      <th></th>\n",
       "      <th></th>\n",
       "      <th></th>\n",
       "      <th></th>\n",
       "    </tr>\n",
       "  </thead>\n",
       "  <tbody>\n",
       "    <tr>\n",
       "      <th>0</th>\n",
       "      <td>346592.0</td>\n",
       "      <td>67.274741</td>\n",
       "      <td>25.048203</td>\n",
       "      <td>-48.29</td>\n",
       "      <td>50.40</td>\n",
       "      <td>67.27</td>\n",
       "      <td>84.13</td>\n",
       "      <td>180.26</td>\n",
       "      <td>346592.0</td>\n",
       "      <td>523679.581104</td>\n",
       "      <td>...</td>\n",
       "      <td>1857.0</td>\n",
       "      <td>271228.0</td>\n",
       "      <td>346592.0</td>\n",
       "      <td>4.645537</td>\n",
       "      <td>15.879503</td>\n",
       "      <td>0.0</td>\n",
       "      <td>0.0</td>\n",
       "      <td>1.0</td>\n",
       "      <td>3.0</td>\n",
       "      <td>494.0</td>\n",
       "    </tr>\n",
       "    <tr>\n",
       "      <th>1</th>\n",
       "      <td>354646.0</td>\n",
       "      <td>67.196238</td>\n",
       "      <td>24.992704</td>\n",
       "      <td>-44.16</td>\n",
       "      <td>50.33</td>\n",
       "      <td>67.22</td>\n",
       "      <td>84.04</td>\n",
       "      <td>184.99</td>\n",
       "      <td>354646.0</td>\n",
       "      <td>524835.212237</td>\n",
       "      <td>...</td>\n",
       "      <td>12168.0</td>\n",
       "      <td>1397644.0</td>\n",
       "      <td>354646.0</td>\n",
       "      <td>22.321791</td>\n",
       "      <td>47.585821</td>\n",
       "      <td>0.0</td>\n",
       "      <td>2.0</td>\n",
       "      <td>6.0</td>\n",
       "      <td>21.0</td>\n",
       "      <td>499.0</td>\n",
       "    </tr>\n",
       "    <tr>\n",
       "      <th>2</th>\n",
       "      <td>343837.0</td>\n",
       "      <td>67.201255</td>\n",
       "      <td>24.984122</td>\n",
       "      <td>-49.06</td>\n",
       "      <td>50.29</td>\n",
       "      <td>67.14</td>\n",
       "      <td>84.08</td>\n",
       "      <td>180.99</td>\n",
       "      <td>343837.0</td>\n",
       "      <td>524274.839825</td>\n",
       "      <td>...</td>\n",
       "      <td>12873.0</td>\n",
       "      <td>1291839.0</td>\n",
       "      <td>343837.0</td>\n",
       "      <td>23.691787</td>\n",
       "      <td>47.271395</td>\n",
       "      <td>0.0</td>\n",
       "      <td>2.0</td>\n",
       "      <td>7.0</td>\n",
       "      <td>23.0</td>\n",
       "      <td>499.0</td>\n",
       "    </tr>\n",
       "  </tbody>\n",
       "</table>\n",
       "<p>3 rows × 48 columns</p>\n",
       "</div>"
      ],
      "text/plain": [
       "           aov                                                            \\\n",
       "         count       mean        std    min    25%    50%    75%     max   \n",
       "type                                                                       \n",
       "0     346592.0  67.274741  25.048203 -48.29  50.40  67.27  84.13  180.26   \n",
       "1     354646.0  67.196238  24.992704 -44.16  50.33  67.22  84.04  184.99   \n",
       "2     343837.0  67.201255  24.984122 -49.06  50.29  67.14  84.08  180.99   \n",
       "\n",
       "      campaign                 ...     opened               orders             \\\n",
       "         count           mean  ...        75%        max     count       mean   \n",
       "type                           ...                                              \n",
       "0     346592.0  523679.581104  ...     1857.0   271228.0  346592.0   4.645537   \n",
       "1     354646.0  524835.212237  ...    12168.0  1397644.0  354646.0  22.321791   \n",
       "2     343837.0  524274.839825  ...    12873.0  1291839.0  343837.0  23.691787   \n",
       "\n",
       "                                             \n",
       "            std  min  25%  50%   75%    max  \n",
       "type                                         \n",
       "0     15.879503  0.0  0.0  1.0   3.0  494.0  \n",
       "1     47.585821  0.0  2.0  6.0  21.0  499.0  \n",
       "2     47.271395  0.0  2.0  7.0  23.0  499.0  \n",
       "\n",
       "[3 rows x 48 columns]"
      ]
     },
     "execution_count": 102,
     "metadata": {},
     "output_type": "execute_result"
    }
   ],
   "source": [
    "# get descriptive stats by type of email campaign sent\n",
    "df.groupby(['type']).describe()"
   ]
  },
  {
   "cell_type": "code",
   "execution_count": null,
   "metadata": {},
   "outputs": [],
   "source": []
  },
  {
   "cell_type": "code",
   "execution_count": 103,
   "metadata": {},
   "outputs": [
    {
     "data": {
      "image/png": "[encoded data removed]",
      "text/plain": [
       "<Figure size 432x288 with 1 Axes>"
      ]
     },
     "metadata": {
      "needs_background": "light"
     },
     "output_type": "display_data"
    }
   ],
   "source": [
    "# get rid of extreeme value orders for large bulk as this may skew/bias analysis. We want to understand average customer \n",
    "df = df[df['orders'] < df[\"orders\"].quantile(0.99)]\n",
    "df.orders.plot(kind = 'hist');\n",
    "\n",
    "# all extreme variables, we'll use 99% of the observations"
   ]
  },
  {
   "cell_type": "code",
   "execution_count": 104,
   "metadata": {},
   "outputs": [],
   "source": [
    "df = dt.copy()\n",
    "df['type'] = df['type'].astype(str, ) # make ad campaign type be a string/categorical variable, so it's not in descriptive stats\n",
    "\n",
    "# get rid of anomaly values from bulk purchase customers\n",
    "df = df[df['orders'] < df[\"orders\"].quantile(0.99)]\n",
    "df = df[df['delivered'] < df[\"delivered\"].quantile(0.99)]\n",
    "df = df[df['opened'] < df[\"opened\"].quantile(0.99)]\n",
    "df = df[df['clicked'] < df[\"clicked\"].quantile(0.99)]\n",
    "\n",
    "# drop -ve aov, take only +ve aov\n",
    "positive_orders = df['aov'] > 0\n",
    "df = df[positive_orders]\n",
    "\n"
   ]
  },
  {
   "cell_type": "code",
   "execution_count": 105,
   "metadata": {},
   "outputs": [
    {
     "data": {
      "text/plain": [
       "0"
      ]
     },
     "execution_count": 105,
     "metadata": {},
     "output_type": "execute_result"
    }
   ],
   "source": [
    "# duplicates\n",
    "df.duplicated().sum() # should be zero"
   ]
  },
  {
   "cell_type": "code",
   "execution_count": 106,
   "metadata": {},
   "outputs": [],
   "source": [
    "df.drop('campaign', inplace = True, axis = 1) # useless column, drop it for analysis. Only serves as ID"
   ]
  },
  {
   "cell_type": "code",
   "execution_count": 107,
   "metadata": {},
   "outputs": [
    {
     "data": {
      "text/html": [
       "<div>\n",
       "<style scoped>\n",
       "    .dataframe tbody tr th:only-of-type {\n",
       "        vertical-align: middle;\n",
       "    }\n",
       "\n",
       "    .dataframe tbody tr th {\n",
       "        vertical-align: top;\n",
       "    }\n",
       "\n",
       "    .dataframe thead th {\n",
       "        text-align: right;\n",
       "    }\n",
       "</style>\n",
       "<table border=\"1\" class=\"dataframe\">\n",
       "  <thead>\n",
       "    <tr style=\"text-align: right;\">\n",
       "      <th></th>\n",
       "      <th>delivered</th>\n",
       "      <th>opened</th>\n",
       "      <th>clicked</th>\n",
       "      <th>orders</th>\n",
       "      <th>aov</th>\n",
       "    </tr>\n",
       "  </thead>\n",
       "  <tbody>\n",
       "    <tr>\n",
       "      <th>count</th>\n",
       "      <td>1.003644e+06</td>\n",
       "      <td>1.003644e+06</td>\n",
       "      <td>1.003644e+06</td>\n",
       "      <td>1.003644e+06</td>\n",
       "      <td>1.003644e+06</td>\n",
       "    </tr>\n",
       "    <tr>\n",
       "      <th>mean</th>\n",
       "      <td>4.567140e+04</td>\n",
       "      <td>6.085085e+03</td>\n",
       "      <td>1.324676e+02</td>\n",
       "      <td>1.179427e+01</td>\n",
       "      <td>6.748844e+01</td>\n",
       "    </tr>\n",
       "    <tr>\n",
       "      <th>std</th>\n",
       "      <td>7.135719e+04</td>\n",
       "      <td>8.552628e+03</td>\n",
       "      <td>2.166900e+02</td>\n",
       "      <td>2.213618e+01</td>\n",
       "      <td>2.464445e+01</td>\n",
       "    </tr>\n",
       "    <tr>\n",
       "      <th>min</th>\n",
       "      <td>2.000000e+00</td>\n",
       "      <td>0.000000e+00</td>\n",
       "      <td>0.000000e+00</td>\n",
       "      <td>0.000000e+00</td>\n",
       "      <td>1.000000e-02</td>\n",
       "    </tr>\n",
       "    <tr>\n",
       "      <th>25%</th>\n",
       "      <td>4.559000e+03</td>\n",
       "      <td>7.380000e+02</td>\n",
       "      <td>1.000000e+01</td>\n",
       "      <td>1.000000e+00</td>\n",
       "      <td>5.055000e+01</td>\n",
       "    </tr>\n",
       "    <tr>\n",
       "      <th>50%</th>\n",
       "      <td>1.805400e+04</td>\n",
       "      <td>2.682000e+03</td>\n",
       "      <td>4.300000e+01</td>\n",
       "      <td>3.000000e+00</td>\n",
       "      <td>6.731000e+01</td>\n",
       "    </tr>\n",
       "    <tr>\n",
       "      <th>75%</th>\n",
       "      <td>5.643600e+04</td>\n",
       "      <td>7.806000e+03</td>\n",
       "      <td>1.510000e+02</td>\n",
       "      <td>1.200000e+01</td>\n",
       "      <td>8.415000e+01</td>\n",
       "    </tr>\n",
       "    <tr>\n",
       "      <th>max</th>\n",
       "      <td>6.423180e+05</td>\n",
       "      <td>5.636800e+04</td>\n",
       "      <td>1.405000e+03</td>\n",
       "      <td>2.590000e+02</td>\n",
       "      <td>1.849900e+02</td>\n",
       "    </tr>\n",
       "  </tbody>\n",
       "</table>\n",
       "</div>"
      ],
      "text/plain": [
       "          delivered        opened       clicked        orders           aov\n",
       "count  1.003644e+06  1.003644e+06  1.003644e+06  1.003644e+06  1.003644e+06\n",
       "mean   4.567140e+04  6.085085e+03  1.324676e+02  1.179427e+01  6.748844e+01\n",
       "std    7.135719e+04  8.552628e+03  2.166900e+02  2.213618e+01  2.464445e+01\n",
       "min    2.000000e+00  0.000000e+00  0.000000e+00  0.000000e+00  1.000000e-02\n",
       "25%    4.559000e+03  7.380000e+02  1.000000e+01  1.000000e+00  5.055000e+01\n",
       "50%    1.805400e+04  2.682000e+03  4.300000e+01  3.000000e+00  6.731000e+01\n",
       "75%    5.643600e+04  7.806000e+03  1.510000e+02  1.200000e+01  8.415000e+01\n",
       "max    6.423180e+05  5.636800e+04  1.405000e+03  2.590000e+02  1.849900e+02"
      ]
     },
     "execution_count": 107,
     "metadata": {},
     "output_type": "execute_result"
    }
   ],
   "source": [
    "df.describe()"
   ]
  },
  {
   "cell_type": "code",
   "execution_count": 108,
   "metadata": {},
   "outputs": [
    {
     "data": {
      "text/html": [
       "<div>\n",
       "<style scoped>\n",
       "    .dataframe tbody tr th:only-of-type {\n",
       "        vertical-align: middle;\n",
       "    }\n",
       "\n",
       "    .dataframe tbody tr th {\n",
       "        vertical-align: top;\n",
       "    }\n",
       "\n",
       "    .dataframe thead th {\n",
       "        text-align: right;\n",
       "    }\n",
       "</style>\n",
       "<table border=\"1\" class=\"dataframe\">\n",
       "  <thead>\n",
       "    <tr style=\"text-align: right;\">\n",
       "      <th></th>\n",
       "      <th>delivered</th>\n",
       "      <th>opened</th>\n",
       "      <th>clicked</th>\n",
       "      <th>orders</th>\n",
       "      <th>aov</th>\n",
       "      <th>type</th>\n",
       "    </tr>\n",
       "  </thead>\n",
       "  <tbody>\n",
       "    <tr>\n",
       "      <th>0</th>\n",
       "      <td>70</td>\n",
       "      <td>28</td>\n",
       "      <td>0</td>\n",
       "      <td>0</td>\n",
       "      <td>87.12</td>\n",
       "      <td>0</td>\n",
       "    </tr>\n",
       "    <tr>\n",
       "      <th>2</th>\n",
       "      <td>24693</td>\n",
       "      <td>2532</td>\n",
       "      <td>43</td>\n",
       "      <td>5</td>\n",
       "      <td>58.73</td>\n",
       "      <td>2</td>\n",
       "    </tr>\n",
       "    <tr>\n",
       "      <th>3</th>\n",
       "      <td>3377</td>\n",
       "      <td>971</td>\n",
       "      <td>22</td>\n",
       "      <td>2</td>\n",
       "      <td>56.03</td>\n",
       "      <td>0</td>\n",
       "    </tr>\n",
       "    <tr>\n",
       "      <th>5</th>\n",
       "      <td>10722</td>\n",
       "      <td>1116</td>\n",
       "      <td>15</td>\n",
       "      <td>2</td>\n",
       "      <td>47.35</td>\n",
       "      <td>2</td>\n",
       "    </tr>\n",
       "    <tr>\n",
       "      <th>6</th>\n",
       "      <td>8727</td>\n",
       "      <td>3315</td>\n",
       "      <td>50</td>\n",
       "      <td>6</td>\n",
       "      <td>92.15</td>\n",
       "      <td>0</td>\n",
       "    </tr>\n",
       "  </tbody>\n",
       "</table>\n",
       "</div>"
      ],
      "text/plain": [
       "   delivered  opened  clicked  orders    aov type\n",
       "0         70      28        0       0  87.12    0\n",
       "2      24693    2532       43       5  58.73    2\n",
       "3       3377     971       22       2  56.03    0\n",
       "5      10722    1116       15       2  47.35    2\n",
       "6       8727    3315       50       6  92.15    0"
      ]
     },
     "execution_count": 108,
     "metadata": {},
     "output_type": "execute_result"
    }
   ],
   "source": [
    "df.head()"
   ]
  },
  {
   "cell_type": "code",
   "execution_count": 109,
   "metadata": {},
   "outputs": [
    {
     "data": {
      "image/png": "[encoded data removed]",
      "text/plain": [
       "<Figure size 432x288 with 1 Axes>"
      ]
     },
     "metadata": {
      "needs_background": "light"
     },
     "output_type": "display_data"
    }
   ],
   "source": [
    "df.aov.plot(kind = 'hist');"
   ]
  },
  {
   "cell_type": "code",
   "execution_count": 110,
   "metadata": {},
   "outputs": [
    {
     "data": {
      "image/png": "[encoded data removed]",
      "text/plain": [
       "<Figure size 432x288 with 1 Axes>"
      ]
     },
     "metadata": {
      "needs_background": "light"
     },
     "output_type": "display_data"
    }
   ],
   "source": [
    "df.orders.plot(kind = 'hist');"
   ]
  },
  {
   "cell_type": "code",
   "execution_count": 111,
   "metadata": {},
   "outputs": [
    {
     "data": {
      "image/png": "[encoded data removed]",
      "text/plain": [
       "<Figure size 432x288 with 1 Axes>"
      ]
     },
     "metadata": {
      "needs_background": "light"
     },
     "output_type": "display_data"
    }
   ],
   "source": [
    "df.delivered.plot(kind = 'hist');"
   ]
  },
  {
   "cell_type": "code",
   "execution_count": 112,
   "metadata": {},
   "outputs": [
    {
     "data": {
      "image/png": "[encoded data removed]",
      "text/plain": [
       "<Figure size 432x288 with 1 Axes>"
      ]
     },
     "metadata": {
      "needs_background": "light"
     },
     "output_type": "display_data"
    }
   ],
   "source": [
    "df.clicked.plot(kind = 'hist');"
   ]
  },
  {
   "cell_type": "markdown",
   "metadata": {},
   "source": [
    "This is an example of my approach to analysis given the business problem and how I would ensure quality of the data before any analysis is made. More information like what negative order values mean and general guidelines for targeting as I controlled for outliers. "
   ]
  },
  {
   "cell_type": "markdown",
   "metadata": {},
   "source": [
    "### Question 2"
   ]
  },
  {
   "cell_type": "markdown",
   "metadata": {},
   "source": [
    "Group these variables then calculated metrics "
   ]
  },
  {
   "cell_type": "code",
   "execution_count": 113,
   "metadata": {},
   "outputs": [
    {
     "name": "stdout",
     "output_type": "stream",
     "text": [
      "           aov                                                           \\\n",
      "         count       mean        std   min    25%    50%    75%     max   \n",
      "type                                                                      \n",
      "0     343929.0  67.545065  24.683887  0.02  50.62  67.38  84.20  180.26   \n",
      "1     335864.0  67.465071  24.640320  0.01  50.54  67.33  84.13  184.99   \n",
      "2     323851.0  67.452528  24.606756  0.03  50.49  67.23  84.12  180.99   \n",
      "\n",
      "       clicked              ...     opened             orders             \\\n",
      "         count        mean  ...        75%      max     count       mean   \n",
      "type                        ...                                            \n",
      "0     343929.0   46.360586  ...     1830.0  55756.0  343929.0   4.094752   \n",
      "1     335864.0  170.361608  ...    10456.0  56368.0  335864.0  15.196056   \n",
      "2     323851.0  184.613294  ...    11031.0  56340.0  323851.0  16.443176   \n",
      "\n",
      "                                             \n",
      "            std  min  25%  50%   75%    max  \n",
      "type                                         \n",
      "0     11.353893  0.0  0.0  1.0   3.0  250.0  \n",
      "1     24.817074  0.0  1.0  5.0  17.0  257.0  \n",
      "2     25.424053  0.0  2.0  7.0  19.0  259.0  \n",
      "\n",
      "[3 rows x 40 columns]\n"
     ]
    }
   ],
   "source": [
    "# todo : clean up \n",
    "summaries = df.groupby(['type']).describe()\n",
    "print (summaries)"
   ]
  },
  {
   "cell_type": "code",
   "execution_count": 114,
   "metadata": {},
   "outputs": [
    {
     "data": {
      "text/plain": [
       "count    1.003644e+06\n",
       "mean     6.748844e+01\n",
       "std      2.464445e+01\n",
       "min      1.000000e-02\n",
       "25%      5.055000e+01\n",
       "50%      6.731000e+01\n",
       "75%      8.415000e+01\n",
       "max      1.849900e+02\n",
       "Name: aov, dtype: float64"
      ]
     },
     "execution_count": 114,
     "metadata": {},
     "output_type": "execute_result"
    }
   ],
   "source": [
    "# new varibales (metrics)\n",
    "df['open_rate'] = df['opened']/df['delivered']\n",
    "df['click_rate'] = df['clicked'] / df['opened']\n",
    "df['aov'].describe() # descriptive stats"
   ]
  },
  {
   "cell_type": "code",
   "execution_count": 115,
   "metadata": {},
   "outputs": [
    {
     "data": {
      "text/html": [
       "<div>\n",
       "<style scoped>\n",
       "    .dataframe tbody tr th:only-of-type {\n",
       "        vertical-align: middle;\n",
       "    }\n",
       "\n",
       "    .dataframe tbody tr th {\n",
       "        vertical-align: top;\n",
       "    }\n",
       "\n",
       "    .dataframe thead th {\n",
       "        text-align: right;\n",
       "    }\n",
       "</style>\n",
       "<table border=\"1\" class=\"dataframe\">\n",
       "  <thead>\n",
       "    <tr style=\"text-align: right;\">\n",
       "      <th></th>\n",
       "      <th>delivered</th>\n",
       "      <th>opened</th>\n",
       "      <th>clicked</th>\n",
       "      <th>orders</th>\n",
       "      <th>aov</th>\n",
       "      <th>type</th>\n",
       "      <th>open_rate</th>\n",
       "      <th>click_rate</th>\n",
       "    </tr>\n",
       "  </thead>\n",
       "  <tbody>\n",
       "    <tr>\n",
       "      <th>0</th>\n",
       "      <td>70</td>\n",
       "      <td>28</td>\n",
       "      <td>0</td>\n",
       "      <td>0</td>\n",
       "      <td>87.12</td>\n",
       "      <td>0</td>\n",
       "      <td>0.400000</td>\n",
       "      <td>0.000000</td>\n",
       "    </tr>\n",
       "    <tr>\n",
       "      <th>2</th>\n",
       "      <td>24693</td>\n",
       "      <td>2532</td>\n",
       "      <td>43</td>\n",
       "      <td>5</td>\n",
       "      <td>58.73</td>\n",
       "      <td>2</td>\n",
       "      <td>0.102539</td>\n",
       "      <td>0.016983</td>\n",
       "    </tr>\n",
       "    <tr>\n",
       "      <th>3</th>\n",
       "      <td>3377</td>\n",
       "      <td>971</td>\n",
       "      <td>22</td>\n",
       "      <td>2</td>\n",
       "      <td>56.03</td>\n",
       "      <td>0</td>\n",
       "      <td>0.287533</td>\n",
       "      <td>0.022657</td>\n",
       "    </tr>\n",
       "    <tr>\n",
       "      <th>5</th>\n",
       "      <td>10722</td>\n",
       "      <td>1116</td>\n",
       "      <td>15</td>\n",
       "      <td>2</td>\n",
       "      <td>47.35</td>\n",
       "      <td>2</td>\n",
       "      <td>0.104085</td>\n",
       "      <td>0.013441</td>\n",
       "    </tr>\n",
       "    <tr>\n",
       "      <th>6</th>\n",
       "      <td>8727</td>\n",
       "      <td>3315</td>\n",
       "      <td>50</td>\n",
       "      <td>6</td>\n",
       "      <td>92.15</td>\n",
       "      <td>0</td>\n",
       "      <td>0.379856</td>\n",
       "      <td>0.015083</td>\n",
       "    </tr>\n",
       "  </tbody>\n",
       "</table>\n",
       "</div>"
      ],
      "text/plain": [
       "   delivered  opened  clicked  orders    aov type  open_rate  click_rate\n",
       "0         70      28        0       0  87.12    0   0.400000    0.000000\n",
       "2      24693    2532       43       5  58.73    2   0.102539    0.016983\n",
       "3       3377     971       22       2  56.03    0   0.287533    0.022657\n",
       "5      10722    1116       15       2  47.35    2   0.104085    0.013441\n",
       "6       8727    3315       50       6  92.15    0   0.379856    0.015083"
      ]
     },
     "execution_count": 115,
     "metadata": {},
     "output_type": "execute_result"
    }
   ],
   "source": [
    "df.head()"
   ]
  },
  {
   "cell_type": "code",
   "execution_count": 116,
   "metadata": {},
   "outputs": [
    {
     "data": {
      "text/html": [
       "<div>\n",
       "<style scoped>\n",
       "    .dataframe tbody tr th:only-of-type {\n",
       "        vertical-align: middle;\n",
       "    }\n",
       "\n",
       "    .dataframe tbody tr th {\n",
       "        vertical-align: top;\n",
       "    }\n",
       "\n",
       "    .dataframe thead th {\n",
       "        text-align: right;\n",
       "    }\n",
       "</style>\n",
       "<table border=\"1\" class=\"dataframe\">\n",
       "  <thead>\n",
       "    <tr style=\"text-align: right;\">\n",
       "      <th></th>\n",
       "      <th>count</th>\n",
       "      <th>mean</th>\n",
       "      <th>std</th>\n",
       "      <th>min</th>\n",
       "      <th>25%</th>\n",
       "      <th>50%</th>\n",
       "      <th>75%</th>\n",
       "      <th>max</th>\n",
       "    </tr>\n",
       "    <tr>\n",
       "      <th>type</th>\n",
       "      <th></th>\n",
       "      <th></th>\n",
       "      <th></th>\n",
       "      <th></th>\n",
       "      <th></th>\n",
       "      <th></th>\n",
       "      <th></th>\n",
       "      <th></th>\n",
       "    </tr>\n",
       "  </thead>\n",
       "  <tbody>\n",
       "    <tr>\n",
       "      <th>0</th>\n",
       "      <td>343929.0</td>\n",
       "      <td>0.234752</td>\n",
       "      <td>0.159338</td>\n",
       "      <td>0.000000</td>\n",
       "      <td>0.128156</td>\n",
       "      <td>0.196643</td>\n",
       "      <td>0.297086</td>\n",
       "      <td>1.000000</td>\n",
       "    </tr>\n",
       "    <tr>\n",
       "      <th>1</th>\n",
       "      <td>335864.0</td>\n",
       "      <td>0.181290</td>\n",
       "      <td>0.097723</td>\n",
       "      <td>0.001827</td>\n",
       "      <td>0.112153</td>\n",
       "      <td>0.167041</td>\n",
       "      <td>0.232733</td>\n",
       "      <td>0.829268</td>\n",
       "    </tr>\n",
       "    <tr>\n",
       "      <th>2</th>\n",
       "      <td>323851.0</td>\n",
       "      <td>0.147985</td>\n",
       "      <td>0.082383</td>\n",
       "      <td>0.003679</td>\n",
       "      <td>0.087865</td>\n",
       "      <td>0.130868</td>\n",
       "      <td>0.191263</td>\n",
       "      <td>0.731908</td>\n",
       "    </tr>\n",
       "  </tbody>\n",
       "</table>\n",
       "</div>"
      ],
      "text/plain": [
       "         count      mean       std       min       25%       50%       75%  \\\n",
       "type                                                                         \n",
       "0     343929.0  0.234752  0.159338  0.000000  0.128156  0.196643  0.297086   \n",
       "1     335864.0  0.181290  0.097723  0.001827  0.112153  0.167041  0.232733   \n",
       "2     323851.0  0.147985  0.082383  0.003679  0.087865  0.130868  0.191263   \n",
       "\n",
       "           max  \n",
       "type            \n",
       "0     1.000000  \n",
       "1     0.829268  \n",
       "2     0.731908  "
      ]
     },
     "execution_count": 116,
     "metadata": {},
     "output_type": "execute_result"
    }
   ],
   "source": [
    "# Descriptive stats by catergory\n",
    "df.groupby(['type'])['open_rate'].describe()"
   ]
  },
  {
   "cell_type": "code",
   "execution_count": 117,
   "metadata": {},
   "outputs": [
    {
     "data": {
      "text/html": [
       "<div>\n",
       "<style scoped>\n",
       "    .dataframe tbody tr th:only-of-type {\n",
       "        vertical-align: middle;\n",
       "    }\n",
       "\n",
       "    .dataframe tbody tr th {\n",
       "        vertical-align: top;\n",
       "    }\n",
       "\n",
       "    .dataframe thead th {\n",
       "        text-align: right;\n",
       "    }\n",
       "</style>\n",
       "<table border=\"1\" class=\"dataframe\">\n",
       "  <thead>\n",
       "    <tr style=\"text-align: right;\">\n",
       "      <th></th>\n",
       "      <th>count</th>\n",
       "      <th>mean</th>\n",
       "      <th>std</th>\n",
       "      <th>min</th>\n",
       "      <th>25%</th>\n",
       "      <th>50%</th>\n",
       "      <th>75%</th>\n",
       "      <th>max</th>\n",
       "    </tr>\n",
       "    <tr>\n",
       "      <th>type</th>\n",
       "      <th></th>\n",
       "      <th></th>\n",
       "      <th></th>\n",
       "      <th></th>\n",
       "      <th></th>\n",
       "      <th></th>\n",
       "      <th></th>\n",
       "      <th></th>\n",
       "    </tr>\n",
       "  </thead>\n",
       "  <tbody>\n",
       "    <tr>\n",
       "      <th>0</th>\n",
       "      <td>343770.0</td>\n",
       "      <td>0.023297</td>\n",
       "      <td>0.018849</td>\n",
       "      <td>0.0</td>\n",
       "      <td>0.008380</td>\n",
       "      <td>0.019685</td>\n",
       "      <td>0.034442</td>\n",
       "      <td>0.166667</td>\n",
       "    </tr>\n",
       "    <tr>\n",
       "      <th>1</th>\n",
       "      <td>335864.0</td>\n",
       "      <td>0.023465</td>\n",
       "      <td>0.017689</td>\n",
       "      <td>0.0</td>\n",
       "      <td>0.009440</td>\n",
       "      <td>0.019928</td>\n",
       "      <td>0.033752</td>\n",
       "      <td>0.138030</td>\n",
       "    </tr>\n",
       "    <tr>\n",
       "      <th>2</th>\n",
       "      <td>323851.0</td>\n",
       "      <td>0.023342</td>\n",
       "      <td>0.017680</td>\n",
       "      <td>0.0</td>\n",
       "      <td>0.009288</td>\n",
       "      <td>0.019716</td>\n",
       "      <td>0.033648</td>\n",
       "      <td>0.133333</td>\n",
       "    </tr>\n",
       "  </tbody>\n",
       "</table>\n",
       "</div>"
      ],
      "text/plain": [
       "         count      mean       std  min       25%       50%       75%  \\\n",
       "type                                                                    \n",
       "0     343770.0  0.023297  0.018849  0.0  0.008380  0.019685  0.034442   \n",
       "1     335864.0  0.023465  0.017689  0.0  0.009440  0.019928  0.033752   \n",
       "2     323851.0  0.023342  0.017680  0.0  0.009288  0.019716  0.033648   \n",
       "\n",
       "           max  \n",
       "type            \n",
       "0     0.166667  \n",
       "1     0.138030  \n",
       "2     0.133333  "
      ]
     },
     "execution_count": 117,
     "metadata": {},
     "output_type": "execute_result"
    }
   ],
   "source": [
    "# Descriptive stats by catergory\n",
    "df.groupby(['type'])['click_rate'].describe()"
   ]
  },
  {
   "cell_type": "code",
   "execution_count": 118,
   "metadata": {},
   "outputs": [
    {
     "data": {
      "text/plain": [
       "type\n",
       "0    67.38\n",
       "1    67.33\n",
       "2    67.23\n",
       "Name: aov, dtype: float64"
      ]
     },
     "execution_count": 118,
     "metadata": {},
     "output_type": "execute_result"
    }
   ],
   "source": [
    "# median values for all three Ad targeting marketing strategies\n",
    "df.groupby('type')['aov'].median()"
   ]
  },
  {
   "cell_type": "markdown",
   "metadata": {},
   "source": [
    "## Question 3"
   ]
  },
  {
   "cell_type": "code",
   "execution_count": 119,
   "metadata": {},
   "outputs": [
    {
     "data": {
      "text/html": [
       "<div>\n",
       "<style scoped>\n",
       "    .dataframe tbody tr th:only-of-type {\n",
       "        vertical-align: middle;\n",
       "    }\n",
       "\n",
       "    .dataframe tbody tr th {\n",
       "        vertical-align: top;\n",
       "    }\n",
       "\n",
       "    .dataframe thead th {\n",
       "        text-align: right;\n",
       "    }\n",
       "</style>\n",
       "<table border=\"1\" class=\"dataframe\">\n",
       "  <thead>\n",
       "    <tr style=\"text-align: right;\">\n",
       "      <th></th>\n",
       "      <th>count</th>\n",
       "      <th>mean</th>\n",
       "      <th>std</th>\n",
       "      <th>min</th>\n",
       "      <th>25%</th>\n",
       "      <th>50%</th>\n",
       "      <th>75%</th>\n",
       "      <th>max</th>\n",
       "    </tr>\n",
       "    <tr>\n",
       "      <th>type</th>\n",
       "      <th></th>\n",
       "      <th></th>\n",
       "      <th></th>\n",
       "      <th></th>\n",
       "      <th></th>\n",
       "      <th></th>\n",
       "      <th></th>\n",
       "      <th></th>\n",
       "    </tr>\n",
       "  </thead>\n",
       "  <tbody>\n",
       "    <tr>\n",
       "      <th>0</th>\n",
       "      <td>343929.0</td>\n",
       "      <td>0.000381</td>\n",
       "      <td>0.000662</td>\n",
       "      <td>0.0</td>\n",
       "      <td>0.000000</td>\n",
       "      <td>0.000131</td>\n",
       "      <td>0.000505</td>\n",
       "      <td>0.020000</td>\n",
       "    </tr>\n",
       "    <tr>\n",
       "      <th>1</th>\n",
       "      <td>335864.0</td>\n",
       "      <td>0.000372</td>\n",
       "      <td>0.000472</td>\n",
       "      <td>0.0</td>\n",
       "      <td>0.000067</td>\n",
       "      <td>0.000218</td>\n",
       "      <td>0.000501</td>\n",
       "      <td>0.009513</td>\n",
       "    </tr>\n",
       "    <tr>\n",
       "      <th>2</th>\n",
       "      <td>323851.0</td>\n",
       "      <td>0.000305</td>\n",
       "      <td>0.000387</td>\n",
       "      <td>0.0</td>\n",
       "      <td>0.000062</td>\n",
       "      <td>0.000179</td>\n",
       "      <td>0.000401</td>\n",
       "      <td>0.009722</td>\n",
       "    </tr>\n",
       "  </tbody>\n",
       "</table>\n",
       "</div>"
      ],
      "text/plain": [
       "         count      mean       std  min       25%       50%       75%  \\\n",
       "type                                                                    \n",
       "0     343929.0  0.000381  0.000662  0.0  0.000000  0.000131  0.000505   \n",
       "1     335864.0  0.000372  0.000472  0.0  0.000067  0.000218  0.000501   \n",
       "2     323851.0  0.000305  0.000387  0.0  0.000062  0.000179  0.000401   \n",
       "\n",
       "           max  \n",
       "type            \n",
       "0     0.020000  \n",
       "1     0.009513  \n",
       "2     0.009722  "
      ]
     },
     "execution_count": 119,
     "metadata": {},
     "output_type": "execute_result"
    }
   ],
   "source": [
    "# converstion rate: from emails sent, how many people actually order products. (Business value in this marketing strategy)\n",
    "df['conversion_rate'] = df['orders'] / df['delivered']\n",
    "df.groupby('type')['conversion_rate'].describe()"
   ]
  },
  {
   "cell_type": "code",
   "execution_count": 120,
   "metadata": {},
   "outputs": [
    {
     "data": {
      "text/plain": [
       "type\n",
       "0    0.000381\n",
       "1    0.000372\n",
       "2    0.000305\n",
       "Name: conversion_rate, dtype: float64"
      ]
     },
     "execution_count": 120,
     "metadata": {},
     "output_type": "execute_result"
    }
   ],
   "source": [
    "df.groupby('type')['conversion_rate'].mean()\n",
    "\n",
    "# grouped t-test"
   ]
  },
  {
   "cell_type": "markdown",
   "metadata": {},
   "source": [
    "For targeting type \"0 = emails sent to a highly targeted audience\", for these, there is an ~8% higher conversion rate than generic fishing emails sent to larger audiences. Even for the semi-targeted emails in category \"1\", these statistics support a still significant ~7% increase in converstion rate from category \"2\". These mean statistical data support this hypothesis emperically."
   ]
  },
  {
   "cell_type": "markdown",
   "metadata": {},
   "source": [
    "## Question 4\n",
    "\n",
    "If limited computing resources:\n",
    "\n",
    "1. Random Sampling: a simple random sample gives an unbiased representation of the dataset if large enough to meet these requirements\n",
    "2. Stratified sampling: take a sufficiently large random sample, n, from each of the three types. Total sample fit within computing constraints\n",
    "2. Batch analysis: process the data in batches into algroithms that save values and processes/computes data sequentially or at the same time\n",
    "\n",
    "If not:\n",
    "3. Parrallel and Distributed analysis (e.g Apache Spark, Hadoop)\n",
    "4. Cloud computing kernels if those computing resources available (AWS, Google Cloud, Azure)"
   ]
  },
  {
   "cell_type": "markdown",
   "metadata": {},
   "source": [
    "# Question 5:\n",
    "\n",
    "There are so many metrics within this email campaign strategy and things the manager could focus on. The goal however is to increase Sales from email campaigns as a channel, and so he would have to optimize for metrics directly affecting that. Understanding the most effective stategy from the three mentioned, yielding the best conversion rate, as seen from analysis would be the one wise to invest more resources on. \n",
    "\n",
    "Hierarchy:\n",
    "1. Conversion rate (directly affects sales)\n",
    "2. Click Rate/User engagement ( capturing user interest onto ad campaign)\n",
    "3. Open rate (Retaining the users attention and not being put in spam)\n",
    "4. Understanding the types of goods within AOV and targeted ads (More personalized targeting and profiling users)"
   ]
  },
  {
   "cell_type": "markdown",
   "metadata": {},
   "source": [
    "## Question 6\n",
    "\n",
    "Recommendations:\n",
    "\n",
    "Targeted advertising emails are an effective strategy and generate significantly more user retention/conversion rates. This directly impacts sales growth. The click rate has approximately the same mean across all different strategies, at ~2.3% with not much a significant difference. This indicates a greater difficulty in capturing user attention in strategy than in retention once users have clicked on email. The emperical evidence from the analytics support the effectiveness of different impacts and strengths of marketing strategies.     "
   ]
  },
  {
   "cell_type": "markdown",
   "metadata": {},
   "source": [
    "# Question 7:\n",
    "### help with more precise targeting of customers\n",
    "- user demographic data from profiles: incomes, occupation\n",
    "- purchase history for each unique user\n",
    "- how many users unsubscribe from emails and reasons why, to improve personalization and targeting\n",
    "- customer acquisition cost, extra charges on purchase and impact on buying\n",
    "\n",
    "All this extra information from users would help in understanding better the customer and how the email advertising can be targeted to optimize the likelihood of user purchasing product.  "
   ]
  },
  {
   "cell_type": "code",
   "execution_count": null,
   "metadata": {},
   "outputs": [],
   "source": []
  }
 ],
 "metadata": {
  "kernelspec": {
   "display_name": "Python 3",
   "language": "python",
   "name": "python3"
  },
  "language_info": {
   "codemirror_mode": {
    "name": "ipython",
    "version": 3
   },
   "file_extension": ".py",
   "mimetype": "text/x-python",
   "name": "python",
   "nbconvert_exporter": "python",
   "pygments_lexer": "ipython3",
   "version": "3.7.1"
  }
 },
 "nbformat": 4,
 "nbformat_minor": 2
}
