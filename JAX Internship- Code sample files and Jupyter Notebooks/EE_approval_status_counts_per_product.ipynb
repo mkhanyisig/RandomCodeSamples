{
 "cells": [
  {
   "cell_type": "code",
   "execution_count": 3,
   "metadata": {},
   "outputs": [],
   "source": [
    "String jsonText = new File('data/ApprovalStatus_per_product.json').text\n",
    "def slurper = new groovy.json.JsonSlurper()\n",
    "json =slurper.parseText(jsonText)\n",
    "\n",
    "\n",
    "beakerx.traces = json.'BOOST'.collect{tierLevel,boostCount ->\n",
    "    \n",
    "//     println(\"$tierLevel : $boostCount\")\n",
    "    def coreCount = json.'CORE'[tierLevel]\n",
    "//     println(\"core ${coreCount}\")\n",
    "    \n",
    "   [\n",
    "     x: ['CORE', 'BOOST'] ,\n",
    "     y: [coreCount, boostCount],\n",
    "     name: tierLevel,\n",
    "     type: 'bar',\n",
    "    ]\n",
    "}\n",
    "\n",
    "OutputCell.HIDDEN "
   ]
  },
  {
   "cell_type": "code",
   "execution_count": 4,
   "metadata": {},
   "outputs": [
    {
     "data": {
      "application/javascript": [
       "require.config({paths:{'plotly':'//cdn.plot.ly/plotly-latest.min'}});\n",
       "require(['plotly'], function(Plotly) {\n",
       "    window.Plotly = Plotly;\n",
       "});"
      ]
     },
     "execution_count": 4,
     "metadata": {},
     "output_type": "execute_result"
    }
   ],
   "source": [
    "%%javascript\n",
    "require.config({paths:{'plotly':'//cdn.plot.ly/plotly-latest.min'}});\n",
    "require(['plotly'], function(Plotly) {\n",
    "    window.Plotly = Plotly;\n",
    "});"
   ]
  },
  {
   "cell_type": "code",
   "execution_count": 5,
   "metadata": {},
   "outputs": [
    {
     "data": {
      "application/javascript": [
       "beakerx.displayHTML(this, '<div id=\"plotlyDiv\"></div>');\n",
       "\n",
       "var trace1 = {\n",
       "  x: ['giraffes', 'orangutans', 'monkeys'],\n",
       "  y: [20, 14, 23],\n",
       "  name: 'SF Zoo',\n",
       "  type: 'bar'\n",
       "};\n",
       "\n",
       "var trace2 = {\n",
       "  x: ['giraffes', 'orangutans', 'monkeys'],\n",
       "  y: [12, 18, 29],\n",
       "  name: 'LA Zoo',\n",
       "  type: 'bar'\n",
       "};\n",
       "\n",
       "var data = beakerx.traces\n",
       "\n",
       "var layout = {barmode: 'stack'};\n",
       "\n",
       "Plotly.newPlot('plotlyDiv', data, layout);"
      ]
     },
     "execution_count": 5,
     "metadata": {},
     "output_type": "execute_result"
    }
   ],
   "source": [
    "%%javascript\n",
    "beakerx.displayHTML(this, '<div id=\"plotlyDiv\"></div>');\n",
    "\n",
    "var trace1 = {\n",
    "  x: ['giraffes', 'orangutans', 'monkeys'],\n",
    "  y: [20, 14, 23],\n",
    "  name: 'SF Zoo',\n",
    "  type: 'bar'\n",
    "};\n",
    "\n",
    "var trace2 = {\n",
    "  x: ['giraffes', 'orangutans', 'monkeys'],\n",
    "  y: [12, 18, 29],\n",
    "  name: 'LA Zoo',\n",
    "  type: 'bar'\n",
    "};\n",
    "\n",
    "var data = beakerx.traces\n",
    "\n",
    "var layout = {barmode: 'stack'};\n",
    "\n",
    "Plotly.newPlot('plotlyDiv', data, layout);"
   ]
  },
  {
   "cell_type": "code",
   "execution_count": null,
   "metadata": {},
   "outputs": [],
   "source": []
  },
  {
   "cell_type": "code",
   "execution_count": null,
   "metadata": {},
   "outputs": [],
   "source": []
  }
 ],
 "metadata": {
  "kernelspec": {
   "display_name": "Groovy",
   "language": "groovy",
   "name": "groovy"
  },
  "language_info": {
   "codemirror_mode": "groovy",
   "file_extension": ".groovy",
   "mimetype": "",
   "name": "Groovy",
   "nbconverter_exporter": "",
   "version": "2.5.6"
  },
  "pycharm": {
   "stem_cell": {
    "cell_type": "raw",
    "metadata": {
     "collapsed": false
    },
    "source": []
   }
  },
  "toc": {
   "base_numbering": 1,
   "nav_menu": {},
   "number_sections": false,
   "sideBar": false,
   "skip_h1_title": false,
   "title_cell": "Table of Contents",
   "title_sidebar": "Contents",
   "toc_cell": false,
   "toc_position": {},
   "toc_section_display": false,
   "toc_window_display": false
  }
 },
 "nbformat": 4,
 "nbformat_minor": 2
}
