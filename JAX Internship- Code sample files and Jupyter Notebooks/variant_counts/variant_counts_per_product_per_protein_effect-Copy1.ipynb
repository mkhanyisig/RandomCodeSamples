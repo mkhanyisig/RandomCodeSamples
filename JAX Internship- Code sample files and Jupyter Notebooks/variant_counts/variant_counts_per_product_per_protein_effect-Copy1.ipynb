{
 "cells": [
  {
   "cell_type": "code",
   "execution_count": 2,
   "metadata": {},
   "outputs": [
    {
     "name": "stdout",
     "output_type": "stream",
     "text": [
      "[{'x': ['BOOST', 'CORE'], 'y': [1370, 0], 'name': 'gain of function', 'type': 'bar'}, {'x': ['BOOST', 'CORE'], 'y': [818, 0], 'name': 'gain of function - predicted', 'type': 'bar'}, {'x': ['BOOST', 'CORE'], 'y': [1833, 0], 'name': 'loss of function', 'type': 'bar'}, {'x': ['BOOST', 'CORE'], 'y': [3222, 0], 'name': 'loss of function - predicted', 'type': 'bar'}, {'x': ['BOOST', 'CORE'], 'y': [1335, 0], 'name': 'no effect', 'type': 'bar'}, {'x': ['BOOST', 'CORE'], 'y': [1014, 0], 'name': 'no effect - predicted', 'type': 'bar'}, {'x': ['BOOST', 'CORE'], 'y': [19649, 0], 'name': 'unknown', 'type': 'bar'}, {'x': ['BOOST', 'CORE'], 'y': [6, 0], 'name': 'unspecified/not applicable', 'type': 'bar'}, {'x': ['BOOST', 'CORE'], 'y': [0, 724], 'name': 'gain of function', 'type': 'bar'}, {'x': ['BOOST', 'CORE'], 'y': [0, 618], 'name': 'gain of function - predicted', 'type': 'bar'}, {'x': ['BOOST', 'CORE'], 'y': [0, 673], 'name': 'loss of function', 'type': 'bar'}, {'x': ['BOOST', 'CORE'], 'y': [0, 1698], 'name': 'loss of function - predicted', 'type': 'bar'}, {'x': ['BOOST', 'CORE'], 'y': [0, 283], 'name': 'no effect', 'type': 'bar'}, {'x': ['BOOST', 'CORE'], 'y': [0, 472], 'name': 'no effect - predicted', 'type': 'bar'}, {'x': ['BOOST', 'CORE'], 'y': [0, 6379], 'name': 'unknown', 'type': 'bar'}, {'x': ['BOOST', 'CORE'], 'y': [0, 1], 'name': 'unspecified/not applicable', 'type': 'bar'}]\n"
     ]
    }
   ],
   "source": [
    "from beakerx import *\n",
    "import pandas as pd\n",
    "\n",
    "vc_csv = pd.read_csv('../data/variant_counts_per_product_per_protein_effect.csv', names=['product', 'protein_effect', 'count'], header = 0)\n",
    "uniqueLabels = vc_csv['protein_effect'].unique()\n",
    "boostList = []\n",
    "coreList = []\n",
    "labelList = []\n",
    "beakerx.coreMap = {}\n",
    "\n",
    "\n",
    "bigResult = []\n",
    "\n",
    "for index, row in vc_csv.iterrows():\n",
    "    label = ''\n",
    "    boostCount = 0\n",
    "    coreCount = 0\n",
    "    \n",
    "    label = row['protein_effect']\n",
    "    if row['product'] == 'BOOST':\n",
    "        boostCount = row['count']\n",
    "    elif row['product'] == 'CORE':\n",
    "        coreCount = row['count']\n",
    "    \n",
    "    result = {\n",
    "        'x': [\"BOOST\", \"CORE\"],\n",
    "        'y': [boostCount, coreCount],\n",
    "        'name': label,\n",
    "        'type': 'bar'\n",
    "    }\n",
    "    \n",
    "    bigResult.append(result)\n",
    "    \n",
    "\n",
    "    \n",
    "print (bigResult)\n",
    "        \n",
    "\n",
    " \n"
   ]
  },
  {
   "cell_type": "code",
   "execution_count": null,
   "metadata": {},
   "outputs": [],
   "source": [
    "%%html\n",
    "<div id=\"plotlyHorizontalBar\"></div>"
   ]
  },
  {
   "cell_type": "code",
   "execution_count": null,
   "metadata": {},
   "outputs": [],
   "source": [
    "%%javascript\n",
    "require.config({paths:{'plotly':'//cdn.plot.ly/plotly-latest.min'}});\n",
    "require(['plotly'], function(Plotly) {\n",
    "    window.Plotly = Plotly;\n",
    "});\n",
    "\n",
    "\n",
    "var trace1 = {\n",
    "  x: beakerx.variants.labels,\n",
    "  y: beakerx.variants.boost,\n",
    "  name: 'CKB BOOST',\n",
    "  type: 'bar'\n",
    "};\n",
    "\n",
    "var trace2 = {\n",
    "  x:  beakerx.variants.labels,\n",
    "  y: beakerx.variants.core,\n",
    "  name: 'CKB CORE',\n",
    "  type: 'bar'\n",
    "};\n",
    "\n",
    "var data = [trace1, trace2];\n",
    "\n",
    "var layout = {barmode: 'stack'};\n",
    "\n",
    "Plotly.newPlot('plotlyHorizontalBar', data, layout);\n"
   ]
  }
 ],
 "metadata": {
  "kernelspec": {
   "display_name": "Python 3",
   "language": "python",
   "name": "python3"
  },
  "language_info": {
   "codemirror_mode": {
    "name": "ipython",
    "version": 3
   },
   "file_extension": ".py",
   "mimetype": "text/x-python",
   "name": "python",
   "nbconvert_exporter": "python",
   "pygments_lexer": "ipython3",
   "version": "3.6.5"
  },
  "toc": {
   "base_numbering": 1,
   "nav_menu": {},
   "number_sections": false,
   "sideBar": false,
   "skip_h1_title": false,
   "title_cell": "Table of Contents",
   "title_sidebar": "Contents",
   "toc_cell": false,
   "toc_position": {},
   "toc_section_display": false,
   "toc_window_display": false
  }
 },
 "nbformat": 4,
 "nbformat_minor": 2
}
