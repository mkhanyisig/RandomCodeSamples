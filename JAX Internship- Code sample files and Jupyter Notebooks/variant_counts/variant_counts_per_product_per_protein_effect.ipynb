{
 "cells": [
  {
   "cell_type": "code",
   "execution_count": null,
   "metadata": {},
   "outputs": [],
   "source": [
    "# uncomment if running from Docker\n",
    "# from beakerx import *\n",
    "\n",
    "# uncomment if running from Conda\n",
    "from beakerx.object import beakerx\n",
    "import pandas as pd\n",
    "\n",
    "vc_csv = pd.read_csv('../data/variant_counts_per_product_per_protein_effect.csv', names=['product', 'protein_effect', 'count'], header = 0)\n",
    "uniqueLabels = vc_csv['protein_effect'].unique()\n",
    "beakerx.uniqueLabels = uniqueLabels\n",
    "print (\"unique labels :\\n \",uniqueLabels,\"\\n\")\n",
    "boostList = []\n",
    "coreList = []\n",
    "labelList = []\n",
    "coreMap = {}\n",
    "boostMap = {}\n",
    "    \n",
    "\n",
    "for key in uniqueLabels:\n",
    "    coreMap.update({key: 0})\n",
    "    boostMap.update({key:0})\n",
    "\n",
    "\n",
    "\n",
    "for index, row in vc_csv.iterrows():\n",
    "    labelList.append(row['protein_effect'])\n",
    "    if row['product'] == 'BOOST':\n",
    "        boostList.append(row['count'])\n",
    "        boostMap.update({row['protein_effect']:(boostMap[row['protein_effect']]+ row['count']) })\n",
    "        \n",
    "    elif row['product'] == 'CORE':\n",
    "        coreList.append(row['count'])\n",
    "        coreMap.update({row['protein_effect']:(coreMap[row['protein_effect']]+ row['count']) })\n",
    "        \n",
    "uniqueList = set(labelList)\n",
    "\n",
    "print (\"core map :\\n \",coreMap,\"\\n\")\n",
    "print (\"boost map :\\n \",boostMap,\"\\n\")\n",
    "\n",
    "\n",
    "beakerx.variants = {'labels': uniqueLabels, 'boost': boostList, 'core': coreList}\n",
    "\n",
    "# build data structure for stacked bar chart\n",
    "beakerx.coreMap = coreMap\n",
    "beakerx.boostMap = boostMap \n"
   ]
  },
  {
   "cell_type": "code",
   "execution_count": null,
   "metadata": {},
   "outputs": [],
   "source": [
    "%%html\n",
    "<div id=\"plotlyHorizontalBar\"></div>"
   ]
  },
  {
   "cell_type": "code",
   "execution_count": null,
   "metadata": {},
   "outputs": [],
   "source": [
    "%%javascript\n",
    "require.config({paths:{'plotly':'//cdn.plot.ly/plotly-latest.min'}});\n",
    "require(['plotly'], function(Plotly) {\n",
    "    window.Plotly = Plotly;\n",
    "});\n",
    "\n",
    "\n",
    "var trace1 = {\n",
    "  x: beakerx.variants.labels,\n",
    "  y: beakerx.variants.boost,\n",
    "  name: 'CKB BOOST',\n",
    "  type: 'bar'\n",
    "};\n",
    "\n",
    "var trace2 = {\n",
    "  x:  beakerx.variants.labels,\n",
    "  y: beakerx.variants.core,\n",
    "  name: 'CKB CORE',\n",
    "  type: 'bar'\n",
    "};\n",
    "\n",
    "var data = [trace1, trace2];\n",
    "\n",
    "var layout = {barmode: 'stack'};\n",
    "\n",
    "Plotly.newPlot('plotlyHorizontalBar', data, layout);\n"
   ]
  },
  {
   "cell_type": "markdown",
   "metadata": {},
   "source": [
    "# Update for stacked bar charts"
   ]
  },
  {
   "cell_type": "code",
   "execution_count": null,
   "metadata": {},
   "outputs": [],
   "source": [
    "dataList = []\n",
    "for PE in beakerx.uniqueLabels:\n",
    "    trace = {\"x\": ['CORE','BOOST'],\"y\": [beakerx.coreMap[PE],beakerx.boostMap[PE]], \"name\" : PE, \"type\" :  \"bar\" }\n",
    "    dataList.append(trace)\n",
    "    \n",
    "#print (dataList)    \n",
    "beakerx.traces = dataList    "
   ]
  },
  {
   "cell_type": "code",
   "execution_count": null,
   "metadata": {},
   "outputs": [],
   "source": [
    "%%javascript\n",
    "beakerx.displayHTML(this, '<div id=\"plotlyDiv\"></div>');\n",
    "\n",
    "var data = beakerx.traces\n",
    "\n",
    "var layout = {barmode: 'stack'};\n",
    "\n",
    "Plotly.newPlot('plotlyDiv', data, layout);"
   ]
  },
  {
   "cell_type": "code",
   "execution_count": null,
   "metadata": {},
   "outputs": [],
   "source": []
  },
  {
   "cell_type": "code",
   "execution_count": null,
   "metadata": {},
   "outputs": [],
   "source": []
  },
  {
   "cell_type": "code",
   "execution_count": null,
   "metadata": {},
   "outputs": [],
   "source": []
  }
 ],
 "metadata": {
  "kernelspec": {
   "display_name": "Python 3",
   "language": "python",
   "name": "python3"
  },
  "language_info": {
   "codemirror_mode": {
    "name": "ipython",
    "version": 3
   },
   "file_extension": ".py",
   "mimetype": "text/x-python",
   "name": "python",
   "nbconvert_exporter": "python",
   "pygments_lexer": "ipython3",
   "version": "3.7.4"
  },
  "toc": {
   "base_numbering": 1,
   "nav_menu": {},
   "number_sections": false,
   "sideBar": false,
   "skip_h1_title": false,
   "title_cell": "Table of Contents",
   "title_sidebar": "Contents",
   "toc_cell": false,
   "toc_position": {},
   "toc_section_display": false,
   "toc_window_display": false
  }
 },
 "nbformat": 4,
 "nbformat_minor": 2
}
