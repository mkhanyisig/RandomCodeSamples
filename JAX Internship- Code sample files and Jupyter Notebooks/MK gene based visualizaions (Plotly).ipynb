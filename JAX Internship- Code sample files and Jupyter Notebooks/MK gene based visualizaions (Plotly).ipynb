{
 "cells": [
  {
   "cell_type": "markdown",
   "metadata": {},
   "source": [
    "Reading a file with json representing a Gene.\n",
    "Using JsonSlurper to parse the file, jsonSlurper let's you walk the json structure using dot notation treating the json doc like a map of nested properties."
   ]
  },
  {
   "cell_type": "code",
   "execution_count": 61,
   "metadata": {},
   "outputs": [],
   "source": [
    "String jsonText = new File('data/api-export/genes/genes-25.json').text\n",
    "def slurper = new groovy.json.JsonSlurper()\n",
    "json =slurper.parseText(jsonText)\n",
    "OutputCell.HIDDEN"
   ]
  },
  {
   "cell_type": "code",
   "execution_count": 62,
   "metadata": {},
   "outputs": [],
   "source": [
    "mapByProteinEffect = json.variants.groupBy{it.proteinEffect}\n",
    "OutputCell.HIDDEN"
   ]
  },
  {
   "cell_type": "code",
   "execution_count": 63,
   "metadata": {},
   "outputs": [],
   "source": [
    "mapByImpact = json.variants.groupBy{it.impact}\n",
    "OutputCell.HIDDEN "
   ]
  },
  {
   "cell_type": "code",
   "execution_count": 64,
   "metadata": {},
   "outputs": [
    {
     "data": {
      "application/vnd.jupyter.widget-view+json": {
       "model_id": "e949826e-ee10-4a00-ad84-53625bb55a52",
       "version_major": 2,
       "version_minor": 0
      },
      "method": "display_data"
     },
     "metadata": {},
     "output_type": "display_data"
    }
   ],
   "source": [
    "def gridLayoutManager = new GridOutputContainerLayoutManager(2)\n",
    "outputContainer = new OutputContainer()\n",
    "outputContainer.setLayoutManager(gridLayoutManager)\n",
    "outputContainer\n",
    "\n",
    "def proteinEffectList = mapByProteinEffect.keySet() as List\n",
    "def proteinEffectcounts = mapByProteinEffect.values().collect{it.size()}\n",
    "def proteinEffectPlot = new CategoryPlot(initWidth: 1000, initHeight: 400, categoryNames:proteinEffectList, title: 'Protein Effect Plot')\n",
    "proteinEffectPlot << new CategoryBars(value: [proteinEffectcounts])\n",
    "beakerx.effectMap = [effects : proteinEffectList, counts : proteinEffectcounts]\n",
    "outputContainer.addItem(proteinEffectPlot, 'Protein Effect Plot')\n",
    "\n",
    "def impactCategories = mapByImpact.keySet() as List\n",
    "def impactCounts = mapByImpact.values().collect{it.size()}\n",
    "/* incoporating beakerX functionalities  */\n",
    "beakerx.impactMap = [impactCategories : impactCategories, counts : impactCounts]\n",
    "def impactPlot = new CategoryPlot(initWidth: 1000, initHeight: 400, categoryNames:impactCategories, title:'Impact Plot')\n",
    "impactPlot << new CategoryBars(value: [impactCounts])\n",
    "\n",
    "outputContainer.addItem(impactPlot, 'Impact Plot')\n",
    "outputContainer"
   ]
  },
  {
   "cell_type": "markdown",
   "metadata": {},
   "source": [
    "# Interactive Bar Charts  plots in Plotly"
   ]
  },
  {
   "cell_type": "code",
   "execution_count": 65,
   "metadata": {},
   "outputs": [
    {
     "data": {
      "text/html": [
       "<html><table border='1'>\n",
       "    <tr>\n",
       "        <td><div id=\"plotlyHorizontalBar\"/></td><td><div id=\"plotlyPieChart\"/></td>\n",
       "    </tr>\n",
       "</table></html>"
      ]
     },
     "execution_count": 65,
     "metadata": {},
     "output_type": "execute_result"
    }
   ],
   "source": [
    "%%html\n",
    "<table border='1'>\n",
    "    <tr>\n",
    "        <td><div id=\"plotlyHorizontalBar\"/></td><td><div id=\"plotlyPieChart\"/></td>\n",
    "    </tr>\n",
    "</table>"
   ]
  },
  {
   "cell_type": "markdown",
   "metadata": {},
   "source": [
    "# More Visualizations"
   ]
  },
  {
   "cell_type": "code",
   "execution_count": 66,
   "metadata": {},
   "outputs": [
    {
     "data": {
      "application/javascript": [
       "require.config({paths:{'plotly':'//cdn.plot.ly/plotly-latest.min'}});\n",
       "require(['plotly'], function(Plotly) {\n",
       "    window.Plotly = Plotly;\n",
       "});"
      ]
     },
     "execution_count": 66,
     "metadata": {},
     "output_type": "execute_result"
    }
   ],
   "source": [
    "%%javascript\n",
    "require.config({paths:{'plotly':'//cdn.plot.ly/plotly-latest.min'}});\n",
    "require(['plotly'], function(Plotly) {\n",
    "    window.Plotly = Plotly;\n",
    "});"
   ]
  },
  {
   "cell_type": "code",
   "execution_count": 67,
   "metadata": {},
   "outputs": [
    {
     "data": {
      "application/javascript": [
       "\n",
       "beakerx.displayHTML(this, '<div id=\"plotlyHorizontalBar\"/>');\n",
       "var data = [\n",
       "  {\n",
       "    x: beakerx.impactMap.counts,\n",
       "    y: beakerx.impactMap.impactCategories,    \n",
       "    type: 'bar',\n",
       "    orientation:'h'\n",
       "  }\n",
       "];\n",
       "\n",
       "Plotly.newPlot('plotlyHorizontalBar', data, {width:500});"
      ]
     },
     "execution_count": 67,
     "metadata": {},
     "output_type": "execute_result"
    }
   ],
   "source": [
    "%%javascript\n",
    "\n",
    "beakerx.displayHTML(this, '<div id=\"plotlyHorizontalBar\"/>');\n",
    "var data = [\n",
    "  {\n",
    "    x: beakerx.impactMap.counts,\n",
    "    y: beakerx.impactMap.impactCategories,    \n",
    "    type: 'bar',\n",
    "    orientation:'h'\n",
    "  }\n",
    "];\n",
    "\n",
    "Plotly.newPlot('plotlyHorizontalBar', data, {width:500});"
   ]
  },
  {
   "cell_type": "code",
   "execution_count": 68,
   "metadata": {},
   "outputs": [
    {
     "data": {
      "application/javascript": [
       "beakerx.displayHTML(this, '<div id=\"plotlyPieChart\"></div>');\n",
       "var data = [{\n",
       "  values: beakerx.impactMap.counts,\n",
       "  labels: beakerx.impactMap.impactCategories,\n",
       "  type: 'pie'\n",
       "}];\n",
       "\n",
       "var layout = {\n",
       "  height: 400,\n",
       "  width: 500\n",
       "};\n",
       "\n",
       "Plotly.newPlot('plotlyPieChart', data, layout);"
      ]
     },
     "execution_count": 68,
     "metadata": {},
     "output_type": "execute_result"
    }
   ],
   "source": [
    "%%javascript\n",
    "beakerx.displayHTML(this, '<div id=\"plotlyPieChart\"></div>');\n",
    "var data = [{\n",
    "  values: beakerx.impactMap.counts,\n",
    "  labels: beakerx.impactMap.impactCategories,\n",
    "  type: 'pie'\n",
    "}];\n",
    "\n",
    "var layout = {\n",
    "  height: 400,\n",
    "  width: 500\n",
    "};\n",
    "\n",
    "Plotly.newPlot('plotlyPieChart', data, layout);\n"
   ]
  },
  {
   "cell_type": "markdown",
   "metadata": {},
   "source": [
    "# Donut  Plots"
   ]
  },
  {
   "cell_type": "code",
   "execution_count": 69,
   "metadata": {},
   "outputs": [
    {
     "data": {
      "text/html": [
       "<html><table border='1'>\n",
       "    <tr>\n",
       "        <td><div id=\"plotlyDonutEffect\"/></td><td><div id=\"plotlyDonutImpact\"/></td>\n",
       "    </tr>\n",
       "</table></html>"
      ]
     },
     "execution_count": 69,
     "metadata": {},
     "output_type": "execute_result"
    }
   ],
   "source": [
    "%%html\n",
    "<table border='1'>\n",
    "    <tr>\n",
    "        <td><div id=\"plotlyDonutEffect\"/></td><td><div id=\"plotlyDonutImpact\"/></td>\n",
    "    </tr>\n",
    "</table>"
   ]
  },
  {
   "cell_type": "markdown",
   "metadata": {},
   "source": [
    "# Donut plot categories can be clicked out"
   ]
  },
  {
   "cell_type": "code",
   "execution_count": 70,
   "metadata": {},
   "outputs": [
    {
     "data": {
      "application/javascript": [
       "beakerx.displayHTML(this, '<div id=\"plotlyDonutEffect\"></div>');\n",
       "var data = [{\n",
       "  values: beakerx.impactMap.counts,\n",
       "  labels: beakerx.impactMap.impactCategories,\n",
       "  type: 'pie',\n",
       "  name : 'Impact',\n",
       "  hoverinfo: 'label+percent+name',\n",
       "  hole: .4\n",
       "}];\n",
       "\n",
       "var layout = {\n",
       "    title: 'Impact',\n",
       "    font: {\n",
       "        family: 'Courier New, monospace',\n",
       "        size: 12,\n",
       "        color: '#7f7f7f'\n",
       "      },\n",
       "    annotations: {\n",
       "      \n",
       "      showarrow: true,\n",
       "      text: 'Impact',\n",
       "      textposition: 'inside',\n",
       "      x: 0.17,\n",
       "      y: 0.5\n",
       "    },\n",
       "    height: 400,\n",
       "    width: 600,\n",
       "    showlegend: true\n",
       "}\n",
       "\n",
       "Plotly.newPlot('plotlyDonutEffect', data, layout);"
      ]
     },
     "execution_count": 70,
     "metadata": {},
     "output_type": "execute_result"
    }
   ],
   "source": [
    "%%javascript\n",
    "beakerx.displayHTML(this, '<div id=\"plotlyDonutEffect\"></div>');\n",
    "var data = [{\n",
    "  values: beakerx.impactMap.counts,\n",
    "  labels: beakerx.impactMap.impactCategories,\n",
    "  type: 'pie',\n",
    "  name : 'Impact',\n",
    "  hoverinfo: 'label+percent+name',\n",
    "  hole: .4\n",
    "}];\n",
    "\n",
    "var layout = {\n",
    "    title: 'Impact',\n",
    "    font: {\n",
    "        family: 'Courier New, monospace',\n",
    "        size: 12,\n",
    "        color: '#7f7f7f'\n",
    "      },\n",
    "    annotations: {\n",
    "      \n",
    "      showarrow: true,\n",
    "      text: 'Impact',\n",
    "      textposition: 'inside',\n",
    "      x: 0.17,\n",
    "      y: 0.5\n",
    "    },\n",
    "    height: 400,\n",
    "    width: 600,\n",
    "    showlegend: true\n",
    "}\n",
    "\n",
    "Plotly.newPlot('plotlyDonutEffect', data, layout);"
   ]
  },
  {
   "cell_type": "code",
   "execution_count": 71,
   "metadata": {},
   "outputs": [
    {
     "data": {
      "application/javascript": [
       "beakerx.displayHTML(this, '<div id=\"plotlyDonutImpact\"></div>');\n",
       "var data = [{\n",
       "  values: beakerx.effectMap.counts,\n",
       "  labels: beakerx.effectMap.effects,\n",
       "  type: 'pie',\n",
       "  name : 'Impact',\n",
       "  hoverinfo: 'label+percent+name',\n",
       "  hole: .4\n",
       "}];\n",
       "\n",
       "var layout = {\n",
       "    title: 'Protein Effect',\n",
       "    font: {\n",
       "        family: 'Courier New, monospace',\n",
       "        size: 12,\n",
       "        color: '#7f7f7f'\n",
       "      },\n",
       "    annotations: {\n",
       "      font: {\n",
       "        size: 20\n",
       "      },\n",
       "      showarrow: false,\n",
       "      text: 'Protein Effect',\n",
       "      textposition: 'inside',\n",
       "      \n",
       "      x: 0.17,\n",
       "      y: 0.5\n",
       "    },\n",
       "    height: 400,\n",
       "    width: 600,\n",
       "    showlegend: true\n",
       "}\n",
       "\n",
       "Plotly.newPlot('plotlyDonutImpact', data, layout);"
      ]
     },
     "execution_count": 71,
     "metadata": {},
     "output_type": "execute_result"
    }
   ],
   "source": [
    "%%javascript\n",
    "beakerx.displayHTML(this, '<div id=\"plotlyDonutImpact\"></div>');\n",
    "var data = [{\n",
    "  values: beakerx.effectMap.counts,\n",
    "  labels: beakerx.effectMap.effects,\n",
    "  type: 'pie',\n",
    "  name : 'Impact',\n",
    "  hoverinfo: 'label+percent+name',\n",
    "  hole: .4\n",
    "}];\n",
    "\n",
    "var layout = {\n",
    "    title: 'Protein Effect',\n",
    "    font: {\n",
    "        family: 'Courier New, monospace',\n",
    "        size: 12,\n",
    "        color: '#7f7f7f'\n",
    "      },\n",
    "    annotations: {\n",
    "      font: {\n",
    "        size: 20\n",
    "      },\n",
    "      showarrow: false,\n",
    "      text: 'Protein Effect',\n",
    "      textposition: 'inside',\n",
    "      \n",
    "      x: 0.17,\n",
    "      y: 0.5\n",
    "    },\n",
    "    height: 400,\n",
    "    width: 600,\n",
    "    showlegend: true\n",
    "}\n",
    "\n",
    "Plotly.newPlot('plotlyDonutImpact', data, layout);"
   ]
  },
  {
   "cell_type": "markdown",
   "metadata": {},
   "source": [
    "## Gene Level Evidence Categorical Data With Varied Visuals"
   ]
  },
  {
   "cell_type": "code",
   "execution_count": 72,
   "metadata": {},
   "outputs": [
    {
     "data": {
      "text/html": [
       "<html><body>\n",
       "        <div id=\"evidenceCategories\"/></div>\n",
       "</body></html>"
      ]
     },
     "execution_count": 72,
     "metadata": {},
     "output_type": "execute_result"
    }
   ],
   "source": [
    "%%html\n",
    "<body>\n",
    "        <div id=\"evidenceCategories\"/></div>\n",
    "</body>"
   ]
  },
  {
   "cell_type": "code",
   "execution_count": 73,
   "metadata": {},
   "outputs": [],
   "source": [
    "// Create multiple maps\n",
    "mapEvidenceByResponse = json.evidence.groupBy{it.responseType}\n",
    "mapEvidenceByTherapy = json.evidence.groupBy{it.therapy.therapyName}\n",
    "mapEvidenceByIndication = json.evidence.groupBy{it.indication.name}\n",
    "mapEvidenceByStatus = json.evidence.groupBy{it.approvalStatus}\n",
    "OutputCell.HIDDEN"
   ]
  },
  {
   "cell_type": "code",
   "execution_count": 74,
   "metadata": {},
   "outputs": [],
   "source": [
    "// map key-value pairs\n",
    "// keys\n",
    "def responseList = mapEvidenceByResponse.keySet() as List\n",
    "def therapyList = mapEvidenceByTherapy.keySet() as List\n",
    "def indicationList = mapEvidenceByIndication.keySet() as List\n",
    "def statusList = mapEvidenceByStatus.keySet() as List\n",
    "\n",
    "// value counts\n",
    "def responseCounts = mapEvidenceByResponse.values().collect{it.size()}\n",
    "def therapyCounts = mapEvidenceByTherapy.values().collect{it.size()}\n",
    "def indicationCounts = mapEvidenceByIndication.values().collect{it.size()}\n",
    "def statusCounts = mapEvidenceByStatus.values().collect{it.size()}\n",
    "\n",
    "// map to beakerx\n",
    "beakerx.responseMap = [response : responseList, counts: responseCounts]\n",
    "beakerx.therapyMap = [therapy : therapyList, counts : therapyCounts]\n",
    "beakerx.indicationMap = [indication : indicationList, counts : indicationCounts]\n",
    "beakerx.statusMap = [status : statusList, counts : statusCounts]\n",
    "\n",
    "OutputCell.HIDDEN"
   ]
  },
  {
   "cell_type": "code",
   "execution_count": 75,
   "metadata": {},
   "outputs": [
    {
     "data": {
      "application/javascript": [
       "// plot\n",
       "beakerx.displayHTML(this, '<div id=\"evidenceCategories\"></div>');\n",
       "\n",
       "var data = [{\n",
       "  values: beakerx.responseMap.counts,\n",
       "  labels: beakerx.responseMap.response,\n",
       "  domain: {column: 0},\n",
       "  name: 'Response Type',\n",
       "  hoverinfo: 'label+percent',\n",
       "  hole: .6,\n",
       "  type: 'pie'\n",
       "},{\n",
       "  values: beakerx.therapyMap.counts,\n",
       "  labels: beakerx.therapyMap.therapy,\n",
       "  domain: {column: 1},\n",
       "  name: 'Therapy Name',\n",
       "  hoverinfo: 'label+percent',\n",
       "  hole: .4,\n",
       "  type: 'pie'\n",
       "},\n",
       "{\n",
       "    values: beakerx.indicationMap.counts,\n",
       "    labels: beakerx.indicationMap.indication,\n",
       "    domain: {column: 2},\n",
       "    name: 'Indication/ Tumor Type',\n",
       "    hoverinfo: 'label+percent',\n",
       "    hole: .565,\n",
       "    type: 'pie'\n",
       "            \n",
       "},\n",
       "{\n",
       "    values: beakerx.statusMap.counts,\n",
       "    labels: beakerx.statusMap.status,\n",
       "    domain: {column: 3},\n",
       "    name: 'Approval status',\n",
       "    hoverinfo: 'label+percent',\n",
       "    hole: .35,\n",
       "    type: 'pie'            \n",
       "}\n",
       "                      \n",
       " ];\n",
       "\n",
       "var layout = {\n",
       "  title: 'Gene Level Evidence Categories',\n",
       "   font: {\n",
       "        family: 'Courier New, monospace',\n",
       "        size: 14,\n",
       "        color: '#7f7f7f'\n",
       "      },\n",
       "    annotations: [\n",
       "    {\n",
       "      font: {\n",
       "        size: 14\n",
       "      },\n",
       "      showarrow: false,\n",
       "      text: 'Response',\n",
       "      x: 0.08,\n",
       "      y: 0.5\n",
       "    },\n",
       "    {\n",
       "      font: {\n",
       "        size: 14\n",
       "      },\n",
       "      showarrow: false,\n",
       "      text: 'Therapy',\n",
       "      x: 0.38,\n",
       "      y: 0.5\n",
       "    },\n",
       "    {\n",
       "      font: {\n",
       "        size: 14\n",
       "      },\n",
       "      showarrow: false,\n",
       "      text: 'Indication',\n",
       "      x: 0.63,\n",
       "      y: 0.5\n",
       "    },\n",
       "    {\n",
       "      font: {\n",
       "        size: 14\n",
       "      },\n",
       "      showarrow: false,\n",
       "      text: 'Status',\n",
       "      x: 0.92,\n",
       "      y: 0.5\n",
       "    }  \n",
       "  ],\n",
       "  height: 500,\n",
       "  width: 1800,\n",
       "  showlegend: true,\n",
       "  grid: {rows: 1, columns: 4}\n",
       "};\n",
       "\n",
       "Plotly.newPlot('evidenceCategories', data, layout);"
      ]
     },
     "execution_count": 75,
     "metadata": {},
     "output_type": "execute_result"
    }
   ],
   "source": [
    "%%javascript\n",
    "// plot\n",
    "beakerx.displayHTML(this, '<div id=\"evidenceCategories\"></div>');\n",
    "\n",
    "var data = [{\n",
    "  values: beakerx.responseMap.counts,\n",
    "  labels: beakerx.responseMap.response,\n",
    "  domain: {column: 0},\n",
    "  name: 'Response Type',\n",
    "  hoverinfo: 'label+percent',\n",
    "  hole: .6,\n",
    "  type: 'pie'\n",
    "},{\n",
    "  values: beakerx.therapyMap.counts,\n",
    "  labels: beakerx.therapyMap.therapy,\n",
    "  domain: {column: 1},\n",
    "  name: 'Therapy Name',\n",
    "  hoverinfo: 'label+percent',\n",
    "  hole: .4,\n",
    "  type: 'pie'\n",
    "},\n",
    "{\n",
    "    values: beakerx.indicationMap.counts,\n",
    "    labels: beakerx.indicationMap.indication,\n",
    "    domain: {column: 2},\n",
    "    name: 'Indication/ Tumor Type',\n",
    "    hoverinfo: 'label+percent',\n",
    "    hole: .565,\n",
    "    type: 'pie'\n",
    "            \n",
    "},\n",
    "{\n",
    "    values: beakerx.statusMap.counts,\n",
    "    labels: beakerx.statusMap.status,\n",
    "    domain: {column: 3},\n",
    "    name: 'Approval status',\n",
    "    hoverinfo: 'label+percent',\n",
    "    hole: .35,\n",
    "    type: 'pie'            \n",
    "}\n",
    "                      \n",
    " ];\n",
    "\n",
    "var layout = {\n",
    "  title: 'Gene Level Evidence Categories',\n",
    "   font: {\n",
    "        family: 'Courier New, monospace',\n",
    "        size: 14,\n",
    "        color: '#7f7f7f'\n",
    "      },\n",
    "    annotations: [\n",
    "    {\n",
    "      font: {\n",
    "        size: 14\n",
    "      },\n",
    "      showarrow: false,\n",
    "      text: 'Response',\n",
    "      x: 0.08,\n",
    "      y: 0.5\n",
    "    },\n",
    "    {\n",
    "      font: {\n",
    "        size: 14\n",
    "      },\n",
    "      showarrow: false,\n",
    "      text: 'Therapy',\n",
    "      x: 0.38,\n",
    "      y: 0.5\n",
    "    },\n",
    "    {\n",
    "      font: {\n",
    "        size: 14\n",
    "      },\n",
    "      showarrow: false,\n",
    "      text: 'Indication',\n",
    "      x: 0.63,\n",
    "      y: 0.5\n",
    "    },\n",
    "    {\n",
    "      font: {\n",
    "        size: 14\n",
    "      },\n",
    "      showarrow: false,\n",
    "      text: 'Status',\n",
    "      x: 0.92,\n",
    "      y: 0.5\n",
    "    }  \n",
    "  ],\n",
    "  height: 500,\n",
    "  width: 1800,\n",
    "  showlegend: true,\n",
    "  grid: {rows: 1, columns: 4}\n",
    "};\n",
    "\n",
    "Plotly.newPlot('evidenceCategories', data, layout);\n"
   ]
  },
  {
   "cell_type": "markdown",
   "metadata": {},
   "source": [
    "# Gene Level Evidence Categories SunBurst Chart"
   ]
  },
  {
   "cell_type": "code",
   "execution_count": 76,
   "metadata": {},
   "outputs": [
    {
     "data": {
      "text/html": [
       "<html><body>\n",
       "        <div id=\"GeneSunburst\"/></div>\n",
       "</body></html>"
      ]
     },
     "execution_count": 76,
     "metadata": {},
     "output_type": "execute_result"
    }
   ],
   "source": [
    "%%html\n",
    "<body>\n",
    "        <div id=\"GeneSunburst\"/></div>\n",
    "</body>"
   ]
  },
  {
   "cell_type": "code",
   "execution_count": 77,
   "metadata": {},
   "outputs": [
    {
     "data": {
      "application/javascript": [
       "// plot\n",
       "beakerx.displayHTML(this, '<div id=\"GeneSunburst\"></div>');\n",
       "\n",
       "// added inputs manually, need to figure out way to map gene level evidence data into treemap, then build sunburst chart\n",
       "var data = [{\n",
       "  type: \"sunburst\",\n",
       "  labels: [\"Gene Level Evidence\", \"Tumor Type\", \"Response Type\", \"Therapy Name\", \"Approval Status\", \"Evidence Type\", \"Oral cavity cancer\", \"Lung adenocarcinoma\", \"Dasatinib\",\"Nilotinib\",\"Imatinib\", \"Preclinical\", \"Case Report/Case Series\",\"Preclinical Cell line xenograft\"],\n",
       "  parents: [\"\", \"Gene Level Evidence\",\"Gene Level Evidence\",\"Gene Level Evidence\",\"Gene Level Evidence\",\"Gene Level Evidence\", \"Tumor Type\", \"Tumor Type\", \"Therapy Name\", \"Therapy Name\",\"Therapy Name\", \"Approval Status\",\"Approval Status\",\"Approval Status\"],\n",
       "  values:  [10,7,7,7,7,7, 1, 6, 3,1,3,4,1,2],\n",
       "  branchvalues: \"remainder\",\n",
       "  outsidetextfont: {size: 20, color: \"#377eb8\"},\n",
       "  leaf: {opacity: 0.4},\n",
       "  marker: {line: {width: 2}},\n",
       "}];\n",
       "\n",
       "var layout = {\n",
       "  margin: {l: 0, r: 0, b: 0, t: 0},\n",
       "  width: 1000,\n",
       "  height: 800,\n",
       "    showlegend: true\n",
       "};\n",
       "\n",
       "\n",
       "Plotly.newPlot('GeneSunburst', data, layout);"
      ]
     },
     "execution_count": 77,
     "metadata": {},
     "output_type": "execute_result"
    }
   ],
   "source": [
    "%%javascript\n",
    "// plot\n",
    "beakerx.displayHTML(this, '<div id=\"GeneSunburst\"></div>');\n",
    "\n",
    "// added inputs manually, need to figure out way to map gene level evidence data into treemap, then build sunburst chart\n",
    "var data = [{\n",
    "  type: \"sunburst\",\n",
    "  labels: [\"Gene Level Evidence\", \"Tumor Type\", \"Response Type\", \"Therapy Name\", \"Approval Status\", \"Evidence Type\", \"Oral cavity cancer\", \"Lung adenocarcinoma\", \"Dasatinib\",\"Nilotinib\",\"Imatinib\", \"Preclinical\", \"Case Report/Case Series\",\"Preclinical Cell line xenograft\"],\n",
    "  parents: [\"\", \"Gene Level Evidence\",\"Gene Level Evidence\",\"Gene Level Evidence\",\"Gene Level Evidence\",\"Gene Level Evidence\", \"Tumor Type\", \"Tumor Type\", \"Therapy Name\", \"Therapy Name\",\"Therapy Name\", \"Approval Status\",\"Approval Status\",\"Approval Status\"],\n",
    "  values:  [10,7,7,7,7,7, 1, 6, 3,1,3,4,1,2],\n",
    "  branchvalues: \"remainder\",\n",
    "  outsidetextfont: {size: 20, color: \"#377eb8\"},\n",
    "  leaf: {opacity: 0.4},\n",
    "  marker: {line: {width: 2}},\n",
    "}];\n",
    "\n",
    "var layout = {\n",
    "  margin: {l: 0, r: 0, b: 0, t: 0},\n",
    "  width: 1000,\n",
    "  height: 800,\n",
    "    showlegend: true\n",
    "};\n",
    "\n",
    "\n",
    "Plotly.newPlot('GeneSunburst', data, layout);"
   ]
  },
  {
   "cell_type": "markdown",
   "metadata": {},
   "source": [
    "## Disease Ontology Sunburst"
   ]
  },
  {
   "cell_type": "markdown",
   "metadata": {},
   "source": [
    "### Efficacy Evidence data sunburst"
   ]
  },
  {
   "cell_type": "code",
   "execution_count": 78,
   "metadata": {},
   "outputs": [
    {
     "data": {
      "text/html": [
       "<html><body>\n",
       "        <div id=\"EESunburst\"/></div>\n",
       "</body></html>"
      ]
     },
     "execution_count": 78,
     "metadata": {},
     "output_type": "execute_result"
    }
   ],
   "source": [
    "%%html\n",
    "<body>\n",
    "        <div id=\"EESunburst\"/></div>\n",
    "</body>"
   ]
  },
  {
   "cell_type": "code",
   "execution_count": 79,
   "metadata": {},
   "outputs": [],
   "source": [
    "String jsonText = new File('data/IndicationEEData.json').text\n",
    "def slurper = new groovy.json.JsonSlurper()\n",
    "json =slurper.parseText(jsonText)\n",
    "OutputCell.HIDDEN"
   ]
  },
  {
   "cell_type": "code",
   "execution_count": 80,
   "metadata": {},
   "outputs": [
    {
     "name": "stdout",
     "output_type": "stream",
     "text": [
      "**\n"
     ]
    },
    {
     "name": "stdout",
     "output_type": "stream",
     "text": [
      "[disease, disease of cellular proliferation, cancer, organ system cancer, reproductive organ cancer, female reproductive organ cancer, vaginal cancer, vaginal squamous tumor, endocrine gland cancer, neuroendocrine tumor, musculoskeletal system cancer, connective tissue cancer, bone cancer, gastrointestinal system cancer, intestinal cancer, large intestine cancer, colorectal cancer, colon cancer, colon carcinoma, colon adenocarcinoma, benign neoplasm, organ system benign neoplasm, cardiovascular organ benign neoplasm, hemangioma, urinary system cancer, kidney cancer, hematologic cancer, leukemia, lymphocytic leukemia, chronic lymphocytic leukemia, hairy cell leukemia, cell type cancer, carcinoma, adenocarcinoma, giant cell tumor, tenosynovial giant cell tumor, uterine cancer, nervous system cancer, central nervous system cancer, cranial nerve neoplasm, cranial nerve malignant neoplasm, olfactory nerve neoplasm, olfactory neuroblastoma, adrenal gland cancer, adrenal cortex cancer, hepatobiliary system cancer, liver cancer, liver carcinoma, hepatocellular carcinoma, hepatoblastoma, lymphoma, non-Hodgkin lymphoma, B-cell lymphoma, T-cell leukemia, sensory system cancer, ocular cancer, retinal cancer, retinal cell cancer, retinoblastoma, peripheral nervous system neoplasm, autonomic nervous system neoplasm, neuroblastoma, peripheral nerve sheath neoplasm, neurofibroma, natural killer cell leukemia, chronic leukemia, esophageal cancer, esophageal carcinoma, sarcoma, vulva cancer, respiratory system cancer, lung cancer, endometrial cancer, head and neck cancer, head and neck carcinoma, thoracic cancer, breast cancer, peritoneum cancer, squamous cell carcinoma, ocular melanoma, thyroid cancer, pituitary cancer, peritoneal mesothelioma, malignant mesothelioma, peritoneal carcinoma, pancreatic cancer, islet cell tumor, pancreatic endocrine carcinoma, neuroendocrine carcinoma, cardiovascular cancer, vascular cancer, angiosarcoma, histiocytoma, malignant fibroxanthoma, melanoma, fallopian tube cancer, muscle cancer, smooth muscle cancer, leiomyosarcoma, rectum cancer, rectum adenocarcinoma, vulvar melanoma, vulva carcinoma, vulva squamous cell carcinoma, brain cancer, atypical teratoid rhabdoid tumor, ovarian cancer, ovary epithelial cancer, nephroblastoma, bone marrow cancer, myeloid neoplasm, myeloproliferative neoplasm, essential thrombocythemia, integumentary system cancer, skin cancer, skin carcinoma, basal cell carcinoma, male reproductive organ cancer, prostate cancer, prostate carcinoma, prostate adenocarcinoma, larynx cancer, laryngeal carcinoma, cell type benign neoplasm, chondroma, perivascular tumor, perivascular epithelioid cell tumor, transitional cell carcinoma, endometrial carcinoma, endometrial adenocarcinoma, cervical cancer, cervix carcinoma, prostate neuroendocrine neoplasm, germ cell cancer, testicular cancer, granulosa cell tumor, breast carcinoma, breast ductal carcinoma, invasive ductal carcinoma, astrocytoma, glioblastoma multiforme, malignant glioma, brain glioma, brain glioblastoma multiforme, grade III astrocytoma, juvenile astrocytoma, biliary tract cancer, gallbladder cancer, skin squamous cell carcinoma, malignant spindle cell melanoma, oligodendroglioma, nervous system benign neoplasm, neuroma, neurilemmoma, central nervous system lymphoma, skeletal muscle cancer, rhabdomyosarcoma, immune system cancer, thymus cancer, thymoma, thymic carcinoma, notochordal cancer, chordoma, osteosarcoma, malignant fibrous histiocytoma of bone, fibrosarcoma, Ewing sarcoma, bone Ewing's sarcoma, chondrosarcoma, lipomatous cancer, liposarcoma, scrotum neoplasm, scrotal carcinoma, scrotum Paget's disease, breast adenocarcinoma, uveal cancer, pancreatic carcinoma, pancreatic adenocarcinoma, pancreatic ductal adenocarcinoma, dermatofibrosarcoma protuberans, pediatric fibrosarcoma, meningioma, pancreatic ductal carcinoma, mast cell neoplasm, childhood kidney cancer, rhabdoid cancer, kidney rhabdoid cancer, cervical adenocarcinoma, rectum mucinous adenocarcinoma, malignant ovarian surface epithelial-stromal neoplasm, ovarian carcinoma, ovary adenocarcinoma, stomach cancer, stomach carcinoma, gastric adenocarcinoma, cervical squamous cell carcinoma, esophagus squamous cell carcinoma, infratentorial cancer, medulloblastoma, large cell medulloblastoma, lung carcinoma, lung non-small cell carcinoma, lung squamous cell carcinoma, lung adenocarcinoma, adrenocortical carcinoma, adrenal carcinoma, thyroid carcinoma, follicular thyroid carcinoma, Merkel cell carcinoma, papillary thyroid carcinoma, thyroid medullary carcinoma, urinary bladder cancer, bladder carcinoma, bladder urothelial carcinoma, spindle cell carcinoma, alveolar rhabdomyosarcoma, gastrointestinal system benign neoplasm, intestinal benign neoplasm, colonic benign neoplasm, colon neuroendocrine neoplasm, spinal chordoma, ganglioneuroblastoma, brain stem cancer, brain stem glioma, endometrial stromal tumor, endometrial stromal sarcoma, extraosseous Ewing's sarcoma, clear cell sarcoma, alveolar soft part sarcoma, nodular basal cell carcinoma, bone giant cell tumor, fibrous histiocytoma, small intestine benign neoplasm, small intestine neuroendocrine neoplasm, seminoma, renal carcinoma, renal cell carcinoma, collecting duct carcinoma, papillary renal cell carcinoma, clear cell renal cell carcinoma, chromophobe renal cell carcinoma, malignant biphasic mesothelioma, sarcomatoid mesothelioma, malignant peritoneal solitary fibrous tumor, breast sarcoma, breast angiosarcoma, mesenchymal chondrosarcoma, lung large cell carcinoma, breast metaplastic carcinoma, pilocytic astrocytoma, pleomorphic xanthoastrocytoma, oral cavity cancer, salivary gland cancer, salivary gland carcinoma, salivary gland adenoid cystic carcinoma, esophageal adenoid cystic carcinoma, kidney sarcoma, kidney clear cell sarcoma, peritoneal serous adenocarcinoma, small intestine cancer, small intestine carcinoma, small intestine adenocarcinoma, urethra cancer, urethra adenocarcinoma, esophagus adenocarcinoma, pituitary carcinoma, bronchiolo-alveolar adenocarcinoma, bile duct cancer, bile duct carcinoma, bile duct adenocarcinoma, cholangiocarcinoma, intrahepatic cholangiocarcinoma, Klatskin's tumor, duodenum cancer, ampulla of Vater cancer, ampulla of Vater carcinoma, gastroesophageal cancer, gastroesophageal adenocarcinoma, gastroesophageal junction adenocarcinoma, gallbladder carcinoma, myelofibrosis, myelodysplastic/myeloproliferative neoplasm, fibrolamellar carcinoma, supratentorial cancer, cerebrum cancer, cerebral ventricle cancer, malignant ependymoma, benign glioma, benign ependymoma, subependymal glioma, subependymal giant cell astrocytoma, ganglioglioma, mixed cell type cancer, mixed epithelial stromal tumour, uterine corpus cancer, uterine corpus sarcoma, renal Wilms' tumor, uterus leiomyosarcoma, endometrial clear cell adenocarcinoma, ovarian clear cell adenocarcinoma, myxoid liposarcoma, lung small cell carcinoma, pulmonary neuroendocrine tumor, urinary system benign neoplasm, urinary tract papillary transitional cell benign neoplasm, bladder papillary transitional cell neoplasm, synovium cancer, synovial sarcoma, pediatric ependymoma, head and neck squamous cell carcinoma, anus cancer, anal carcinoma, anal squamous cell carcinoma, testicular germ cell cancer, lung papillary adenocarcinoma, breast papillary carcinoma, acute lymphocytic leukemia, adult acute lymphocytic leukemia, T-cell adult acute lymphocytic leukemia, acute T cell leukemia, histiocytic and dendritic cell cancer, gastric adenosquamous carcinoma, adult liposarcoma, uterine corpus serous adenocarcinoma, endometrioid ovary carcinoma, malignant peripheral nerve sheath tumor, renal pelvis carcinoma, renal pelvis transitional cell carcinoma, uveal melanoma, ovarian mucinous neoplasm, uterine body mixed cancer, uterine carcinosarcoma, epithelioid sarcoma, ovarian endometrial cancer, inflammatory breast carcinoma, CLL/SLL, skin melanoma, acral lentiginous melanoma, invasive bladder transitional cell carcinoma, extraosseous chondrosarcoma, extraskeletal myxoid chondrosarcoma, pulmonary large cell neuroendocrine carcinoma, childhood pilocytic astrocytoma, ureter cancer, ureter small cell carcinoma, bladder transitional cell papilloma, anal canal cancer, anal canal squamous cell carcinoma, meningothelial meningioma, pleural cancer, malignant pleural mesothelioma, brain ependymoma, endocervical carcinoma, ovarian small cell carcinoma, hypercalcemic type ovarian small cell carcinoma, gastric diffuse adenocarcinoma, gastric signet ring cell adenocarcinoma, kidney benign neoplasm, kidney angiomyolipoma, congenital fibrosarcoma, pharynx cancer, hypopharynx cancer, mature T-cell and NK-cell lymphoma, peripheral T-cell lymphoma, cutaneous T cell lymphoma, Sezary's disease, myeloid leukemia, chronic myeloid leukemia, Hodgkin's lymphoma, mature B-cell neoplasm, Burkitt lymphoma, mycosis fungoides, subacute myeloid leukemia, megakaryocytic leukemia, Hodgkin's lymphoma, nodular sclerosis, monocytic leukemia, acute monocytic leukemia, parotid gland cancer, pre-malignant neoplasm, in situ carcinoma, bladder carcinoma in situ, acute myeloid leukemia, gastrointestinal stromal tumor, mast-cell leukemia, nasopharynx carcinoma, multiple myeloma, smoldering myeloma, duodenum adenocarcinoma, appendix cancer, penile cancer, acute leukemia, acoustic neuroma, juvenile myelomonocytic leukemia, adult T-cell leukemia, gastrointestinal neuroendocrine tumor, malignant pleural solitary fibrous tumor, anaplastic large cell lymphoma, diffuse large B-cell lymphoma, mantle cell lymphoma, lymphoplasmacytic lymphoma, marginal zone B-cell lymphoma, splenic marginal zone lymphoma, endocrine organ benign neoplasm, pheochromocytoma, paraganglioma, glioblastoma proneural subtype, colorectal adenoma, colorectal carcinoma, colorectal adenocarcinoma, tongue squamous cell carcinoma, oral squamous cell carcinoma, hepatobiliary benign neoplasm, liver benign neoplasm, hepatocellular adenoma, large cell neuroendocrine carcinoma, follicular lymphoma, adrenal medulla cancer, malignant pheochromocytoma, adrenal gland pheochromocytoma, mesenchymal cell neoplasm, inflammatory myofibroblastic tumor, myelodysplastic syndrome, MALT lymphoma, colon adenoma, pharynx squamous cell carcinoma, gastrointestinal carcinoma, mucosal melanoma, ovarian serous carcinoma, ovarian clear cell carcinoma, breast lobular carcinoma, lymphatic system cancer, breast carcinoma in situ, ductal carcinoma in situ, estrogen-receptor positive breast cancer, estrogen-receptor negative breast cancer, progesterone-receptor positive breast cancer, Her2-receptor positive breast cancer, Her2-receptor negative breast cancer, triple-receptor negative breast cancer, musculoskeletal system benign neoplasm, connective tissue benign neoplasm, acute promyelocytic leukemia, NUT midline carcinoma, B-cell adult acute lymphocytic leukemia, Waldenstroem's macroglobulinemia, childhood acute lymphocytic leukemia, B-cell childhood acute lymphoblastic leukemia, lymphoblastic lymphoma, chronic myelomonocytic leukemia, malignant hemangioma, malignant epithelioid hemangioendothelioma, oropharynx cancer, tonsil cancer, adenoid cystic carcinoma, primary mediastinal B-cell lymphoma, desmoid tumor, chronic eosinophilic leukemia, epithelioid inflammatory myofibroblastic sarcoma, lung non-squamous non-small cell carcinoma, thyroid gland anaplastic carcinoma, angioimmunoblastic T-cell lymphoma, Advanced Solid Tumor, Indication other than cancer]\n"
     ]
    },
    {
     "name": "stdout",
     "output_type": "stream",
     "text": [
      "**\n"
     ]
    },
    {
     "name": "stdout",
     "output_type": "stream",
     "text": [
      "[, disease, disease of cellular proliferation, cancer, organ system cancer, reproductive organ cancer, female reproductive organ cancer, vaginal cancer, organ system cancer, endocrine gland cancer, organ system cancer, musculoskeletal system cancer, connective tissue cancer, organ system cancer, gastrointestinal system cancer, intestinal cancer, large intestine cancer, colorectal cancer, colon cancer, colon carcinoma, disease of cellular proliferation, benign neoplasm, organ system benign neoplasm, cardiovascular organ benign neoplasm, organ system cancer, urinary system cancer, organ system cancer, hematologic cancer, leukemia, lymphocytic leukemia, chronic lymphocytic leukemia, cancer, cell type cancer, carcinoma, connective tissue cancer, giant cell tumor, female reproductive organ cancer, organ system cancer, nervous system cancer, central nervous system cancer, cranial nerve neoplasm, cranial nerve malignant neoplasm, olfactory nerve neoplasm, endocrine gland cancer, adrenal gland cancer, gastrointestinal system cancer, hepatobiliary system cancer, liver cancer, liver carcinoma, liver cancer, hematologic cancer, lymphoma, non-Hodgkin lymphoma, lymphocytic leukemia, nervous system cancer, sensory system cancer, ocular cancer, retinal cancer, retinal cell cancer, nervous system cancer, peripheral nervous system neoplasm, autonomic nervous system neoplasm, peripheral nervous system neoplasm, peripheral nerve sheath neoplasm, lymphocytic leukemia, leukemia, gastrointestinal system cancer, esophageal cancer, cell type cancer, female reproductive organ cancer, organ system cancer, respiratory system cancer, uterine cancer, organ system cancer, head and neck cancer, organ system cancer, thoracic cancer, organ system cancer, carcinoma, ocular cancer, endocrine gland cancer, endocrine gland cancer, peritoneum cancer, cell type cancer, gastrointestinal system cancer, endocrine gland cancer, pancreatic cancer, islet cell tumor, carcinoma, organ system cancer, cardiovascular cancer, vascular cancer, connective tissue cancer, histiocytoma, cell type cancer, female reproductive organ cancer, musculoskeletal system cancer, muscle cancer, smooth muscle cancer, colorectal cancer, rectum cancer, vulva cancer, vulva cancer, vulva carcinoma, central nervous system cancer, brain cancer, female reproductive organ cancer, ovarian cancer, kidney cancer, hematologic cancer, bone marrow cancer, myeloid neoplasm, myeloproliferative neoplasm, organ system cancer, integumentary system cancer, skin cancer, skin carcinoma, reproductive organ cancer, male reproductive organ cancer, prostate cancer, prostate carcinoma, respiratory system cancer, larynx cancer, benign neoplasm, cell type benign neoplasm, vascular cancer, perivascular tumor, carcinoma, endometrial cancer, endometrial carcinoma, female reproductive organ cancer, cervical cancer, prostate cancer, cell type cancer, male reproductive organ cancer, ovarian cancer, breast cancer, breast carcinoma, breast ductal carcinoma, central nervous system cancer, astrocytoma, cell type cancer, brain cancer, brain glioma, astrocytoma, astrocytoma, hepatobiliary system cancer, biliary tract cancer, skin carcinoma, melanoma, malignant glioma, organ system benign neoplasm, nervous system benign neoplasm, neuroma, central nervous system cancer, muscle cancer, skeletal muscle cancer, organ system cancer, immune system cancer, thymus cancer, thymus cancer, bone cancer, notochordal cancer, cell type cancer, connective tissue cancer, connective tissue cancer, bone cancer, Ewing sarcoma, connective tissue cancer, connective tissue cancer, lipomatous cancer, male reproductive organ cancer, scrotum neoplasm, scrotal carcinoma, breast carcinoma, ocular cancer, pancreatic cancer, pancreatic carcinoma, pancreatic adenocarcinoma, fibrosarcoma, fibrosarcoma, central nervous system cancer, pancreatic carcinoma, hematologic cancer, kidney cancer, childhood kidney cancer, rhabdoid cancer, cervix carcinoma, rectum adenocarcinoma, ovary epithelial cancer, malignant ovarian surface epithelial-stromal neoplasm, ovarian carcinoma, gastrointestinal system cancer, stomach cancer, stomach carcinoma, cervix carcinoma, esophageal carcinoma, brain cancer, infratentorial cancer, medulloblastoma, lung cancer, lung carcinoma, lung non-small cell carcinoma, lung cancer, adrenal cortex cancer, adrenal gland cancer, thyroid cancer, thyroid carcinoma, skin carcinoma, thyroid carcinoma, follicular thyroid carcinoma, urinary system cancer, urinary bladder cancer, bladder carcinoma, squamous cell carcinoma, rhabdomyosarcoma, organ system benign neoplasm, gastrointestinal system benign neoplasm, intestinal benign neoplasm, colonic benign neoplasm, chordoma, neuroblastoma, infratentorial cancer, brain stem cancer, endometrial cancer, endometrial stromal tumor, Ewing sarcoma, sarcoma, skeletal muscle cancer, basal cell carcinoma, giant cell tumor, histiocytoma, intestinal benign neoplasm, small intestine benign neoplasm, germ cell cancer, kidney cancer, renal carcinoma, renal cell carcinoma, renal cell carcinoma, renal cell carcinoma, renal cell carcinoma, malignant mesothelioma, malignant mesothelioma, peritoneum cancer, breast cancer, breast sarcoma, chondrosarcoma, lung non-small cell carcinoma, breast carcinoma, brain cancer, astrocytoma, gastrointestinal system cancer, oral cavity cancer, salivary gland cancer, salivary gland carcinoma, esophageal carcinoma, kidney cancer, kidney sarcoma, peritoneal carcinoma, intestinal cancer, small intestine cancer, small intestine carcinoma, urinary system cancer, urethra cancer, esophageal carcinoma, pituitary cancer, lung adenocarcinoma, biliary tract cancer, bile duct cancer, bile duct carcinoma, bile duct adenocarcinoma, cholangiocarcinoma, intrahepatic cholangiocarcinoma, small intestine cancer, duodenum cancer, ampulla of Vater cancer, gastrointestinal system cancer, gastroesophageal cancer, gastroesophageal adenocarcinoma, gallbladder cancer, myeloid neoplasm, myeloid neoplasm, hepatocellular carcinoma, brain cancer, supratentorial cancer, cerebrum cancer, cerebral ventricle cancer, cell type benign neoplasm, benign glioma, benign ependymoma, subependymal glioma, cell type benign neoplasm, cell type cancer, mixed cell type cancer, uterine cancer, uterine corpus cancer, nephroblastoma, uterine corpus sarcoma, endometrial adenocarcinoma, ovary adenocarcinoma, liposarcoma, lung carcinoma, lung cancer, organ system benign neoplasm, urinary system benign neoplasm, urinary tract papillary transitional cell benign neoplasm, connective tissue cancer, synovium cancer, malignant ependymoma, head and neck carcinoma, large intestine cancer, anus cancer, anal carcinoma, testicular cancer, lung adenocarcinoma, breast carcinoma, lymphocytic leukemia, acute lymphocytic leukemia, adult acute lymphocytic leukemia, T-cell leukemia, hematologic cancer, stomach carcinoma, liposarcoma, uterine corpus cancer, ovary adenocarcinoma, peripheral nerve sheath neoplasm, kidney cancer, renal pelvis carcinoma, uveal cancer, ovary epithelial cancer, uterine corpus cancer, uterine body mixed cancer, connective tissue cancer, ovary epithelial cancer, breast adenocarcinoma, chronic lymphocytic leukemia, skin cancer, skin melanoma, bladder urothelial carcinoma, chondrosarcoma, extraosseous chondrosarcoma, lung large cell carcinoma, pilocytic astrocytoma, urinary system cancer, ureter cancer, bladder papillary transitional cell neoplasm, large intestine cancer, anal canal cancer, meningioma, connective tissue cancer, pleural cancer, brain glioma, cervix carcinoma, ovarian carcinoma, ovarian small cell carcinoma, gastric adenocarcinoma, gastric diffuse adenocarcinoma, urinary system benign neoplasm, kidney benign neoplasm, pediatric fibrosarcoma, gastrointestinal system cancer, pharynx cancer, non-Hodgkin lymphoma, mature T-cell and NK-cell lymphoma, peripheral T-cell lymphoma, cutaneous T cell lymphoma, leukemia, myeloid leukemia, lymphoma, B-cell lymphoma, mature B-cell neoplasm, cutaneous T cell lymphoma, myeloid leukemia, leukemia, Hodgkin's lymphoma, myeloid leukemia, monocytic leukemia, salivary gland cancer, disease of cellular proliferation, pre-malignant neoplasm, in situ carcinoma, myeloid leukemia, gastrointestinal system cancer, leukemia, pharynx cancer, myeloid neoplasm, multiple myeloma, duodenum cancer, intestinal cancer, male reproductive organ cancer, leukemia, neurilemmoma, myelodysplastic/myeloproliferative neoplasm, T-cell leukemia, gastrointestinal system cancer, pleural cancer, non-Hodgkin lymphoma, B-cell lymphoma, B-cell lymphoma, B-cell lymphoma, B-cell lymphoma, marginal zone B-cell lymphoma, organ system benign neoplasm, endocrine organ benign neoplasm, pheochromocytoma, glioblastoma multiforme, intestinal benign neoplasm, colorectal cancer, colorectal carcinoma, head and neck squamous cell carcinoma, oral cavity cancer, gastrointestinal system benign neoplasm, hepatobiliary benign neoplasm, liver benign neoplasm, lung large cell carcinoma, B-cell lymphoma, adrenal gland cancer, adrenal medulla cancer, malignant pheochromocytoma, cell type cancer, mesenchymal cell neoplasm, bone marrow cancer, marginal zone B-cell lymphoma, colonic benign neoplasm, pharynx cancer, gastrointestinal system cancer, melanoma, ovarian carcinoma, ovarian carcinoma, breast carcinoma, immune system cancer, in situ carcinoma, breast carcinoma in situ, breast cancer, breast cancer, breast cancer, breast cancer, breast cancer, breast cancer, organ system benign neoplasm, musculoskeletal system benign neoplasm, acute myeloid leukemia, carcinoma, adult acute lymphocytic leukemia, lymphoplasmacytic lymphoma, acute lymphocytic leukemia, childhood acute lymphocytic leukemia, lymphoma, chronic leukemia, cell type cancer, malignant hemangioma, pharynx cancer, oropharynx cancer, tonsil cancer, diffuse large B-cell lymphoma, connective tissue benign neoplasm, chronic leukemia, inflammatory myofibroblastic tumor, lung non-small cell carcinoma, thyroid carcinoma, peripheral T-cell lymphoma, , ]\n"
     ]
    },
    {
     "name": "stdout",
     "output_type": "stream",
     "text": [
      "**\n",
      "[0, 0, 76, 0, 0, 6, 0, 1, 1, 15, 0, 0, 2, 15, 1, 1, 901, 270, 41, 20, 0, 0, 0, 1, 4, 12, 187, 111, 3, 66, 6, 0, 5, 1, 0, 2, 10, 0, 4, 0, 0, 0, 2, 3, 1, 0, 17, 0, 116, 2, 61, 25, 27, 1, 0, 0, 0, 0, 8, 0, 1, 135, 0, 1, 1, 5, 20, 5, 49, 1, 0, 299, 131, 16, 1, 0, 763, 6, 8, 1, 71, 1, 3, 11, 1, 210, 4, 4, 1, 0, 0, 6, 0, 5, 1088, 6, 0, 2, 16, 38, 1, 1, 0, 2, 0, 5, 245, 13, 1, 11, 23, 10, 7, 0, 3, 1, 24, 0, 290, 12, 10, 1, 1, 0, 1, 0, 2, 53, 17, 6, 29, 5, 7, 3, 2, 2, 17, 0, 2, 11, 218, 58, 9, 6, 3, 1, 23, 4, 4, 5, 7, 0, 0, 5, 12, 0, 21, 1, 0, 2, 8, 0, 5, 59, 1, 9, 50, 3, 6, 0, 25, 0, 0, 1, 11, 1, 9, 36, 88, 4, 1, 4, 4, 4, 0, 9, 1, 1, 2, 0, 52, 2, 201, 26, 49, 2, 20, 0, 92, 1, 24, 1307, 89, 349, 3, 1, 13, 2, 6, 21, 61, 155, 11, 24, 3, 5, 0, 0, 0, 4, 1, 1, 0, 6, 2, 1, 1, 8, 10, 1, 2, 7, 0, 1, 1, 9, 111, 3, 8, 47, 2, 1, 1, 1, 0, 1, 1, 9, 1, 4, 2, 4, 9, 4, 3, 1, 0, 1, 1, 1, 1, 1, 0, 1, 13, 1, 1, 0, 0, 0, 34, 52, 1, 0, 0, 1, 1, 2, 39, 9, 24, 10, 1, 0, 0, 0, 2, 0, 0, 0, 3, 2, 0, 1, 0, 2, 1, 8, 1, 9, 8, 96, 1, 0, 0, 1, 0, 19, 3, 143, 1, 0, 1, 4, 2, 1, 86, 0, 27, 3, 1, 1, 1, 11, 2, 10, 0, 4, 47, 5, 0, 2, 7, 1, 4, 11, 3, 4, 6, 0, 3, 2, 6, 0, 1, 2, 1, 2, 1, 0, 12, 2, 1, 0, 1, 0, 1, 0, 1, 6, 0, 4, 3, 7, 6, 2, 15, 157, 16, 0, 18, 3, 2, 6, 1, 0, 2, 4, 0, 0, 3, 408, 135, 8, 9, 132, 3, 3, 2, 2, 3, 5, 2, 3, 6, 1, 38, 101, 68, 15, 7, 1, 0, 0, 1, 1, 1, 3, 40, 1, 7, 0, 0, 1, 1, 21, 0, 0, 1, 0, 21, 41, 2, 1, 2, 1, 2, 12, 12, 2, 14, 0, 2, 260, 8, 7, 199, 99, 242, 0, 1, 21, 7, 4, 7, 0, 3, 1, 5, 0, 2, 0, 0, 2, 1, 4, 1, 1, 23, 4, 2, 3730, 8]\n"
     ]
    }
   ],
   "source": [
    "// get map\n",
    "EElabels = json.labels\n",
    "EEparents = json.parentsLabels\n",
    "EEvalues = json.values\n",
    "println(\"**\\n\"+EElabels)\n",
    "println(\"**\\n\"+EEparents)\n",
    "println(\"**\\n\"+EEvalues)\n",
    "\n",
    "beakerx.EElabels = EElabels\n",
    "beakerx.EEparents = EEparents\n",
    "beakerx.EEvalues = EEvalues\n",
    "\n",
    "OutputCell.HIDDEN"
   ]
  },
  {
   "cell_type": "code",
   "execution_count": 81,
   "metadata": {},
   "outputs": [
    {
     "name": "stdout",
     "output_type": "stream",
     "text": [
      "label size :463\n",
      "parent size :463\n",
      "values size :463\n"
     ]
    }
   ],
   "source": [
    "println(\"label size :\"+beakerx.EElabels.size())\n",
    "println(\"parent size :\"+beakerx.EEparents.size())\n",
    "println(\"values size :\"+beakerx.EEvalues.size())\n",
    "OutputCell.HIDDEN"
   ]
  },
  {
   "cell_type": "code",
   "execution_count": 82,
   "metadata": {},
   "outputs": [
    {
     "data": {
      "application/javascript": [
       "// plot\n",
       "beakerx.displayHTML(this, '<div id=\"EESunburst\"></div>');\n",
       "\n",
       "// added inputs manually, need to figure out way to map gene level evidence data into treemap, then build sunburst chart\n",
       "var data = [{\n",
       "  type: \"sunburst\",\n",
       "  labels: beakerx.EElabels,\n",
       "  parents:beakerx.EEparents,\n",
       "  values: beakerx.EEvalues,\n",
       "  //branchvalues: 'total',\n",
       "  outsidetextfont: {size: 20, color: \"#377eb8\"},\n",
       "  leaf: {opacity: 0.4},\n",
       "  marker: {line: {width: 2}},\n",
       "  \n",
       "}];\n",
       "\n",
       "var layout = {\n",
       "  margin: {l: 0, r: 0, b: 0, t: 0},\n",
       "  width: 1000,\n",
       "  height: 800,\n",
       "    showlegend: true\n",
       "};\n",
       "\n",
       "\n",
       "Plotly.newPlot('EESunburst', data, layout);"
      ]
     },
     "execution_count": 82,
     "metadata": {},
     "output_type": "execute_result"
    }
   ],
   "source": [
    "%%javascript\n",
    "// plot\n",
    "beakerx.displayHTML(this, '<div id=\"EESunburst\"></div>');\n",
    "\n",
    "// added inputs manually, need to figure out way to map gene level evidence data into treemap, then build sunburst chart\n",
    "var data = [{\n",
    "  type: \"sunburst\",\n",
    "  labels: beakerx.EElabels,\n",
    "  parents:beakerx.EEparents,\n",
    "  values: beakerx.EEvalues,\n",
    "  //branchvalues: 'total',\n",
    "  outsidetextfont: {size: 20, color: \"#377eb8\"},\n",
    "  leaf: {opacity: 0.4},\n",
    "  marker: {line: {width: 2}},\n",
    "  \n",
    "}];\n",
    "\n",
    "var layout = {\n",
    "  margin: {l: 0, r: 0, b: 0, t: 0},\n",
    "  width: 1000,\n",
    "  height: 800,\n",
    "    showlegend: true\n",
    "};\n",
    "\n",
    "\n",
    "Plotly.newPlot('EESunburst', data, layout);"
   ]
  },
  {
   "cell_type": "markdown",
   "metadata": {},
   "source": [
    "### Cinical Trial  data sunburst"
   ]
  },
  {
   "cell_type": "code",
   "execution_count": 83,
   "metadata": {},
   "outputs": [],
   "source": [
    "String jsonText = new File('data/IndicationClinicalTrialData.json').text\n",
    "def slurper = new groovy.json.JsonSlurper()\n",
    "json =slurper.parseText(jsonText)\n",
    "OutputCell.HIDDEN"
   ]
  },
  {
   "cell_type": "markdown",
   "metadata": {},
   "source": [
    "### pie chart"
   ]
  },
  {
   "cell_type": "code",
   "execution_count": 84,
   "metadata": {},
   "outputs": [
    {
     "data": {
      "text/html": [
       "<html><body>\n",
       "        <div id=\"CTpiechart\"/></div>\n",
       "</body></html>"
      ]
     },
     "execution_count": 84,
     "metadata": {},
     "output_type": "execute_result"
    }
   ],
   "source": [
    "%%html\n",
    "<body>\n",
    "        <div id=\"CTpiechart\"/></div>\n",
    "</body>"
   ]
  },
  {
   "cell_type": "code",
   "execution_count": 85,
   "metadata": {},
   "outputs": [
    {
     "name": "stdout",
     "output_type": "stream",
     "text": [
      "[adamantinous craniopharyngioma, papillary craniopharyngioma, infratentorial cancer, medulloblastoma]\n",
      "['craniopharyngioma', 'craniopharyngioma', 'brain cancer', 'infratentorial cancer']\n"
     ]
    },
    {
     "data": {
      "text/plain": [
       "null"
      ]
     },
     "execution_count": 85,
     "metadata": {},
     "output_type": "execute_result"
    }
   ],
   "source": [
    "// get map\n",
    "CTlabels = json.labels\n",
    "CTparents = json.parentsLabels\n",
    "CTvalues = json.values\n",
    "// println(\"**\\n\"+CTlabels)\n",
    "// println(\"**\\n\"+CTparents)\n",
    "// println(\"**\\n\"+CTvalues)\n",
    "\n",
    "beakerx.CTlabels =CTlabels\n",
    "beakerx.CTparents = CTparents\n",
    "beakerx.CTvalues = CTvalues\n",
    "\n",
    "println(CTlabels[289..292])\n",
    "println(CTparents[289..292].collect{\"'${it}'\"})"
   ]
  },
  {
   "cell_type": "code",
   "execution_count": 86,
   "metadata": {},
   "outputs": [
    {
     "name": "stdout",
     "output_type": "stream",
     "text": [
      "Quality Check\n",
      "**\n",
      "\n",
      "label size :700\n",
      "parent size :700\n",
      "values size :700\n"
     ]
    }
   ],
   "source": [
    "println(\"Quality Check\\n**\\n\")\n",
    "println(\"label size :\"+beakerx.CTlabels.size())\n",
    "println(\"parent size :\"+beakerx.CTparents.size())\n",
    "println(\"values size :\"+beakerx.CTvalues.size())\n",
    "OutputCell.HIDDEN"
   ]
  },
  {
   "cell_type": "code",
   "execution_count": 87,
   "metadata": {},
   "outputs": [
    {
     "data": {
      "application/javascript": [
       "beakerx.displayHTML(this, '<div id=\"CTpiechart\"></div>');\n",
       "var data = [{\n",
       "  values: beakerx.CTvalues,\n",
       "  labels: beakerx.CTlabels,\n",
       "  type: 'pie',\n",
       "  name : 'Impact',\n",
       "  hoverinfo: 'label+percent+name',\n",
       "  hole: .4\n",
       "}];\n",
       "\n",
       "var layout = {\n",
       "    title: 'Clinical Trial',\n",
       "    font: {\n",
       "        family: 'Courier New, monospace',\n",
       "        size: 12,\n",
       "        color: '#7f7f7f'\n",
       "      },\n",
       "    annotations: {\n",
       "      \n",
       "      showarrow: true,\n",
       "      text: 'Clinical Trial',\n",
       "      textposition: 'inside',\n",
       "      x: 0.5,\n",
       "      y: 0.5\n",
       "    },\n",
       "    height: 800,\n",
       "    width: 1000,\n",
       "    showlegend: false\n",
       "}\n",
       "\n",
       "Plotly.newPlot('CTpiechart', data, layout);"
      ]
     },
     "execution_count": 87,
     "metadata": {},
     "output_type": "execute_result"
    }
   ],
   "source": [
    "%%javascript\n",
    "beakerx.displayHTML(this, '<div id=\"CTpiechart\"></div>');\n",
    "var data = [{\n",
    "  values: beakerx.CTvalues,\n",
    "  labels: beakerx.CTlabels,\n",
    "  type: 'pie',\n",
    "  name : 'Impact',\n",
    "  hoverinfo: 'label+percent+name',\n",
    "  hole: .4\n",
    "}];\n",
    "\n",
    "var layout = {\n",
    "    title: 'Clinical Trial',\n",
    "    font: {\n",
    "        family: 'Courier New, monospace',\n",
    "        size: 12,\n",
    "        color: '#7f7f7f'\n",
    "      },\n",
    "    annotations: {\n",
    "      \n",
    "      showarrow: true,\n",
    "      text: 'Clinical Trial',\n",
    "      textposition: 'inside',\n",
    "      x: 0.5,\n",
    "      y: 0.5\n",
    "    },\n",
    "    height: 800,\n",
    "    width: 1000,\n",
    "    showlegend: false\n",
    "}\n",
    "\n",
    "Plotly.newPlot('CTpiechart', data, layout);"
   ]
  },
  {
   "cell_type": "markdown",
   "metadata": {},
   "source": [
    "## sunburst"
   ]
  },
  {
   "cell_type": "code",
   "execution_count": 88,
   "metadata": {},
   "outputs": [
    {
     "data": {
      "text/html": [
       "<html><body>\n",
       "        <div id=\"CTsunburst\"/></div>\n",
       "</body></html>"
      ]
     },
     "execution_count": 88,
     "metadata": {},
     "output_type": "execute_result"
    }
   ],
   "source": [
    "%%html\n",
    "<body>\n",
    "        <div id=\"CTsunburst\"/></div>\n",
    "</body>"
   ]
  },
  {
   "cell_type": "code",
   "execution_count": 89,
   "metadata": {},
   "outputs": [
    {
     "data": {
      "application/javascript": []
     },
     "execution_count": 89,
     "metadata": {},
     "output_type": "execute_result"
    }
   ],
   "source": [
    "%%javascript\n"
   ]
  },
  {
   "cell_type": "code",
   "execution_count": 90,
   "metadata": {},
   "outputs": [
    {
     "data": {
      "application/javascript": [
       "// plot\n",
       "beakerx.displayHTML(this, '<div id=\"CTSunburst\"></div>');\n",
       "var data = [{\n",
       "  type: \"sunburst\",\n",
       "  //maxdepth: 3, // wrong\n",
       "  // issue with map relations on data, after 291, no visual  \n",
       "  labels: beakerx.CTlabels,\n",
       "  parents: beakerx.CTparents,\n",
       "  values: beakerx.CTvalues,\n",
       "  outsidetextfont: {size: 20, color: \"#377eb8\"},\n",
       "  textinfo : 'label',\n",
       "  //opacity : 0.5, // opacity of whole chart\n",
       "  leaf: {opacity: 0.4},\n",
       "  marker: {line: {width: 2}},\n",
       "}];\n",
       "\n",
       "var layout = {\n",
       "  margin: {l: 0, r: 0, b: 0, t: 0},\n",
       "  width: 1000,\n",
       "  height: 800,\n",
       "  showlegend: false\n",
       "};\n",
       "\n",
       "\n",
       "Plotly.newPlot('CTSunburst', data, layout);"
      ]
     },
     "execution_count": 90,
     "metadata": {},
     "output_type": "execute_result"
    }
   ],
   "source": [
    "%%javascript\n",
    "// plot\n",
    "beakerx.displayHTML(this, '<div id=\"CTSunburst\"></div>');\n",
    "var data = [{\n",
    "  type: \"sunburst\",\n",
    "  //maxdepth: 3, // wrong\n",
    "  // issue with map relations on data, after 291, no visual  \n",
    "  labels: beakerx.CTlabels,\n",
    "  parents: beakerx.CTparents,\n",
    "  values: beakerx.CTvalues,\n",
    "  outsidetextfont: {size: 20, color: \"#377eb8\"},\n",
    "  textinfo : 'label',\n",
    "  //opacity : 0.5, // opacity of whole chart\n",
    "  leaf: {opacity: 0.4},\n",
    "  marker: {line: {width: 2}},\n",
    "}];\n",
    "\n",
    "var layout = {\n",
    "  margin: {l: 0, r: 0, b: 0, t: 0},\n",
    "  width: 1000,\n",
    "  height: 800,\n",
    "  showlegend: false\n",
    "};\n",
    "\n",
    "\n",
    "Plotly.newPlot('CTSunburst', data, layout);"
   ]
  },
  {
   "cell_type": "markdown",
   "metadata": {},
   "source": [
    "## More features"
   ]
  },
  {
   "cell_type": "code",
   "execution_count": 91,
   "metadata": {},
   "outputs": [],
   "source": [
    "String jsonText = new File('data/IndicationClinicalTrialData_multiValue.json').text\n",
    "def slurper = new groovy.json.JsonSlurper()\n",
    "json =slurper.parseText(jsonText)\n",
    "OutputCell.HIDDEN"
   ]
  },
  {
   "cell_type": "code",
   "execution_count": 92,
   "metadata": {},
   "outputs": [
    {
     "name": "stdout",
     "output_type": "stream",
     "text": [
      "**\n"
     ]
    },
    {
     "name": "stdout",
     "output_type": "stream",
     "text": [
      "[disease, disease of cellular proliferation, cancer, organ system cancer, reproductive organ cancer, female reproductive organ cancer, vaginal cancer, vaginal squamous tumor, endocrine gland cancer, neuroendocrine tumor, nervous system cancer, neuroectodermal tumor, cardiovascular cancer, vascular cancer, musculoskeletal system cancer, connective tissue cancer, bone cancer, sex cord-gonadal stromal tumor, giant cell tumor, gastrointestinal system cancer, intestinal cancer, large intestine cancer, colorectal cancer, colon cancer, colon carcinoma, colon adenocarcinoma, benign neoplasm, organ system benign neoplasm, cardiovascular organ benign neoplasm, hemangioma, urinary system cancer, kidney cancer, hemangiopericytoma, hematologic cancer, leukemia, lymphocytic leukemia, chronic lymphocytic leukemia, hairy cell leukemia, cell type cancer, carcinoma, adenocarcinoma, tenosynovial giant cell tumor, disease of anatomical entity, hematopoietic system disease, leukocyte disease, mastocytosis, uterine cancer, adrenal gland cancer, adrenal cortex cancer, hepatobiliary system cancer, liver cancer, liver carcinoma, hepatocellular carcinoma, hepatoblastoma, germ cell cancer, embryonal cancer, lymphoma, non-Hodgkin lymphoma, B-cell lymphoma, mature B-cell neoplasm, refractory hematologic cancer, HCL-V, T-cell leukemia, urethra cancer, sensory system cancer, ocular cancer, retinal cancer, retinal cell cancer, retinoblastoma, peripheral nervous system neoplasm, autonomic nervous system neoplasm, neuroblastoma, auditory system cancer, liver lymphoma, peripheral nerve sheath neoplasm, neurofibroma, hypereosinophilic syndrome, natural killer cell leukemia, prolymphocytic leukemia, esophageal cancer, esophageal carcinoma, sarcoma, vulva cancer, vulva carcinoma, central nervous system cancer, brain cancer, respiratory system cancer, lung cancer, endometrial cancer, benign vascular tumor, lymphangioma, parathyroid carcinoma, head and neck cancer, head and neck carcinoma, thoracic cancer, breast cancer, pineal gland cancer, malignant pineal area germ cell neoplasm, pineoblastoma, Richter's syndrome, peritoneum cancer, squamous cell carcinoma, ocular melanoma, thyroid cancer, pituitary cancer, peritoneal mesothelioma, malignant mesothelioma, peritoneal carcinoma, pancreatic cancer, islet cell tumor, pancreatic endocrine carcinoma, neuroendocrine carcinoma, angiosarcoma, histiocytoma, malignant fibroxanthoma, melanoma, fallopian tube cancer, fallopian tube carcinoma, muscle cancer, smooth muscle cancer, leiomyosarcoma, fallopian tube carcinosarcoma, gastrointestinal system benign neoplasm, intestinal benign neoplasm, rectal neoplasm, rectum cancer, rectum adenocarcinoma, placenta cancer, choriocarcinoma, gestational choriocarcinoma, placental choriocarcinoma, vulvar squamous tumor, integumentary system cancer, skin cancer, sweat gland cancer, vulva adenocarcinoma, vulva squamous cell carcinoma, atypical teratoid rhabdoid tumor, brain sarcoma, central nervous system sarcoma, ovarian cancer, ovary epithelial cancer, nephroblastoma, ovarian germ cell cancer, bone marrow cancer, myeloid neoplasm, myeloproliferative neoplasm, essential thrombocythemia, skin carcinoma, basal cell carcinoma, male reproductive organ cancer, prostate cancer, prostate carcinoma, prostate adenocarcinoma, larynx cancer, cell type benign neoplasm, chondroma, papilloma, perivascular tumor, perivascular epithelioid cell tumor, transitional cell carcinoma, testicular sex cord-stromal neoplasm, Leydig cell tumor, synovium cancer, malignant giant cell tumor of the tendon sheath, lung sarcoma, endometrial carcinoma, endometrial adenocarcinoma, laryngeal carcinoma, laryngeal squamous cell carcinoma, cervical cancer, cervix carcinoma, prostate neuroendocrine neoplasm, testicular cancer, granulosa cell tumor, breast carcinoma, breast ductal carcinoma, invasive ductal carcinoma, pre-malignant neoplasm, in situ carcinoma, breast carcinoma in situ, lobular neoplasia, acinar cell carcinoma, colon mucinous adenocarcinoma, mucinous adenocarcinoma, astrocytoma, glioblastoma multiforme, malignant glioma, gliosarcoma, brain glioma, brain glioblastoma multiforme, giant cell glioblastoma, adult astrocytic tumour, grade III astrocytoma, biliary tract cancer, gallbladder cancer, skin squamous cell carcinoma, keratoacanthoma, malignant spindle cell melanoma, oligodendroglioma, spinal cancer, spinal cord glioma, adult oligodendroglioma, brain oligodendroglioma, nervous system benign neoplasm, neuroma, neurilemmoma, central nervous system lymphoma, skeletal muscle cancer, rhabdomyosarcoma, embryonal rhabdomyosarcoma, pleomorphic rhabdomyosarcoma, immune system cancer, thymus cancer, thymoma, thymic carcinoma, notochordal cancer, chordoma, germinoma, germ cell and embryonal cancer, teratoma, lipoma, osteosarcoma, fibrosarcoma, extraosseous osteosarcoma, pediatric osteosarcoma, Ewing sarcoma, bone Ewing's sarcoma, chondrosarcoma, lipomatous cancer, liposarcoma, immune system disease, lymphatic system disease, histiocytosis, cutaneous Paget's disease, breast lobular carcinoma, invasive lobular carcinoma, breast adenocarcinoma, pancreatic carcinoma, pancreatic adenocarcinoma, pancreatic ductal adenocarcinoma, gallbladder carcinoma, gallbladder adenocarcinoma, small intestine cancer, duodenum cancer, ampulla of Vater cancer, ampulla of Vater carcinoma, ampulla of Vater adenocarcinoma, dermatofibrosarcoma protuberans, neurofibrosarcoma, adult fibrosarcoma, appendix cancer, pseudomyxoma peritonei, meningioma, Sertoli cell tumor, pancreatic ductal carcinoma, gestational trophoblastic neoplasm, placental site trophoblastic tumor, malignant ovarian surface epithelial-stromal neoplasm, ovarian carcinoma, ovary adenocarcinoma, ovarian cystadenocarcinoma, ovarian mucinous cystadenocarcinoma, ovarian mucinous adenocarcinoma, appendix carcinoma, appendix adenocarcinoma, mast cell neoplasm, childhood kidney cancer, rhabdoid cancer, kidney rhabdoid cancer, cervical adenocarcinoma, fallopian tube adenocarcinoma, endometrial mucinous adenocarcinoma, rectum mucinous adenocarcinoma, urinary bladder cancer, bladder carcinoma, bladder adenocarcinoma, stomach cancer, stomach carcinoma, gastric adenocarcinoma, plasma cell neoplasm, plasmacytoma, bladder squamous cell carcinoma, cervical squamous cell carcinoma, esophagus squamous cell carcinoma, urethra squamous cell carcinoma, larynx verrucous carcinoma, central nervous system benign neoplasm, craniopharyngioma, adamantinous craniopharyngioma, papillary craniopharyngioma, infratentorial cancer, medulloblastoma, childhood medulloblastoma, nodular medulloblastoma, pancreatic cystadenoma, insulinoma, integumentary system benign neoplasm, skin benign neoplasm, sweat gland neoplasm, hidradenoma, lung carcinoma, lung non-small cell carcinoma, lung squamous cell carcinoma, lung adenocarcinoma, adrenocortical carcinoma, adrenal carcinoma, thyroid carcinoma, follicular thyroid carcinoma, Merkel cell carcinoma, papillary thyroid carcinoma, thyroid medullary carcinoma, ovary transitional cell carcinoma, endometrial transitional cell carcinoma, bladder urothelial carcinoma, fallopian tube transitional cell carcinoma, prostate transitional cell carcinoma, urethra transitional cell carcinoma, sarcomatoid transitional cell carcinoma, spindle cell carcinoma, alveolar rhabdomyosarcoma, trophoblastic neoplasm, myxosarcoma, orbital cancer, ganglioneuroblastoma, brain stem cancer, brain stem glioma, malignant ovarian Brenner tumor, endometrial stromal tumor, endometrial stromal sarcoma, extraosseous Ewing's sarcoma, clear cell sarcoma, spindle cell sarcoma, mixed cell type cancer, carcinosarcoma, alveolar soft part sarcoma, signet ring basal cell carcinoma, bone giant cell tumor, fibrous histiocytoma, somatostatinoma, seminoma, renal carcinoma, renal cell carcinoma, collecting duct carcinoma, papillary renal cell carcinoma, clear cell renal cell carcinoma, chromophobe renal cell carcinoma, sarcomatoid renal cell carcinoma, malignant biphasic mesothelioma, sarcomatoid mesothelioma, malignant epithelial mesothelioma, skin sarcoma, skin angiosarcoma, lung large cell carcinoma, bile duct cancer, intraocular retinoblastoma, bile duct carcinoma, extrahepatic bile duct carcinoma, gastrointestinal neuroendocrine benign tumor, gastric neuroendocrine neoplasm, central nervous system primitive neuroectodermal neoplasm, medulloepithelioma, supratentorial cancer, supratentorial primitive neuroectodermal tumor, ependymoblastoma, adult brain stem glioma, peripheral nervous system benign neoplasm, autonomic nervous system benign neoplasm, ganglioneuroma, adenosquamous lung carcinoma, myoepithelial carcinoma, sebaceous carcinoma, pilomyxoid astrocytoma, pilocytic astrocytoma, pleomorphic xanthoastrocytoma, brain stem astrocytic neoplasm, oral cavity cancer, salivary gland cancer, salivary gland carcinoma, salivary gland adenoid cystic carcinoma, cutaneous adenocystic carcinoma, tracheal cancer, trachea carcinoma, bile duct adenocarcinoma, peritoneal serous adenocarcinoma, small intestine carcinoma, small intestine adenocarcinoma, anus cancer, anal carcinoma, urethra adenocarcinoma, esophagus adenocarcinoma, pituitary carcinoma, renal pelvis carcinoma, renal pelvis adenocarcinoma, bronchiolo-alveolar adenocarcinoma, cholangiocarcinoma, intrahepatic cholangiocarcinoma, nasal cavity cancer, nasal cavity carcinoma, nasal cavity adenocarcinoma, apocrine sweat gland cancer, ureter cancer, ureter carcinoma, ureter adenocarcinoma, gastroesophageal cancer, gastroesophageal adenocarcinoma, gastroesophageal junction adenocarcinoma, myelofibrosis, myelodysplastic/myeloproliferative neoplasm, cranial nerve neoplasm, optic nerve neoplasm, optic nerve glioma, fibrolamellar carcinoma, basosquamous carcinoma, cerebrum cancer, cerebral ventricle cancer, malignant ependymoma, mixed glioma, ganglioglioma, leiomyoma, leiomyomatosis, plexiform neurofibroma, pleural cancer, uterine corpus cancer, uterine corpus sarcoma, renal Wilms' tumor, nodular ganglioneuroblastoma, uterus leiomyosarcoma, endometrial clear cell adenocarcinoma, fallopian tube clear cell adenocarcinoma, ovarian clear cell adenocarcinoma, testicular germ cell cancer, testicular malignant germ cell cancer, testicular non-seminomatous germ cell cancer, myxoid liposarcoma, lung small cell carcinoma, pulmonary neuroendocrine tumor, synovial sarcoma, benign glioma, benign ependymoma, cellular ependymoma, spinal cord ependymoma, papillary ependymoma, clear cell ependymoma, pediatric ependymoma, nasal cavity squamous cell carcinoma, gastric squamous cell carcinoma, penile cancer, penis carcinoma, penis squamous cell carcinoma, head and neck squamous cell carcinoma, anal squamous cell carcinoma, rectum squamous cell carcinoma, ovarian squamous cell carcinoma, endometrial squamous cell carcinoma, renal pelvis squamous cell carcinoma, ureter squamous cell carcinoma, mediastinal cancer, eccrine sweat gland cancer, malignant syringoma, malignant acrospiroma, VIPoma, gastrinoma, sweat gland carcinoma, aggressive digital papillary adenocarcinoma, fallopian tube serous adenocarcinoma, precursor lymphoblastic lymphoma/leukemia, precursor T-lymphoblastic lymphoma/leukemia, acute lymphocytic leukemia, adult acute lymphocytic leukemia, T-cell adult acute lymphocytic leukemia, acute T cell leukemia, histiocytic and dendritic cell cancer, esophageal adenosquamous carcinoma, cervical adenosquamous carcinoma, choroid plexus cancer, choroid plexus carcinoma, lymphoepithelioma-like carcinoma, embryonal testis carcinoma, cellular myxoid liposarcoma, adult liposarcoma, pleomorphic liposarcoma, adrenal medulla cancer, pancreatic acinar cell adenocarcinoma, ovary serous adenocarcinoma, ovarian serous cystadenocarcinoma, uterine corpus serous adenocarcinoma, esophageal neuroendocrine tumor, gray zone lymphoma, adult lymphoma, endometrioid ovary carcinoma, fallopian tube endometrioid adenocarcinoma, malignant peripheral nerve sheath tumor, renal pelvis transitional cell carcinoma, uveal cancer, uveal melanoma, ovarian mucinous neoplasm, malignant leptomeningeal tumor, anal canal cancer, anal canal carcinoma, gliomatosis cerebri, male urethral cancer, prostatic urethral cancer, prostatic urethra urothelial carcinoma, ovarian carcinosarcoma, uterine body mixed cancer, uterine carcinosarcoma, epithelioid sarcoma, ovarian endometrial cancer, dendritic cell sarcoma, follicular dendritic cell sarcoma, inflammatory breast carcinoma, gastric cardia carcinoma, gastric cardia adenocarcinoma, adult malignant hemangiopericytoma, CLL/SLL, skin melanoma, acral lentiginous melanoma, childhood brain stem neoplasm, childhood brain stem glioma, invasive bladder transitional cell carcinoma, extraosseous chondrosarcoma, extraskeletal myxoid chondrosarcoma, mixed cell uveal melanoma, gastric small cell carcinoma, posterior uveal melanoma, non-invasive bladder urothelial carcinoma, pulmonary large cell neuroendocrine carcinoma, cervical large cell neuroendocrine carcinoma, fibrillary astrocytoma, childhood pilocytic astrocytoma, juvenile pilocytic astrocytoma, ureter transitional cell carcinoma, infiltrating ureter transitional cell carcinoma, mediastinal malignant lymphoma, ureter small cell carcinoma, ovarian seromucinous carcinoma, eye lymphoma, tall cell variant papillary carcinoma, urinary bladder small cell neuroendocrine carcinoma, prostate small cell carcinoma, anal canal squamous cell carcinoma, postgerminal center chronic lymphocytic leukemia/small lymphocytic lymphoma, central nervous system germ cell tumor, central nervous system embryonal carcinoma, superficial urinary bladder cancer, adrenal medulla carcinoma, L-cell glucagon-like peptide producing tumor, ovarian clear cell cystadenocarcinoma, malignant pleural mesothelioma, brain ependymoma, eccrine porocarcinoma, endometrial mixed adenocarcinoma, childhood leukemia, necrotic uveal melanoma, interdigitating dendritic cell sarcoma, mixed oligodendroglioma-astrocytoma, sarcomatoid penile squamous cell carcinoma, malignant spiradenoma, pregerminal center chronic lymphocytic leukemia/small lymphocytic lymphoma, thyroid Hurthle cell carcinoma, adult epithelioid sarcoma, epithelioid malignant peripheral nerve sheath tumor, pediatric fibrosarcoma, congenital fibrosarcoma, pharynx cancer, hypopharynx cancer, mature T-cell and NK-cell lymphoma, peripheral T-cell lymphoma, cutaneous T cell lymphoma, Sezary's disease, Hodgkin's lymphoma, Hodgkin's lymphoma, lymphocytic-histiocytic predominance, myeloid leukemia, chronic myeloid leukemia, oropharynx cancer, lip cancer, soft palate cancer, Burkitt lymphoma, gum cancer, Hodgkin's lymphoma, lymphocytic depletion, Kaposi's sarcoma, tongue cancer, Hodgkin's lymphoma, mixed cellularity, myeloid sarcoma, mycosis fungoides, subacute myeloid leukemia, megakaryocytic leukemia, Hodgkin's lymphoma, nodular sclerosis, tonsil cancer, monocytic leukemia, acute monocytic leukemia, parotid gland cancer, bladder carcinoma in situ, acute myeloid leukemia, vestibule of mouth cancer, gastrointestinal stromal tumor, mast-cell leukemia, nasopharynx carcinoma, multiple myeloma, smoldering myeloma, B- and T-cell mixed leukemia, ileum cancer, duodenum adenocarcinoma, urachus cancer, anal margin carcinoma, anal margin squamous cell carcinoma, testicular lymphoma, acute leukemia, acoustic neuroma, scrotum neoplasm, scrotal carcinoma, scrotum squamous cell carcinoma, reproductive organ benign neoplasm, female reproductive organ benign neoplasm, uterine benign neoplasm, uterine fibroid, genetic disease, monogenic disease, autosomal genetic disease, autosomal dominant disease, tuberous sclerosis, hemangioblastoma, von Hippel-Lindau disease, chromosomal disease, Down syndrome, seminal vesicle adenocarcinoma, juvenile myelomonocytic leukemia, adult T-cell leukemia, oral cavity carcinoma in situ, paranasal sinus cancer, infiltrating renal pelvis transitional cell carcinoma, hepatobiliary benign neoplasm, biliary tract benign neoplasm, gastrointestinal neuroendocrine tumor, small cell carcinoma, anaplastic large cell lymphoma, diffuse large B-cell lymphoma, mantle cell lymphoma, lymphoplasmacytic lymphoma, marginal zone B-cell lymphoma, splenic marginal zone lymphoma, T-cell large granular lymphocyte leukemia, endocrine organ benign neoplasm, pheochromocytoma, paraganglioma, colorectal carcinoma, colorectal adenocarcinoma, tongue squamous cell carcinoma, oral squamous cell carcinoma, large cell neuroendocrine carcinoma, follicular lymphoma, malignant pheochromocytoma, adrenal gland pheochromocytoma, ameloblastoma, myelodysplastic syndrome, MALT lymphoma, colonic benign neoplasm, colon adenoma, vaginal carcinoma, tonsil squamous cell carcinoma, pharynx squamous cell carcinoma, small intestine carcinoid neuroendocrine tumor, jejunal cancer, jejunal adenocarcinoma, mucosal melanoma, ovarian serous carcinoma, ovarian clear cell carcinoma, extra-adrenal pheochromocytoma, lymphatic system cancer, ductal carcinoma in situ, estrogen-receptor positive breast cancer, estrogen-receptor negative breast cancer, progesterone-receptor positive breast cancer, Her2-receptor positive breast cancer, Her2-receptor negative breast cancer, triple-receptor negative breast cancer, acute promyelocytic leukemia, NUT midline carcinoma, B-cell adult acute lymphocytic leukemia, atypical chronic myeloid leukemia, Waldenstroem's macroglobulinemia, childhood acute lymphocytic leukemia, T-cell childhood acute lymphocytic leukemia, B-cell childhood acute lymphoblastic leukemia, lymphoblastic lymphoma, chronic leukemia, chronic neutrophilic leukemia, chronic myelomonocytic leukemia, relapsed/refractory diffuse large B-cell lymphoma, adenoid cystic carcinoma, primary mediastinal B-cell lymphoma, nodal marginal zone lymphoma, musculoskeletal system benign neoplasm, connective tissue benign neoplasm, desmoid tumor, chronic eosinophilic leukemia, lung non-squamous non-small cell carcinoma, angioimmunoblastic T-cell lymphoma, Advanced Solid Tumor]"
     ]
    },
    {
     "name": "stdout",
     "output_type": "stream",
     "text": [
      "\n"
     ]
    }
   ],
   "source": [
    "// get map\n",
    "CTlabels = json.labels\n",
    "CTparents = json.parentsLabels\n",
    "CTvalues = json.values\n",
    "CTVdescendants = json.descendantValues\n",
    " println(\"**\\n\"+CTlabels)\n",
    "// println(\"**\\n\"+CTparents)\n",
    "// println(\"**\\n\"+CTvalues)\n",
    "//println(\"**\\n\"+CTVdescendants)\n",
    "\n",
    "beakerx.CTVlabels =CTlabels\n",
    "beakerx.CTVparents = CTparents\n",
    "beakerx.CTVvalues = CTvalues\n",
    "beakerx.CTVdescendants = CTVdescendants\n",
    "//println(CTlabels[289..292])\n",
    "//println(CTparents[289..292].collect{\"'${it}'\"})\n",
    "\n",
    "OutputCell.HIDDEN"
   ]
  },
  {
   "cell_type": "code",
   "execution_count": 93,
   "metadata": {},
   "outputs": [],
   "source": [
    "%%python\n",
    "\n",
    "# uncomment if running from Conda\n",
    "from beakerx.object import beakerx\n",
    "\n",
    "t = []\n",
    "for val in beakerx.CTVdescendants:\n",
    "    t.append(\"child sum: \"+str(val))\n",
    "\n",
    "    v = []    \n",
    "for val in beakerx.CTVvalues:\n",
    "    v.append(\"branch remainder: \"+str(val))\n",
    "    \n",
    "combined = []\n",
    "stri = \"\"\n",
    "for i in range(len(beakerx.CTVvalues)):\n",
    "    combined.append(v[i]+\" \\n \"+t[i]);\n",
    "\n",
    "#print (\"t: \",t)\n",
    "#print (\"v: \",v)\n",
    "#print (\"combined :\",combined)\n",
    "\n",
    "beakerx.remval = v\n",
    "beakerx.textsum = t\n",
    "beakerx.comb = combined"
   ]
  },
  {
   "cell_type": "code",
   "execution_count": 105,
   "metadata": {},
   "outputs": [],
   "source": [
    "%%python\n",
    "\n",
    "# uncomment if running from Conda\n",
    "from beakerx.object import beakerx\n",
    "\n",
    "l= []\n",
    "\n",
    "maxval = max(beakerx.CTVvalues)\n",
    "minval = min(beakerx.CTVvalues)\n",
    "\n",
    "\n",
    "\n",
    "# percentage colorscale from min to max\n",
    "\"\"\"\n",
    "# uncomment code below to test\n",
    "for value  in beakerx.CTVvalues:\n",
    "    r =0\n",
    "    g=0\n",
    "    b=0\n",
    "    \n",
    "    perc = (value/maxval)*100\n",
    "    \n",
    "    if(perc <50):\n",
    "        r=255\n",
    "        g= round(5.1*perc)\n",
    "    else:\n",
    "        g=255\n",
    "        r=round(510-5.10*perc)\n",
    "    \n",
    "    h = (r*0x10000)+(g*0x100)+(b*0x1)\n",
    "    #print (\"h :\",h)\n",
    "    \n",
    "    l.append(\"#\"+hex(h).lstrip(\"0x\").rstrip(\"L\"))\n",
    "\"\"\"\n",
    "\n",
    "ls = []\n",
    "# 10 categories for colors\n",
    "colorslist = ['#ED8B00', '#333F48', '#A2AAAD', '#0085CA', '#9467bd', '#43B02A', '#002D72', '#7f7f7f', '#bcbd22', '#D0D3D4']\n",
    "#colorslist =['#0085CA', '#002D72', '#2C2A29', '#333F48', '#A2AAAD', '#D0D3D4', '#FFFFFF','#F1C400', '#ED8B00', '#DC582A', '#AB2328', '#8A1B61', '#005151', '#43B02A']\n",
    "#['#ED8B00', '#333F48', '#A2AAAD', '#0085CA', '#9467bd', '#43B02A', '#002D72', '#7f7f7f', '#bcbd22', '#17becf', '#D0D3D4']\n",
    "#print (\"length : \",len(colorslist), \"zeroth :\", colorslist[0])\n",
    "frac = maxval/9\n",
    "#print (\"frac :\",frac)\n",
    "for value  in beakerx.CTVvalues:\n",
    "    ind = round(float(value/frac))\n",
    "    \n",
    "    #print (\"ind :\", ind)\n",
    "    \n",
    "    ls.append( colorslist[ind])\n",
    "\n",
    "# second set of values based off     \n",
    "    \n",
    "lt =[]\n",
    "maxval = max(beakerx.CTVdescendants)\n",
    "minval = min(beakerx.CTVdescendants)\n",
    "tenth = maxval/9\n",
    "\n",
    "for value  in beakerx.CTVdescendants:\n",
    "    ind = round(value/tenth)\n",
    "    #print(\"ind :\", index)\n",
    "    \n",
    "    lt.append(colorslist[ind])\n",
    "\n",
    "#print (\"l :\",l)\n",
    "    \n",
    "beakerx.cols= l\n",
    "beakerx.vcols = ls\n",
    "beakerx.tcols = lt"
   ]
  },
  {
   "cell_type": "code",
   "execution_count": null,
   "metadata": {},
   "outputs": [],
   "source": []
  },
  {
   "cell_type": "code",
   "execution_count": 106,
   "metadata": {},
   "outputs": [
    {
     "data": {
      "application/javascript": [
       "\n",
       "// plot\n",
       "\n",
       "\n",
       "var data = [{\n",
       "  type: \"sunburst\",\n",
       "  //maxdepth: 3, // wrong\n",
       "  labels: beakerx.CTVlabels,\n",
       "  parents: beakerx.CTVparents,\n",
       "  values: beakerx.CTVvalues,\n",
       "  hoverinfo : \"label+value+text\",\n",
       "  textinfo : 'label',\n",
       "  opacity: 0.9,\n",
       "  customdata: beakerx.CTVdescendants,\n",
       "  \n",
       "  //hovertext : beakerx.textsum,\n",
       "  \n",
       "    //template\n",
       "  hovertemplate:'<b>Category</b>: %{label}<br>'  +\n",
       "                '<b>Category Remainder</b>: %{value}<br>' +\n",
       "                '<b>Child Categories Sum</b>: %{customdata}', \n",
       "  \n",
       "  outsidetextfont: {size: 20, color: \"#377eb8\"},\n",
       "  leaf: {opacity: 1},\n",
       "  marker: {line: {width: 2},\n",
       "           colors: beakerx.vcols},\n",
       "}];\n",
       "\n",
       "var layout = {\n",
       "  margin: {l: 0, r: 0, b: 0, t: 0},\n",
       "  width: 1000,\n",
       "  height: 800,\n",
       "  showlegend: false\n",
       "};\n",
       "\n",
       "var updatemenus=[\n",
       "    {\n",
       "        buttons: [\n",
       "            {\n",
       "                args: ['type', 'surface'],\n",
       "                label: '3D Surface',\n",
       "                method: 'restyle'\n",
       "            },\n",
       "            {\n",
       "                args: ['type', 'heatmap'],\n",
       "                label:'Heatmap',\n",
       "                method:'restyle'\n",
       "            }\n",
       "        ],\n",
       "        direction: 'left',\n",
       "        pad: {'r': 10, 't': 10},\n",
       "        showactive: true,\n",
       "        type: 'buttons',\n",
       "        x: 0.1,\n",
       "        xanchor: 'left',\n",
       "        y: 1.1,\n",
       "        yanchor: 'top'\n",
       "    }\n",
       "]\n",
       "\n",
       "\n",
       "\n",
       "beakerx.data2 = data;\n",
       "beakerx.layout = layout;\n",
       "\n",
       "console.log(beakerx.cols);\n",
       "\n",
       "function myFunction() {\n",
       "    // replot sunburst\n",
       "  Plotly.newPlot('CTOSunburst', data, layout);\n",
       "\n",
       "}"
      ]
     },
     "execution_count": 106,
     "metadata": {},
     "output_type": "execute_result"
    }
   ],
   "source": [
    "%%javascript\n",
    "\n",
    "// plot\n",
    "\n",
    "\n",
    "var data = [{\n",
    "  type: \"sunburst\",\n",
    "  //maxdepth: 3, // wrong\n",
    "  labels: beakerx.CTVlabels,\n",
    "  parents: beakerx.CTVparents,\n",
    "  values: beakerx.CTVvalues,\n",
    "  hoverinfo : \"label+value+text\",\n",
    "  textinfo : 'label',\n",
    "  opacity: 0.9,\n",
    "  customdata: beakerx.CTVdescendants,\n",
    "  \n",
    "  //hovertext : beakerx.textsum,\n",
    "  \n",
    "    //template\n",
    "  hovertemplate:'<b>Category</b>: %{label}<br>'  +\n",
    "                '<b>Category Remainder</b>: %{value}<br>' +\n",
    "                '<b>Child Categories Sum</b>: %{customdata}', \n",
    "  \n",
    "  outsidetextfont: {size: 20, color: \"#377eb8\"},\n",
    "  leaf: {opacity: 1},\n",
    "  marker: {line: {width: 2},\n",
    "           colors: beakerx.vcols},\n",
    "}];\n",
    "\n",
    "var layout = {\n",
    "  margin: {l: 0, r: 0, b: 0, t: 0},\n",
    "  width: 1000,\n",
    "  height: 800,\n",
    "  showlegend: false\n",
    "};\n",
    "\n",
    "var updatemenus=[\n",
    "    {\n",
    "        buttons: [\n",
    "            {\n",
    "                args: ['type', 'surface'],\n",
    "                label: '3D Surface',\n",
    "                method: 'restyle'\n",
    "            },\n",
    "            {\n",
    "                args: ['type', 'heatmap'],\n",
    "                label:'Heatmap',\n",
    "                method:'restyle'\n",
    "            }\n",
    "        ],\n",
    "        direction: 'left',\n",
    "        pad: {'r': 10, 't': 10},\n",
    "        showactive: true,\n",
    "        type: 'buttons',\n",
    "        x: 0.1,\n",
    "        xanchor: 'left',\n",
    "        y: 1.1,\n",
    "        yanchor: 'top'\n",
    "    }\n",
    "]\n",
    "\n",
    "\n",
    "\n",
    "beakerx.data2 = data;\n",
    "beakerx.layout = layout;\n",
    "\n",
    "console.log(beakerx.cols);\n",
    "\n",
    "function myFunction() {\n",
    "    // replot sunburst\n",
    "  Plotly.newPlot('CTOSunburst', data, layout);\n",
    "\n",
    "}"
   ]
  },
  {
   "cell_type": "code",
   "execution_count": 107,
   "metadata": {},
   "outputs": [
    {
     "data": {
      "application/javascript": [
       "beakerx.displayHTML(this, '<div id=\"CTOSunburst\"></div>');\n",
       "Plotly.newPlot('CTOSunburst', beakerx.data2, beakerx.layout);"
      ]
     },
     "execution_count": 107,
     "metadata": {},
     "output_type": "execute_result"
    }
   ],
   "source": [
    "%%javascript\n",
    "beakerx.displayHTML(this, '<div id=\"CTOSunburst\"></div>');\n",
    "Plotly.newPlot('CTOSunburst', beakerx.data2, beakerx.layout);"
   ]
  },
  {
   "cell_type": "code",
   "execution_count": null,
   "metadata": {},
   "outputs": [],
   "source": [
    "%%javascript\n",
    "\n",
    "// plot\n",
    "\n",
    "\n",
    "var data = [{\n",
    "  type: \"sunburst\",\n",
    "  //maxdepth: 3, // wrong\n",
    "  labels: beakerx.CTVlabels,\n",
    "  parents: beakerx.CTVparents,\n",
    "  values: beakerx.CTVvalues,\n",
    "  hoverinfo : \"label+value+text\", \n",
    "  textinfo : 'label',\n",
    "  opacity: 0.9,\n",
    "  customdata: beakerx.CTVdescendants,\n",
    "  \n",
    "  hovertext : beakerx.textsum,\n",
    "  // template overides hoverinfo\n",
    "  hovertemplate: '<b>Category</b>: %{label}<br>'  +\n",
    "                        '<b>Category Remainder</b>: %{value}<br>' +\n",
    "                 '<b>Child Categories Sum</b>: %{customdata}',\n",
    "  outsidetextfont: {size: 20, color: \"#377eb8\"},\n",
    "  leaf: {opacity: 1},\n",
    "  marker: {line: {width: 2},\n",
    "           colors: beakerx.tcols},\n",
    "}];\n",
    "\n",
    "var layout = {\n",
    "  margin: {l: 0, r: 0, b: 0, t: 0},\n",
    "  width: 1000,\n",
    "  height: 800,\n",
    "  showlegend: false\n",
    "};\n",
    "\n",
    "\n",
    "beakerx.data2 = data;\n",
    "beakerx.layout = layout;\n",
    "\n",
    "console.log(beakerx.cols);\n",
    "\n",
    "// replot sunburst\n",
    "beakerx.displayHTML(this, '<div id=\"CTO2Sunburst\"></div>');\n",
    "Plotly.newPlot('CTO2Sunburst', beakerx.data2, beakerx.layout);\n"
   ]
  },
  {
   "cell_type": "code",
   "execution_count": 98,
   "metadata": {},
   "outputs": [
    {
     "data": {
      "text/html": [
       "<html>\n",
       "<body>  \n",
       "    \n",
       "    <div id=\"CTOsunburst\"/></div>\n",
       "    <button onclick=\"myFunction()\">Reset</button>  \n",
       "</body></html>"
      ]
     },
     "execution_count": 98,
     "metadata": {},
     "output_type": "execute_result"
    }
   ],
   "source": [
    "%%html\n",
    "\n",
    "<body>  \n",
    "    \n",
    "    <div id=\"CTOsunburst\"/></div>\n",
    "    <button onclick=\"myFunction()\">Reset</button>  \n",
    "</body>"
   ]
  },
  {
   "cell_type": "code",
   "execution_count": null,
   "metadata": {},
   "outputs": [],
   "source": [
    "%%html\n",
    "\n",
    "<body>  \n",
    "    \n",
    "    <div id=\"CTO2sunburst\"/></div>\n",
    "    <button onclick=\"myFunction()\">Reset</button>  \n",
    "</body>\n",
    "\n"
   ]
  },
  {
   "cell_type": "code",
   "execution_count": null,
   "metadata": {},
   "outputs": [],
   "source": []
  }
 ],
 "metadata": {
  "kernelspec": {
   "display_name": "Groovy",
   "language": "groovy",
   "name": "groovy"
  },
  "language_info": {
   "codemirror_mode": "groovy",
   "file_extension": ".groovy",
   "mimetype": "",
   "name": "Groovy",
   "nbconverter_exporter": "",
   "version": "2.5.6"
  },
  "toc": {
   "base_numbering": 1,
   "nav_menu": {},
   "number_sections": false,
   "sideBar": false,
   "skip_h1_title": false,
   "title_cell": "Table of Contents",
   "title_sidebar": "Contents",
   "toc_cell": false,
   "toc_position": {},
   "toc_section_display": false,
   "toc_window_display": false
  }
 },
 "nbformat": 4,
 "nbformat_minor": 2
}
