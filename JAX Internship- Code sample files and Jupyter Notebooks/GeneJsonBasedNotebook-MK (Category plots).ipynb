{
 "cells": [
  {
   "cell_type": "markdown",
   "metadata": {},
   "source": [
    "Reading a file with json representing a Gene.\n",
    "Using JsonSlurper to parse the file, jsonSlurper let's you walk the json structure using dot notation treating the json doc like a map of nested properties.\n",
    "\n",
    "# works on genes-25.json file for CKB data"
   ]
  },
  {
   "cell_type": "code",
   "execution_count": 1,
   "metadata": {
    "scrolled": true
   },
   "outputs": [
    {
     "data": {
      "application/vnd.jupyter.widget-view+json": {
       "model_id": "ef45f9df-cd58-42f5-86e1-f6dac99469ca",
       "version_major": 2,
       "version_minor": 0
      },
      "method": "display_data"
     },
     "metadata": {},
     "output_type": "display_data"
    }
   ],
   "source": [
    "String jsonText = new File('data/api-export/genes/genes-25.json').text\n",
    "def slurper = new groovy.json.JsonSlurper()\n",
    "json =slurper.parseText(jsonText)\n",
    "\n",
    "json.variants[0].each{\n",
    "    //println(it)\n",
    "}\n"
   ]
  },
  {
   "cell_type": "code",
   "execution_count": 2,
   "metadata": {},
   "outputs": [
    {
     "data": {
      "application/vnd.jupyter.widget-view+json": {
       "model_id": "66a0d6f6-6d2c-4e9a-9451-34f61a64694c",
       "version_major": 2,
       "version_minor": 0
      },
      "method": "display_data"
     },
     "metadata": {},
     "output_type": "display_data"
    }
   ],
   "source": [
    "mapByProteinEffect = json.variants.groupBy{it.proteinEffect}"
   ]
  },
  {
   "cell_type": "code",
   "execution_count": 3,
   "metadata": {},
   "outputs": [
    {
     "data": {
      "application/vnd.jupyter.widget-view+json": {
       "model_id": "b5217b84-6fa3-4dc3-b999-d5f25021ed7a",
       "version_major": 2,
       "version_minor": 0
      },
      "method": "display_data"
     },
     "metadata": {},
     "output_type": "display_data"
    }
   ],
   "source": [
    "def proteinEffectList = mapByProteinEffect.keySet() as List\n",
    "def counts = mapByProteinEffect.values().collect{it.size()}\n",
    "def proteinEffectPlot = new CategoryPlot(title: \" Protein Effect vs Frequency\" , initWidth: 1000, initHeight: 400, categoryNames:proteinEffectList)\n",
    "proteinEffectPlot << new CategoryBars(value: [counts])"
   ]
  },
  {
   "cell_type": "code",
   "execution_count": 4,
   "metadata": {},
   "outputs": [
    {
     "data": {
      "application/vnd.jupyter.widget-view+json": {
       "model_id": "6a335486-b285-4bdd-a32c-3aa6a5005eb0",
       "version_major": 2,
       "version_minor": 0
      },
      "method": "display_data"
     },
     "metadata": {},
     "output_type": "display_data"
    }
   ],
   "source": [
    "mapByImpact = json.variants.groupBy{it.impact}"
   ]
  },
  {
   "cell_type": "code",
   "execution_count": 5,
   "metadata": {},
   "outputs": [
    {
     "data": {
      "application/vnd.jupyter.widget-view+json": {
       "model_id": "043a4284-44c0-419f-a1d8-233e51c26a8f",
       "version_major": 2,
       "version_minor": 0
      },
      "method": "display_data"
     },
     "metadata": {},
     "output_type": "display_data"
    }
   ],
   "source": [
    "def mapByImpactCategories = mapByImpact.keySet() as List\n",
    "def counts = mapByImpact.values().collect{it.size()}\n",
    "def impactPlot = new CategoryPlot(title: \"Impact vs Frequency\", initWidth: 1000, initHeight: 400, categoryNames:mapByImpactCategories)\n",
    "impactPlot << new CategoryBars(value: [counts])"
   ]
  },
  {
   "cell_type": "markdown",
   "metadata": {},
   "source": [
    "#  Plot both Impact and Protein Effect together"
   ]
  },
  {
   "cell_type": "code",
   "execution_count": 21,
   "metadata": {},
   "outputs": [
    {
     "data": {
      "application/vnd.jupyter.widget-view+json": {
       "model_id": "d562c9de-16d4-45a2-a348-d16c39bc74f7",
       "version_major": 2,
       "version_minor": 0
      },
      "method": "display_data"
     },
     "metadata": {},
     "output_type": "display_data"
    }
   ],
   "source": [
    "def pecounts = mapByProteinEffect.values().collect{it.size()}\n",
    "def icounts = mapByImpact.values().collect{it.size()}\n",
    "def proteinEffectList = mapByProteinEffect.keySet() as List\n",
    "def mapByImpactCategories = mapByImpact.keySet() as List\n",
    "def combbar = new CategoryBars(value : [pecounts, icounts], seriesNames : [\"Protein Effect\", \"Impact\"])\n",
    "// ,categoryNames : [proteinEffectList ,mapByImpactCategories] ,categoryNamesLabelAngle: -1/4 * Math.PI\n",
    "def combplot = new CategoryPlot(title: \"Gene Variant Combined Plot: Protein Effect and Impact\" ,xLabel: \"Categories\", yLabel: \" Frequency counts\",initWidth : 1000, initHeight : 500)\n",
    "combplot << combbar"
   ]
  },
  {
   "cell_type": "markdown",
   "metadata": {},
   "source": [
    "# Molecular Profiles"
   ]
  },
  {
   "cell_type": "code",
   "execution_count": 24,
   "metadata": {},
   "outputs": [
    {
     "data": {
      "application/vnd.jupyter.widget-view+json": {
       "model_id": "6baf5b47-2afa-49ad-a5c1-cbb74def6683",
       "version_major": 2,
       "version_minor": 0
      },
      "method": "display_data"
     },
     "metadata": {},
     "output_type": "display_data"
    }
   ],
   "source": [
    "mapByProteinEffect = json.molecularProfiles"
   ]
  },
  {
   "cell_type": "markdown",
   "metadata": {},
   "source": [
    "no sensible categories to plot"
   ]
  },
  {
   "cell_type": "markdown",
   "metadata": {},
   "source": [
    "# Gene Level Evidence"
   ]
  },
  {
   "cell_type": "code",
   "execution_count": 27,
   "metadata": {},
   "outputs": [
    {
     "data": {
      "application/vnd.jupyter.widget-view+json": {
       "model_id": "0112da2a-5e79-42cc-a478-da62182696e7",
       "version_major": 2,
       "version_minor": 0
      },
      "method": "display_data"
     },
     "metadata": {},
     "output_type": "display_data"
    }
   ],
   "source": [
    "mapByTumorType = json.evidence.groupBy{it.indication.name}"
   ]
  },
  {
   "cell_type": "code",
   "execution_count": 43,
   "metadata": {},
   "outputs": [
    {
     "data": {
      "application/vnd.jupyter.widget-view+json": {
       "model_id": "6a2a81b7-beb7-4c88-bbc0-ad58d484cdd5",
       "version_major": 2,
       "version_minor": 0
      },
      "method": "display_data"
     },
     "metadata": {},
     "output_type": "display_data"
    }
   ],
   "source": [
    "def mapByImpactCategories = mapByTumorType.keySet() as List\n",
    "def counts = mapByTumorType.values().collect{it.size()}\n",
    "def impactPlot = new CategoryPlot(title: \"Indication/Tumor Type\", xLabel: \"Categories\", yLabel: \" Frequency counts\",initWidth: 500, initHeight: 400, categoryNames:mapByImpactCategories)\n",
    "impactPlot << new CategoryBars(value: [counts])"
   ]
  },
  {
   "cell_type": "code",
   "execution_count": 44,
   "metadata": {},
   "outputs": [
    {
     "data": {
      "application/vnd.jupyter.widget-view+json": {
       "model_id": "1b7a6396-dbab-4f62-a080-3820a9f62b15",
       "version_major": 2,
       "version_minor": 0
      },
      "method": "display_data"
     },
     "metadata": {},
     "output_type": "display_data"
    }
   ],
   "source": [
    "mapByTumorType = json.evidence.groupBy{it.therapy.therapyName}\n",
    "\n",
    "def mapByImpactCategories = mapByTumorType.keySet() as List\n",
    "def counts = mapByTumorType.values().collect{it.size()}\n",
    "def impactPlot = new CategoryPlot(title: \"Tharapy Name\",xLabel: \"Categories\", yLabel: \" Frequency counts\" ,initWidth: 500, initHeight: 400, categoryNames:mapByImpactCategories)\n",
    "impactPlot << new CategoryBars(value: [counts])"
   ]
  },
  {
   "cell_type": "code",
   "execution_count": 45,
   "metadata": {},
   "outputs": [
    {
     "data": {
      "application/vnd.jupyter.widget-view+json": {
       "model_id": "d34d9372-1b71-4067-ad3b-0447b2f2f0b2",
       "version_major": 2,
       "version_minor": 0
      },
      "method": "display_data"
     },
     "metadata": {},
     "output_type": "display_data"
    }
   ],
   "source": [
    "mapByTumorType = json.evidence.groupBy{it.approvalStatus}\n",
    "def mapByImpactCategories = mapByTumorType.keySet() as List\n",
    "def counts = mapByTumorType.values().collect{it.size()}\n",
    "def impactPlot = new CategoryPlot(title: \"Approval Status\", initWidth: 700, initHeight: 400, categoryNames:mapByImpactCategories, xLabel: \"Categories\", yLabel: \" Frequency counts\")\n",
    "impactPlot << new CategoryBars(value: [counts], color: Color.red)"
   ]
  },
  {
   "cell_type": "code",
   "execution_count": null,
   "metadata": {},
   "outputs": [],
   "source": []
  }
 ],
 "metadata": {
  "kernelspec": {
   "display_name": "Groovy",
   "language": "groovy",
   "name": "groovy"
  },
  "language_info": {
   "codemirror_mode": "groovy",
   "file_extension": ".groovy",
   "mimetype": "",
   "name": "Groovy",
   "nbconverter_exporter": "",
   "version": "2.5.6"
  },
  "toc": {
   "base_numbering": 1,
   "nav_menu": {},
   "number_sections": false,
   "sideBar": false,
   "skip_h1_title": false,
   "title_cell": "Table of Contents",
   "title_sidebar": "Contents",
   "toc_cell": false,
   "toc_position": {},
   "toc_section_display": false,
   "toc_window_display": false
  }
 },
 "nbformat": 4,
 "nbformat_minor": 2
}
