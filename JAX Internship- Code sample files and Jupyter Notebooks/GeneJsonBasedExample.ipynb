{
 "cells": [
  {
   "cell_type": "markdown",
   "metadata": {},
   "source": [
    "Reading a file with json representing a Gene.\n",
    "Using JsonSlurper to parse the file, jsonSlurper let's you walk the json structure using dot notation treating the json doc like a map of nested properties."
   ]
  },
  {
   "cell_type": "code",
   "execution_count": null,
   "metadata": {},
   "outputs": [],
   "source": [
    "String jsonText = new File('data/api-export/genes/genes-25.json').text\n",
    "def slurper = new groovy.json.JsonSlurper()\n",
    "json =slurper.parseText(jsonText)\n",
    "OutputCell.HIDDEN"
   ]
  },
  {
   "cell_type": "code",
   "execution_count": null,
   "metadata": {},
   "outputs": [],
   "source": [
    "mapByProteinEffect = json.variants.groupBy{it.proteinEffect}\n",
    "OutputCell.HIDDEN"
   ]
  },
  {
   "cell_type": "code",
   "execution_count": null,
   "metadata": {},
   "outputs": [],
   "source": [
    "mapByImpact = json.variants.groupBy{it.impact}\n",
    "OutputCell.HIDDEN "
   ]
  },
  {
   "cell_type": "code",
   "execution_count": null,
   "metadata": {},
   "outputs": [],
   "source": [
    "def gridLayoutManager = new GridOutputContainerLayoutManager(2)\n",
    "outputContainer = new OutputContainer()\n",
    "outputContainer.setLayoutManager(gridLayoutManager)\n",
    "outputContainer\n",
    "\n",
    "def proteinEffectList = mapByProteinEffect.keySet() as List\n",
    "def proteinEffectcounts = mapByProteinEffect.values().collect{it.size()}\n",
    "def proteinEffectPlot = new CategoryPlot(initWidth: 1000, initHeight: 400, categoryNames:proteinEffectList, title: 'Protein Effect Plot')\n",
    "proteinEffectPlot << new CategoryBars(value: [proteinEffectcounts])\n",
    "outputContainer.addItem(proteinEffectPlot, 'Protein Effect Plot')\n",
    "\n",
    "def impactCategories = mapByImpact.keySet() as List\n",
    "def impactCounts = mapByImpact.values().collect{it.size()}\n",
    "beakerx.impactMap = [impactCategories : impactCategories, counts : impactCounts]\n",
    "def impactPlot = new CategoryPlot(initWidth: 1000, initHeight: 400, categoryNames:impactCategories, title:'Impact Plot')\n",
    "impactPlot << new CategoryBars(value: [impactCounts])\n",
    "\n",
    "outputContainer.addItem(impactPlot, 'Impact Plot')\n",
    "outputContainer"
   ]
  },
  {
   "cell_type": "code",
   "execution_count": null,
   "metadata": {},
   "outputs": [],
   "source": [
    "%%html\n",
    "<table border='1'>\n",
    "    <tr>\n",
    "        <td><div id=\"plotlyHorizontalBar\"/></td><td><div id=\"plotlyPieChart\"/></td>\n",
    "    </tr>\n",
    "</table>"
   ]
  },
  {
   "cell_type": "code",
   "execution_count": null,
   "metadata": {},
   "outputs": [],
   "source": [
    "%%javascript\n",
    "require.config({paths:{'plotly':'//cdn.plot.ly/plotly-latest.min'}});\n",
    "require(['plotly'], function(Plotly) {\n",
    "    window.Plotly = Plotly;\n",
    "});\n"
   ]
  },
  {
   "cell_type": "code",
   "execution_count": null,
   "metadata": {},
   "outputs": [],
   "source": [
    "%%javascript\n",
    "\n",
    "//beakerx.displayHTML(this, '<div id=\"plotlyHorizontalBar\"/>');\n",
    "var data = [\n",
    "  {\n",
    "    x: beakerx.impactMap.counts,\n",
    "    y: beakerx.impactMap.impactCategories,    \n",
    "    type: 'bar',\n",
    "    orientation:'h'\n",
    "  }\n",
    "];\n",
    "\n",
    "Plotly.newPlot('plotlyHorizontalBar', data, {width:500});"
   ]
  },
  {
   "cell_type": "code",
   "execution_count": null,
   "metadata": {},
   "outputs": [],
   "source": [
    "%%javascript\n",
    "beakerx.displayHTML(this, '<div id=\"plotlyPieChart\"></div>');\n",
    "var data = [{\n",
    "  values: beakerx.impactMap.counts,\n",
    "  labels: beakerx.impactMap.impactCategories,\n",
    "  type: 'pie'\n",
    "}];\n",
    "\n",
    "var layout = {\n",
    "  height: 400,\n",
    "  width: 500\n",
    "};\n",
    "\n",
    "Plotly.newPlot('plotlyPieChart', data, layout);\n"
   ]
  }
 ],
 "metadata": {
  "kernelspec": {
   "display_name": "Groovy",
   "language": "groovy",
   "name": "groovy"
  },
  "language_info": {
   "codemirror_mode": "groovy",
   "file_extension": ".groovy",
   "mimetype": "",
   "name": "Groovy",
   "nbconverter_exporter": "",
   "version": "2.5.6"
  },
  "toc": {
   "base_numbering": 1,
   "nav_menu": {},
   "number_sections": false,
   "sideBar": false,
   "skip_h1_title": false,
   "title_cell": "Table of Contents",
   "title_sidebar": "Contents",
   "toc_cell": false,
   "toc_position": {},
   "toc_section_display": false,
   "toc_window_display": false
  }
 },
 "nbformat": 4,
 "nbformat_minor": 2
}
