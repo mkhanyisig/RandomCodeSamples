{
 "cells": [
  {
   "cell_type": "code",
   "execution_count": null,
   "metadata": {},
   "outputs": [],
   "source": [
    "-- %defaultDatasource jdbc:mysql://docker.for.mac.localhost/ckb_utilities?user=ckb_utilities&password=ckb_utilities&useSSL=false&serverTimezone=UTC\n",
    "\n",
    "%defaultDatasource jdbc:mysql://localhost/ckb_utilities?user=ckb_utilities&password=ckb_utilities&useSSL=false&serverTimezone=UTC\n",
    "\n",
    "select gv.protein_effect, count(*)\n",
    "into ${proteinEffectGroupByRs}\n",
    "from gene g\n",
    "    join gene_variant gv on gv.gene_id = g.gene_id\n",
    "where gv.protein_effect !=''\n",
    "group by gv.protein_effect\n",
    "order by gv.protein_effect desc"
   ]
  },
  {
   "cell_type": "code",
   "execution_count": null,
   "metadata": {},
   "outputs": [],
   "source": [
    "%%groovy\n",
    "// println(beakerx.proteinEffectGroupByRs.values)\n",
    "// def map = beakerx.proteinEffectGroupByRs.values.collectEntries{[(it[0]?:'not applicable'):it[1]]}\n",
    "\n",
    "def map = ['unknown': 19649, 'no effect - predicted': 1014, 'no effect': 1335, 'loss of function - predicted': 3222, 'loss of function': 1833, 'gain of function - predicted': 818, 'gain of function': 1370]\n",
    "beakerx.proteinEffectCategories = map.collect{it.key}\n",
    "beakerx.proteinEffectCounts = map.collect{it.value}\n",
    "\n",
    "beakerx.barTraces = map.collect{\n",
    "    [\n",
    "       x: ['Effect'] ,\n",
    "       y: [it.value],\n",
    "       type: 'bar',\n",
    "       name : it.key, \n",
    "    ]\n",
    "}\n",
    "\n",
    "println( map.collect{\"'${it.key}': ${it.value}\"} )\n",
    "\n"
   ]
  },
  {
   "cell_type": "markdown",
   "metadata": {},
   "source": [
    "Visuals"
   ]
  },
  {
   "cell_type": "code",
   "execution_count": null,
   "metadata": {},
   "outputs": [],
   "source": [
    "%%javascript\n",
    "require.config({paths:{'plotly':'//cdn.plot.ly/plotly-latest.min'}});\n",
    "require(['plotly'], function(Plotly) {\n",
    "    window.Plotly = Plotly;\n",
    "});\n"
   ]
  },
  {
   "cell_type": "code",
   "execution_count": null,
   "metadata": {},
   "outputs": [],
   "source": []
  },
  {
   "cell_type": "code",
   "execution_count": null,
   "metadata": {},
   "outputs": [],
   "source": [
    "%%javascript\n",
    "\n",
    "var pieData = [{\n",
    "  values: beakerx.proteinEffectCounts,\n",
    "  labels: beakerx.proteinEffectCategories,\n",
    "  type: 'pie',\n",
    "  name : 'Effect',\n",
    "  hoverinfo: 'label+percent+value',\n",
    "  hole: .6,\n",
    "  sort:false\n",
    "}];\n",
    "\n",
    "var layout = {\n",
    "    title: 'Protein Effect',\n",
    "    height: 1000,\n",
    "    width: 1000,\n",
    "    showlegend: true,\n",
    "    legend : {\n",
    "        itemclick: false,\n",
    "        itemdoubleclick: false,\n",
    "        orientation: 'v',\n",
    "        y: 1,\n",
    "        traceorder: 'reversed',\n",
    "    }, \n",
    "    barmode: 'stack',\n",
    "}\n",
    "\n",
    "\n",
    "beakerx.displayHTML(this, '<div id=\"plotlyDonutEffect\"/>');\n",
    "Plotly.newPlot('plotlyDonutEffect', pieData, layout);\n",
    "\n",
    "// beakerx.displayHTML(this, '<div id=\"plotlyBarEffect\"/>');\n",
    "//  Plotly.newPlot('plotlyBarEffect', beakerx.barTraces, layout);"
   ]
  },
  {
   "cell_type": "code",
   "execution_count": null,
   "metadata": {},
   "outputs": [],
   "source": []
  }
 ],
 "metadata": {
  "kernelspec": {
   "display_name": "SQL",
   "language": "SQL",
   "name": "sql"
  },
  "language_info": {
   "codemirror_mode": "sql",
   "file_extension": ".sql",
   "mimetype": "",
   "name": "SQL",
   "nbconverter_exporter": "",
   "version": ""
  },
  "toc": {
   "base_numbering": 1,
   "nav_menu": {},
   "number_sections": false,
   "sideBar": false,
   "skip_h1_title": false,
   "title_cell": "Table of Contents",
   "title_sidebar": "Contents",
   "toc_cell": false,
   "toc_position": {},
   "toc_section_display": false,
   "toc_window_display": false
  }
 },
 "nbformat": 4,
 "nbformat_minor": 2
}
