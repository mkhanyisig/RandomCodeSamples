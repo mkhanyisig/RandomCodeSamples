{
 "cells": [
  {
   "cell_type": "code",
   "execution_count": 1,
   "metadata": {},
   "outputs": [],
   "source": [
    "Map VARIANT_IMPACT_COLORS = [\"deletion\": '#ED8B00', \"duplication\": '#333F48', \"frameshift\": '#A2AAAD',\n",
    "                                 \"fusion\"  : '#0085CA', \"indel\": '#9467bd', \"insertion\": '#43B02A', \"missense\": '#002D72',\n",
    "                                 \"none\"    : '#7f7f7f', \"nonsense\": '#bcbd22', \"splice site\": '#17becf', \"unknown\": '#D0D3D4']\n",
    "List VARIANT_IMPACT = [\"deletion\", \"duplication\",\"frameshift\",\"fusion\", \"indel\", \"insertion\", \"missense\", \"none\", \"nonsense\", \"splice site\", \"unknown\"]\n",
    "\n",
    "beakerx.labels = VARIANT_IMPACT.collect {it}\n",
    "\n",
    "\n",
    "OutputCell.HIDDEN"
   ]
  },
  {
   "cell_type": "code",
   "execution_count": 4,
   "metadata": {},
   "outputs": [
    {
     "data": {
      "application/javascript": [
       "require.config({paths:{'plotly':'//cdn.plot.ly/plotly-latest.min'}});\n",
       "require(['plotly'], function(Plotly) {\n",
       "    window.Plotly = Plotly;\n",
       "});"
      ]
     },
     "execution_count": 4,
     "metadata": {},
     "output_type": "execute_result"
    }
   ],
   "source": [
    "%%javascript\n",
    "require.config({paths:{'plotly':'//cdn.plot.ly/plotly-latest.min'}});\n",
    "require(['plotly'], function(Plotly) {\n",
    "    window.Plotly = Plotly;\n",
    "});\n",
    "\n"
   ]
  },
  {
   "cell_type": "code",
   "execution_count": 5,
   "metadata": {},
   "outputs": [
    {
     "data": {
      "application/javascript": [
       "var values = [17, 4, 3, 72, 9, 6, 212, 3, 4, 0, 5],\n",
       "    totalNum = 335,\n",
       "    labels = beakerx.labels;\n",
       "console.log(beakerx.labels)\n",
       "beakerx.displayHTML(this, '<div id=\"plotlyDiv\"></div>');\n",
       "   \n",
       "    var totalNum = 0\n",
       "    for (var i =0 ; i < values.length; i++) {\n",
       "       totalNum +=values[i]\n",
       "    }\n",
       "    var data = [{\n",
       "        values: values,\n",
       "        labels: labels,\n",
       "        ids: labels,\n",
       "        // text: labels,\n",
       "        type: 'pie',\n",
       "        marker: {\n",
       "            colors: ['#ED8B00', '#333F48', '#A2AAAD', '#0085CA', '#9467bd', '#43B02A', '#002D72', '#7f7f7f', '#bcbd22', '#17becf', '#D0D3D4']\n",
       "        },\n",
       "        //hoverinfo: 'label+percent+name',\n",
       "        sort: false,\n",
       "        hole: .5\n",
       "    }];\n",
       "    var layout = {\n",
       "        font: {\n",
       "            family: 'Avenir',\n",
       "            size: 14\n",
       "        },\n",
       "        hovermode:'closest',\n",
       "        annotations: [\n",
       "            {\n",
       "                font: {\n",
       "                    size: 36\n",
       "                },\n",
       "                showarrow: false,\n",
       "                text: totalNum,\n",
       "                x: 0.5,\n",
       "                y: 0.5\n",
       "            }\n",
       "        ],\n",
       "        showlegend: true,\n",
       "        legend: {\n",
       "            itemclick: false,\n",
       "            itemdoubleclick: false\n",
       "        },\n",
       "        height: 450,\n",
       "        width: 550\n",
       "    }\n",
       "\n",
       "Plotly.newPlot('plotlyDiv', data, layout, {displayModeBar: false});"
      ]
     },
     "execution_count": 5,
     "metadata": {},
     "output_type": "execute_result"
    }
   ],
   "source": [
    "%%javascript\n",
    "var values = [17, 4, 3, 72, 9, 6, 212, 3, 4, 0, 5],\n",
    "    totalNum = 335,\n",
    "    labels = beakerx.labels;\n",
    "console.log(beakerx.labels)\n",
    "beakerx.displayHTML(this, '<div id=\"plotlyDiv\"></div>');\n",
    "   \n",
    "    var totalNum = 0\n",
    "    for (var i =0 ; i < values.length; i++) {\n",
    "       totalNum +=values[i]\n",
    "    }\n",
    "    var data = [{\n",
    "        values: values,\n",
    "        labels: labels,\n",
    "        ids: labels,\n",
    "        // text: labels,\n",
    "        type: 'pie',\n",
    "        marker: {\n",
    "            colors: ['#ED8B00', '#333F48', '#A2AAAD', '#0085CA', '#9467bd', '#43B02A', '#002D72', '#7f7f7f', '#bcbd22', '#17becf', '#D0D3D4']\n",
    "        },\n",
    "        //hoverinfo: 'label+percent+name',\n",
    "        sort: false,\n",
    "        hole: .5\n",
    "    }];\n",
    "    var layout = {\n",
    "        font: {\n",
    "            family: 'Avenir',\n",
    "            size: 14\n",
    "        },\n",
    "        hovermode:'closest',\n",
    "        annotations: [\n",
    "            {\n",
    "                font: {\n",
    "                    size: 36\n",
    "                },\n",
    "                showarrow: false,\n",
    "                text: totalNum,\n",
    "                x: 0.5,\n",
    "                y: 0.5\n",
    "            }\n",
    "        ],\n",
    "        showlegend: true,\n",
    "        legend: {\n",
    "            itemclick: false,\n",
    "            itemdoubleclick: false\n",
    "        },\n",
    "        height: 450,\n",
    "        width: 550\n",
    "    }\n",
    "\n",
    "Plotly.newPlot('plotlyDiv', data, layout, {displayModeBar: false});"
   ]
  },
  {
   "cell_type": "code",
   "execution_count": null,
   "metadata": {},
   "outputs": [],
   "source": []
  }
 ],
 "metadata": {
  "kernelspec": {
   "display_name": "Groovy",
   "language": "groovy",
   "name": "groovy"
  },
  "language_info": {
   "codemirror_mode": "groovy",
   "file_extension": ".groovy",
   "mimetype": "",
   "name": "Groovy",
   "nbconverter_exporter": "",
   "version": "2.4.3"
  },
  "toc": {
   "base_numbering": 1,
   "nav_menu": {},
   "number_sections": false,
   "sideBar": false,
   "skip_h1_title": false,
   "title_cell": "Table of Contents",
   "title_sidebar": "Contents",
   "toc_cell": false,
   "toc_position": {},
   "toc_section_display": false,
   "toc_window_display": false
  }
 },
 "nbformat": 4,
 "nbformat_minor": 2
}
