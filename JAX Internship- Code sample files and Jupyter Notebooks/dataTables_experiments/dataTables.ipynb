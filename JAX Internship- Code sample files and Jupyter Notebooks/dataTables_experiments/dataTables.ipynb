{
 "cells": [
  {
   "cell_type": "code",
   "execution_count": 30,
   "metadata": {
    "scrolled": true
   },
   "outputs": [
    {
     "data": {
      "text/html": [
       "<html>\n",
       "<!DOCTYPE html>\n",
       "<html>\n",
       "<head>\n",
       "    <link rel=\"stylesheet\" type=\"text/css\" href=\"https://cdn.datatables.net/1.10.19/css/jquery.dataTables.css\">\n",
       "\n",
       "    <title>Data Tables</title>\n",
       "</head>\n",
       "<body>\n",
       "    <table id=\"table_id\" class=\"table table-bordered table-hover table-striped basicDataTable gene_variant_tab_table\">\n",
       "    <thead>\n",
       "        <tr role=\"row\">\n",
       "            <th class=\"col-sm-1\">Variant</th>\n",
       "            <th class=\"col-sm-1\">Impact</th>\n",
       "            <th class=\"col-sm-2\">Protein Effect</th>\n",
       "            <th class=\"col-sm-8\">Variant Description</th>\n",
       "            <th class=\"col-sm-1\">Associated with drug Resistance</th>\n",
       "        </tr>\n",
       "    </thead>\n",
       "    <tbody>\n",
       "        <tr role=\"row\" class=\"odd\">\n",
       "            <td data-sort=\"000223S\" data-filter=\"P223S\">\n",
       "                <a href=\"/geneVariant/show?geneVariantId=26423\" class=\"btn btn-default btn-gene-variant\">P223S</a>\n",
       "            </td>\n",
       "            <td>fusion</td>\n",
       "            <td>unknown</td>\n",
       "            <td>ABL1 P223S does not lie within any </td>\n",
       "            <td>Y</td>\n",
       "        </tr>\n",
       "        <tr role=\"row\" class=\"odd\">\n",
       "            <td data-sort=\"000224S\" data-filter=\"P224S\">\n",
       "                <a href=\"/geneVariant/show?geneVariantId=26423\" class=\"btn btn-default btn-gene-variant\">P224S</a>\n",
       "            </td>\n",
       "            <td>fusion</td>\n",
       "            <td>unknown</td>\n",
       "            <td>ABL1 P224S does not lie within any </td>\n",
       "            <td>Y</td>\n",
       "        </tr>\n",
       "        <tr role=\"row\" class=\"even\">\n",
       "            <td data-sort=\"000237R\" data-filter=\"M237R\">\n",
       "                <a href=\"/geneVariant/show?geneVariantId=26423\" class=\"btn btn-default btn-gene-variant\">M237R</a>\n",
       "            </td>\n",
       "            <td>missense</td>\n",
       "            <td>unknown</td>\n",
       "            <td>ABL1 M237R does not lie within any </td>\n",
       "            <td>Y</td>\n",
       "        </tr>\n",
       "    </tbody>\n",
       "</table>\n",
       "</body>\n",
       "</html></html>"
      ]
     },
     "execution_count": 30,
     "metadata": {},
     "output_type": "execute_result"
    }
   ],
   "source": [
    "%%html\n",
    "\n",
    "<!DOCTYPE html>\n",
    "<html>\n",
    "<head>\n",
    "    <link rel=\"stylesheet\" type=\"text/css\" href=\"https://cdn.datatables.net/1.10.19/css/jquery.dataTables.css\">\n",
    "\n",
    "    <title>Data Tables</title>\n",
    "</head>\n",
    "<body>\n",
    "    <table id=\"table_id\" class=\"table table-bordered table-hover table-striped basicDataTable gene_variant_tab_table\">\n",
    "    <thead>\n",
    "        <tr role=\"row\">\n",
    "            <th class=\"col-sm-1\">Variant</th>\n",
    "            <th class=\"col-sm-1\">Impact</th>\n",
    "            <th class=\"col-sm-2\">Protein Effect</th>\n",
    "            <th class=\"col-sm-8\">Variant Description</th>\n",
    "            <th class=\"col-sm-1\">Associated with drug Resistance</th>\n",
    "        </tr>\n",
    "    </thead>\n",
    "    <tbody>\n",
    "        <tr role=\"row\" class=\"odd\">\n",
    "            <td data-sort=\"000223S\" data-filter=\"P223S\">\n",
    "                <a href=\"/geneVariant/show?geneVariantId=26423\" class=\"btn btn-default btn-gene-variant\">P223S</a>\n",
    "            </td>\n",
    "            <td>fusion</td>\n",
    "            <td>unknown</td>\n",
    "            <td>ABL1 P223S does not lie within any </td>\n",
    "            <td>Y</td>\n",
    "        </tr>\n",
    "        <tr role=\"row\" class=\"odd\">\n",
    "            <td data-sort=\"000224S\" data-filter=\"P224S\">\n",
    "                <a href=\"/geneVariant/show?geneVariantId=26423\" class=\"btn btn-default btn-gene-variant\">P224S</a>\n",
    "            </td>\n",
    "            <td>fusion</td>\n",
    "            <td>unknown</td>\n",
    "            <td>ABL1 P224S does not lie within any </td>\n",
    "            <td>Y</td>\n",
    "        </tr>\n",
    "        <tr role=\"row\" class=\"even\">\n",
    "            <td data-sort=\"000237R\" data-filter=\"M237R\">\n",
    "                <a href=\"/geneVariant/show?geneVariantId=26423\" class=\"btn btn-default btn-gene-variant\">M237R</a>\n",
    "            </td>\n",
    "            <td>missense</td>\n",
    "            <td>unknown</td>\n",
    "            <td>ABL1 M237R does not lie within any </td>\n",
    "            <td>Y</td>\n",
    "        </tr>\n",
    "    </tbody>\n",
    "</table>\n",
    "</body>\n",
    "</html>\n",
    "\n",
    "\n",
    "\n"
   ]
  },
  {
   "cell_type": "code",
   "execution_count": 32,
   "metadata": {},
   "outputs": [
    {
     "data": {
      "application/javascript": [
       "require.config({paths:{'dt':'//cdn.datatables.net/1.10.19/js/jquery.dataTables.min'}});\n",
       "require(['dt'], function(DataTable) {\n",
       "    window.DataTable = DataTable;\n",
       "});"
      ]
     },
     "execution_count": 32,
     "metadata": {},
     "output_type": "execute_result"
    }
   ],
   "source": [
    "%%javascript\n",
    "require.config({paths:{'dt':'//cdn.datatables.net/1.10.19/js/jquery.dataTables.min'}});\n",
    "require(['dt'], function(DataTable) {\n",
    "    window.DataTable = DataTable;\n",
    "});\n"
   ]
  },
  {
   "cell_type": "code",
   "execution_count": 33,
   "metadata": {},
   "outputs": [
    {
     "data": {
      "application/javascript": [
       "\n",
       "var table = $(\".gene_variant_tab_table\").DataTable()\n",
       "/*console.log(table)\n",
       "var res = table\n",
       "    .column( 1 )\n",
       "    .data()\n",
       "    .filter( function ( value, index ) {\n",
       "        return value === 'fusion' ? true : false;\n",
       "    } );\n",
       "\n",
       "console.log(res.length)\n",
       "console.log(table.column( 1 ).data())*/"
      ]
     },
     "execution_count": 33,
     "metadata": {},
     "output_type": "execute_result"
    }
   ],
   "source": [
    "%%javascript\n",
    "\n",
    "var table = $(\".gene_variant_tab_table\").DataTable()\n",
    "/*console.log(table)\n",
    "var res = table\n",
    "    .column( 1 )\n",
    "    .data()\n",
    "    .filter( function ( value, index ) {\n",
    "        return value === 'fusion' ? true : false;\n",
    "    } );\n",
    "\n",
    "console.log(res.length)\n",
    "console.log(table.column( 1 ).data())*/"
   ]
  },
  {
   "cell_type": "code",
   "execution_count": 34,
   "metadata": {},
   "outputs": [
    {
     "data": {
      "text/html": [
       "<html><table border='1'>\n",
       "    <tr>\n",
       "        <td><div id=\"plotlyHorizontalBar\"/></td><td><div id=\"plotlyPieChart\"/></td>\n",
       "    </tr>\n",
       "</table></html>"
      ]
     },
     "execution_count": 34,
     "metadata": {},
     "output_type": "execute_result"
    }
   ],
   "source": [
    "%%html\n",
    "<table border='1'>\n",
    "    <tr>\n",
    "        <td><div id=\"plotlyHorizontalBar\"/></td><td><div id=\"plotlyPieChart\"/></td>\n",
    "    </tr>\n",
    "</table>"
   ]
  },
  {
   "cell_type": "code",
   "execution_count": 35,
   "metadata": {},
   "outputs": [
    {
     "data": {
      "application/javascript": [
       "require.config({paths:{'plotly':'//cdn.plot.ly/plotly-latest.min'}});\n",
       "require(['plotly'], function(Plotly) {\n",
       "    window.Plotly = Plotly;\n",
       "});"
      ]
     },
     "execution_count": 35,
     "metadata": {},
     "output_type": "execute_result"
    }
   ],
   "source": [
    "%%javascript\n",
    "require.config({paths:{'plotly':'//cdn.plot.ly/plotly-latest.min'}});\n",
    "require(['plotly'], function(Plotly) {\n",
    "    window.Plotly = Plotly;\n",
    "});\n"
   ]
  },
  {
   "cell_type": "code",
   "execution_count": 36,
   "metadata": {},
   "outputs": [
    {
     "data": {
      "application/javascript": [
       "beakerx.displayHTML(this, '<div id=\"plotlyPieChart\"></div>');\n",
       "var data = [{\n",
       "  values: [77, 1, 2, 1, 3, 2, 3, 1],\n",
       "  labels: [\"missense\", \"insertion\", \"frameshift\", \"deletion\", \"none\", \"unknown\", \"nonsense\", \"fusion\"],\n",
       "  type: 'pie'\n",
       "}];\n",
       "\n",
       "var layout = {\n",
       "  height: 400,\n",
       "  width: 500\n",
       "};\n",
       "\n",
       "Plotly.newPlot('plotlyPieChart', data, layout);"
      ]
     },
     "execution_count": 36,
     "metadata": {},
     "output_type": "execute_result"
    }
   ],
   "source": [
    "%%javascript\n",
    "beakerx.displayHTML(this, '<div id=\"plotlyPieChart\"></div>');\n",
    "var data = [{\n",
    "  values: [77, 1, 2, 1, 3, 2, 3, 1],\n",
    "  labels: [\"missense\", \"insertion\", \"frameshift\", \"deletion\", \"none\", \"unknown\", \"nonsense\", \"fusion\"],\n",
    "  type: 'pie'\n",
    "}];\n",
    "\n",
    "var layout = {\n",
    "  height: 400,\n",
    "  width: 500\n",
    "};\n",
    "\n",
    "Plotly.newPlot('plotlyPieChart', data, layout);"
   ]
  },
  {
   "cell_type": "code",
   "execution_count": null,
   "metadata": {},
   "outputs": [],
   "source": []
  }
 ],
 "metadata": {
  "kernelspec": {
   "display_name": "Groovy",
   "language": "groovy",
   "name": "groovy"
  },
  "language_info": {
   "codemirror_mode": "groovy",
   "file_extension": ".groovy",
   "mimetype": "",
   "name": "Groovy",
   "nbconverter_exporter": "",
   "version": "2.4.3"
  },
  "toc": {
   "base_numbering": 1,
   "nav_menu": {},
   "number_sections": false,
   "sideBar": false,
   "skip_h1_title": false,
   "title_cell": "Table of Contents",
   "title_sidebar": "Contents",
   "toc_cell": false,
   "toc_position": {},
   "toc_section_display": false,
   "toc_window_display": false
  }
 },
 "nbformat": 4,
 "nbformat_minor": 2
}
