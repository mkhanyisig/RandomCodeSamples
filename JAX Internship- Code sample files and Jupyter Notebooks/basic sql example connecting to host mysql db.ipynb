{
 "cells": [
  {
   "cell_type": "code",
   "execution_count": null,
   "metadata": {},
   "outputs": [],
   "source": [
    "-- %defaultDatasource jdbc:mysql://docker.for.mac.localhost/ckb_utilities?user=ckb_utilities&password=ckb_utilities&useSSL=false&serverTimezone=UTC\n",
    "\n",
    "%defaultDatasource jdbc:mysql://localhost/ckb_utilities?user=ckb_utilities&password=ckb_utilities&useSSL=false&serverTimezone=UTC"
   ]
  },
  {
   "cell_type": "code",
   "execution_count": null,
   "metadata": {
    "scrolled": true
   },
   "outputs": [],
   "source": [
    "select gv.protein_effect, count(*)\n",
    "into ${foo}\n",
    "from gene g\n",
    "    join gene_variant gv on gv.gene_id = g.gene_id\n",
    "where g.gene_symbol = 'ABL1' \n",
    "group by gv.protein_effect"
   ]
  },
  {
   "cell_type": "code",
   "execution_count": null,
   "metadata": {},
   "outputs": [],
   "source": [
    "%%groovy\n",
    "println(beakerx.foo.values)\n",
    "proteinEffectList = beakerx.foo.values.collect{it[0]}\n",
    "println(proteinEffectList)\n",
    "counts = beakerx.foo.values.collect{Integer.valueOf(it[1])}\n",
    "println(counts)"
   ]
  },
  {
   "cell_type": "code",
   "execution_count": null,
   "metadata": {},
   "outputs": [],
   "source": [
    "%%groovy\n",
    "println(counts)\n",
    "def cplot = new CategoryPlot(initWidth: 1000, initHeight: 400, categoryNames: proteinEffectList)\n",
    "cplot << new CategoryBars(value: [counts])"
   ]
  },
  {
   "cell_type": "code",
   "execution_count": null,
   "metadata": {},
   "outputs": [],
   "source": [
    "select impact\n",
    "into ${impactListRs}\n",
    "from impact_list\n",
    "order by impact"
   ]
  },
  {
   "cell_type": "code",
   "execution_count": null,
   "metadata": {},
   "outputs": [],
   "source": [
    "select effect\n",
    "into ${effectListRs}\n",
    "from effect_list\n",
    "order by effect"
   ]
  },
  {
   "cell_type": "code",
   "execution_count": null,
   "metadata": {},
   "outputs": [],
   "source": [
    "%%groovy\n",
    "println(beakerx.impactListRs.values.flatten().findAll())\n",
    "println(beakerx.effectListRs.values.flatten().findAll())"
   ]
  }
 ],
 "metadata": {
  "kernelspec": {
   "display_name": "SQL",
   "language": "SQL",
   "name": "sql"
  },
  "language_info": {
   "codemirror_mode": "sql",
   "file_extension": ".sql",
   "mimetype": "",
   "name": "SQL",
   "nbconverter_exporter": "",
   "version": ""
  },
  "toc": {
   "base_numbering": 1,
   "nav_menu": {},
   "number_sections": false,
   "sideBar": false,
   "skip_h1_title": false,
   "title_cell": "Table of Contents",
   "title_sidebar": "Contents",
   "toc_cell": false,
   "toc_position": {},
   "toc_section_display": false,
   "toc_window_display": false
  }
 },
 "nbformat": 4,
 "nbformat_minor": 2
}
