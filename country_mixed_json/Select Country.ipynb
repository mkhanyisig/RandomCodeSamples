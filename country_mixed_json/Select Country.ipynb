{
 "cells": [
  {
   "cell_type": "code",
   "execution_count": 1,
   "metadata": {},
   "outputs": [],
   "source": [
    "# load libraries\n",
    "import pandas as pd\n",
    "import csv\n",
    "import json\n",
    "from IPython.display import display\n",
    "import time\n",
    "\n",
    "#Goal: Load combined GeoJSON and select all objects for country"
   ]
  },
  {
   "cell_type": "markdown",
   "metadata": {},
   "source": [
    "## Load JSON file and create object"
   ]
  },
  {
   "cell_type": "code",
   "execution_count": 2,
   "metadata": {},
   "outputs": [
    {
     "name": "stdout",
     "output_type": "stream",
     "text": [
      "****\n",
      "Testing \n",
      "****\n",
      "\n",
      "Total Locations:  306178\n",
      "\n",
      "Geometry:\n",
      " {'type': 'Point', 'coordinates': [-132.14344, 55.05612]}\n"
     ]
    }
   ],
   "source": [
    "with open('combined_USGS_43-101.json') as f:\n",
    "  json_obj = json.load(f)\n",
    "#print(type(json_obj))\n",
    "print(\"****\\nTesting \\n****\\n\")\n",
    "print(\"Total Locations: \",len(json_obj['features']))\n",
    "print(\"\\nGeometry:\\n\",json_obj['features'][0]['geometry'])"
   ]
  },
  {
   "cell_type": "code",
   "execution_count": 3,
   "metadata": {},
   "outputs": [
    {
     "name": "stdout",
     "output_type": "stream",
     "text": [
      "306178\n"
     ]
    }
   ],
   "source": [
    "feature_arr=json_obj['features']\n",
    "print(len(feature_arr))"
   ]
  },
  {
   "cell_type": "code",
   "execution_count": 5,
   "metadata": {},
   "outputs": [
    {
     "name": "stdout",
     "output_type": "stream",
     "text": [
      "{'type': 'Feature', 'properties': {'dep_id': 10000001, 'url': 'https://mrdata.usgs.gov/mrds/show-mrds.php?dep_id=10000001', 'mrds_id': 'A010000', 'mas_id': None, 'site_name': 'Lookout Prospect', 'latitude': 55.05612, 'longitude': -132.14344, 'region': None, 'country': 'United States', 'state': 'Alaska', 'county': None, 'com_type': 'M', 'commod1': 'Copper', 'commod2': 'Gold, Silver', 'commod3': None, 'oper_type': 'Unknown', 'dep_type': None, 'prod_size': 'N', 'dev_stat': 'Occurrence', 'ore': 'Chalcopyrite, Covellite, Pyrite', 'gangue': 'Quartz, Sericite', 'other_matl': None, 'orebody_fm': None, 'work_type': None, 'model': None, 'alteration': None, 'conc_proc': None, 'names': 'Conundrum, Mammoth, Wakefield Minerals Co.', 'ore_ctrl': None, 'reporter': 'Hirschmann, M. M. (Elliott, R. L.)', 'hrock_unit': None, 'hrock_type': 'Schist', 'arock_unit': None, 'arock_type': None, 'structure': 'Schist Strikes N65w, Dips 70sw', 'tectonic': None, 'ref': 'USGS PROFESSIONAL PAPER 1, P. 75-77.USGS BULL 347, P. 131.USGS BULL 1246, P. 174USGS MF 433USGS OF 78-869, P. 117', 'yfp_ba': None, 'yr_fst_prd': None, 'ylp_ba': None, 'yr_lst_prd': None, 'dy_ba': None, 'disc_yr': None, 'prod_yrs': None, 'discr': None, 'mineral_tags': ['copper', 'silver', 'gold'], 'report_type': 'usgs'}, 'geometry': {'type': 'Point', 'coordinates': [-132.14344, 55.05612]}}\n"
     ]
    }
   ],
   "source": [
    "print(feature_arr[0])"
   ]
  },
  {
   "cell_type": "markdown",
   "metadata": {},
   "source": [
    "### Build country objects"
   ]
  },
  {
   "cell_type": "code",
   "execution_count": 15,
   "metadata": {},
   "outputs": [
    {
     "name": "stdout",
     "output_type": "stream",
     "text": [
      "Result  4883\n",
      "USGS:  4763 \n",
      "43-101:  120\n"
     ]
    }
   ],
   "source": [
    "country_objs=[]\n",
    "usgs=0\n",
    "mineral=0\n",
    "for obj in feature_arr:\n",
    "    #print(obj[\"properties\"]['country'])\n",
    "    if(obj[\"properties\"]['country']==\"Mexico\"):\n",
    "        country_objs.append(obj)\n",
    "        if(obj[\"properties\"]['report_type']=='usgs'):\n",
    "            usgs+=1\n",
    "        elif(obj[\"properties\"]['report_type']=='43101'):\n",
    "            mineral+=1\n",
    "print(\"Result \",len(country_objs))\n",
    "print(\"USGS: \",usgs,\"\\n43-101: \",mineral)"
   ]
  },
  {
   "cell_type": "code",
   "execution_count": 16,
   "metadata": {},
   "outputs": [],
   "source": [
    "geojson_obj={}\n",
    "geojson_obj.update({\"type\":\"FeatureCollection\"})\n",
    "geojson_obj.update({\"features\":country_objs})"
   ]
  },
  {
   "cell_type": "code",
   "execution_count": 18,
   "metadata": {},
   "outputs": [],
   "source": [
    "output = open(\"mexico_mixed.json\", 'w')\n",
    "output.write(json.dumps(geojson_obj, indent=2))\n",
    "output.close()"
   ]
  },
  {
   "cell_type": "code",
   "execution_count": null,
   "metadata": {},
   "outputs": [],
   "source": []
  }
 ],
 "metadata": {
  "kernelspec": {
   "display_name": "Python 3",
   "language": "python",
   "name": "python3"
  },
  "language_info": {
   "codemirror_mode": {
    "name": "ipython",
    "version": 3
   },
   "file_extension": ".py",
   "mimetype": "text/x-python",
   "name": "python",
   "nbconvert_exporter": "python",
   "pygments_lexer": "ipython3",
   "version": "3.7.4"
  }
 },
 "nbformat": 4,
 "nbformat_minor": 2
}
